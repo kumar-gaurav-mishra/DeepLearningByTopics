{
 "cells": [
  {
   "cell_type": "code",
   "execution_count": 1,
   "metadata": {},
   "outputs": [],
   "source": [
    "# Imports\n",
    "import torch\n",
    "import torch.nn as nn\n",
    "import torch.nn.functional as F\n",
    "import numpy as np\n",
    "import pandas as pd\n",
    "import seaborn as sns\n",
    "import time\n",
    "import scipy.stats as stats\n",
    "from sklearn.model_selection import train_test_split\n",
    "from torch.utils.data import DataLoader, TensorDataset\n",
    "import matplotlib.pyplot as plt\n",
    "import matplotlib_inline.backend_inline as backend_inline\n",
    "\n",
    "backend_inline.set_matplotlib_formats(\"svg\")\n",
    "\n",
    "\n",
    "# Pytorch device specific configuration\n",
    "# Pytorch Gpu Configuration\n",
    "device = torch.device(\"cuda\" if torch.cuda.is_available() else \"cpu\")\n",
    "torch.set_default_device(device)\n",
    "\n",
    "# Font update global for all plots\n",
    "plt.rcParams.update({'font.size': 18})"
   ]
  },
  {
   "cell_type": "code",
   "execution_count": 5,
   "metadata": {},
   "outputs": [
    {
     "name": "stdout",
     "output_type": "stream",
     "text": [
      "      quality  boolQuality\n",
      "0           5            0\n",
      "1           5            0\n",
      "2           5            0\n",
      "3           6            1\n",
      "4           5            0\n",
      "...       ...          ...\n",
      "1594        5            0\n",
      "1595        6            1\n",
      "1596        6            1\n",
      "1597        5            0\n",
      "1598        6            1\n",
      "\n",
      "[1597 rows x 2 columns]\n"
     ]
    }
   ],
   "source": [
    "# import the data\n",
    "url = \"https://archive.ics.uci.edu/ml/machine-learning-databases/wine-quality/winequality-red.csv\"\n",
    "data = pd.read_csv(url, sep=\";\")\n",
    "data = data[data[\"total sulfur dioxide\"] < 200]  # drop a few outliers\n",
    "\n",
    "# z-score all columns except for quality\n",
    "cols2zscore = data.keys()\n",
    "cols2zscore = cols2zscore.drop(\"quality\")\n",
    "data[cols2zscore] = data[cols2zscore].apply(stats.zscore)\n",
    "\n",
    "# create a new column for binarized (boolean) quality\n",
    "data[\"boolQuality\"] = 0\n",
    "# data['boolQuality'][data['quality']<6] = 0 # implicit in the code! just here for clarity\n",
    "data.loc[data[\"quality\"] > 5, \"boolQuality\"] = 1\n",
    "\n",
    "print(data[[\"quality\", \"boolQuality\"]])"
   ]
  },
  {
   "cell_type": "code",
   "execution_count": 8,
   "metadata": {},
   "outputs": [
    {
     "data": {
      "text/plain": [
       "torch.Size([1597, 1])"
      ]
     },
     "execution_count": 8,
     "metadata": {},
     "output_type": "execute_result"
    }
   ],
   "source": [
    "# convert from pandas dataframe to tensor\n",
    "dataT = torch.tensor(data[cols2zscore].values).float()\n",
    "labels = torch.tensor(data[\"boolQuality\"].values).float()\n",
    "# transform to matrix\n",
    "labels = labels.reshape(labels.shape[0], 1)\n",
    "labels.shape"
   ]
  },
  {
   "cell_type": "code",
   "execution_count": 9,
   "metadata": {},
   "outputs": [],
   "source": [
    "# use scikitlearn to split the data\n",
    "train_data, test_data, train_labels, test_labels = train_test_split(\n",
    "    dataT, labels, test_size=0.1\n",
    ")\n",
    "\n",
    "# then convert them into PyTorch Datasets (note: already converted to tensors)\n",
    "train_data = TensorDataset(train_data, train_labels)\n",
    "test_data = TensorDataset(test_data, test_labels)\n",
    "\n",
    "# finally, translate into dataloader objects\n",
    "batchsize = 32\n",
    "train_loader = DataLoader(\n",
    "    train_data, batch_size=batchsize, shuffle=True, drop_last=True, generator=torch.Generator(device)\n",
    ")\n",
    "test_loader = DataLoader(test_data, batch_size=test_data.tensors[0].shape[0], generator=torch.Generator(device))"
   ]
  },
  {
   "cell_type": "code",
   "execution_count": 10,
   "metadata": {},
   "outputs": [],
   "source": [
    "# Class to create a model\n",
    "class ANNwine(nn.Module):\n",
    "    def __init__(self, actfun):\n",
    "        super().__init__()\n",
    "        self.actfun = actfun\n",
    "\n",
    "        #### Layers\n",
    "        #Input\n",
    "        self.input = nn.Linear(11, 32)\n",
    "\n",
    "        # Hidden\n",
    "        self.fc1 = nn.Linear(32, 64)\n",
    "        self.fc2 = nn.Linear(64, 64)\n",
    "        \n",
    "        # Output\n",
    "        self.output = nn.Linear(64, 1)\n",
    "        \n",
    "        # Forward Function\n",
    "    def forward(self, x):\n",
    "\n",
    "        actFun = getattr(torch, self.actfun)\n",
    "        \n",
    "        x = actFun(self.input(x))\n",
    "        x = actFun(self.fc1(x))\n",
    "        x = actFun(self.fc2(x))\n",
    "\n",
    "        return self.output(x)"
   ]
  },
  {
   "cell_type": "code",
   "execution_count": null,
   "metadata": {},
   "outputs": [],
   "source": []
  }
 ],
 "metadata": {
  "kernelspec": {
   "display_name": "base",
   "language": "python",
   "name": "python3"
  },
  "language_info": {
   "codemirror_mode": {
    "name": "ipython",
    "version": 3
   },
   "file_extension": ".py",
   "mimetype": "text/x-python",
   "name": "python",
   "nbconvert_exporter": "python",
   "pygments_lexer": "ipython3",
   "version": "3.12.7"
  }
 },
 "nbformat": 4,
 "nbformat_minor": 2
}
