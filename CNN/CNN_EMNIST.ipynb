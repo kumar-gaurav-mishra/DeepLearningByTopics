{
 "cells": [
  {
   "cell_type": "code",
   "execution_count": 1,
   "id": "0e9ae77e",
   "metadata": {},
   "outputs": [],
   "source": [
    "# Imports\n",
    "import numpy as np\n",
    "\n",
    "import torch\n",
    "import torch.nn as nn\n",
    "import torch.nn.functional as F\n",
    "\n",
    "\n",
    "from sklearn.model_selection import train_test_split\n",
    "from torch.utils.data import DataLoader, TensorDataset\n",
    "\n",
    "from torchsummary import summary\n",
    "import torchvision as tv\n",
    "\n",
    "import matplotlib.pyplot as plt\n",
    "import matplotlib_inline.backend_inline as backend_inline\n",
    "\n",
    "backend_inline.set_matplotlib_formats(\"svg\")\n",
    "\n",
    "\n",
    "#### Pytorch device specific configuration ###\n",
    "\n",
    "# # Pytorch Gpu Configuration for Cuda\n",
    "device = torch.device(\"cuda\" if torch.cuda.is_available() else \"cpu\")\n",
    "\n",
    "# Pytorch Gpu Configuration for directml(AMD GPU)\n",
    "# import torch_directml\n",
    "\n",
    "# device = torch_directml.device()\n",
    "\n",
    "# Set default device\n",
    "torch.set_default_device(device)"
   ]
  },
  {
   "cell_type": "code",
   "execution_count": 3,
   "id": "e66e96f1",
   "metadata": {},
   "outputs": [],
   "source": [
    "# Download the data from torchvision\n",
    "cdata = tv.datasets.EMNIST(root='emnist', split='letters', download=True)"
   ]
  },
  {
   "cell_type": "code",
   "execution_count": 4,
   "id": "00b5d870",
   "metadata": {},
   "outputs": [
    {
     "name": "stdout",
     "output_type": "stream",
     "text": [
      "['N/A', 'a', 'b', 'c', 'd', 'e', 'f', 'g', 'h', 'i', 'j', 'k', 'l', 'm', 'n', 'o', 'p', 'q', 'r', 's', 't', 'u', 'v', 'w', 'x', 'y', 'z']\n",
      "27 classes\n",
      "\n",
      "Data size:\n",
      "torch.Size([124800, 28, 28])\n",
      "\n",
      "Tensor data:\n",
      "torch.Size([124800, 1, 28, 28])\n"
     ]
    }
   ],
   "source": [
    "# inspect the data\n",
    "\n",
    "# the categories (but how many letters??)\n",
    "print(cdata.classes)\n",
    "print(str(len(cdata.classes)) + \" classes\")\n",
    "\n",
    "print(\"\\nData size:\")\n",
    "print(cdata.data.shape)\n",
    "\n",
    "# transform to 4D tensor for conv layers (and transform from int8 to float)\n",
    "images = cdata.data.view([124800, 1, 28, 28]).float()\n",
    "print(\"\\nTensor data:\")\n",
    "print(images.shape)"
   ]
  },
  {
   "cell_type": "code",
   "execution_count": null,
   "id": "23a63d49",
   "metadata": {},
   "outputs": [],
   "source": []
  }
 ],
 "metadata": {
  "kernelspec": {
   "display_name": "base",
   "language": "python",
   "name": "python3"
  },
  "language_info": {
   "codemirror_mode": {
    "name": "ipython",
    "version": 3
   },
   "file_extension": ".py",
   "mimetype": "text/x-python",
   "name": "python",
   "nbconvert_exporter": "python",
   "pygments_lexer": "ipython3",
   "version": "3.12.7"
  }
 },
 "nbformat": 4,
 "nbformat_minor": 5
}
