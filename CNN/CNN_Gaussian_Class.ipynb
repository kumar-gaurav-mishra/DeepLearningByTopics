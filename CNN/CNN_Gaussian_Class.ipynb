{
 "cells": [
  {
   "cell_type": "code",
   "execution_count": 1,
   "id": "d7415123",
   "metadata": {},
   "outputs": [],
   "source": [
    "# Imports\n",
    "import torch\n",
    "import torch.nn as nn\n",
    "import torch.nn.functional as F\n",
    "\n",
    "import numpy as np\n",
    "import matplotlib.pyplot as plt\n",
    "from sklearn.model_selection import train_test_split\n",
    "from torch.utils.data import DataLoader, TensorDataset\n",
    "import matplotlib_inline.backend_inline as backend_inline\n",
    "from torchsummary import summary\n",
    "\n",
    "backend_inline.set_matplotlib_formats(\"svg\")\n",
    "\n",
    "\n",
    "#### Pytorch device specific configuration ###\n",
    "# # Pytorch Gpu Configuration for Cuda\n",
    "device = torch.device(\"cuda\" if torch.cuda.is_available() else \"cpu\")\n",
    "\n",
    "# Pytorch Gpu Configuration for directml(AMD GPU)\n",
    "# import torch_directml\n",
    "\n",
    "# device = torch_directml.device()\n",
    "\n",
    "# Set default device\n",
    "torch.set_default_device(device)"
   ]
  },
  {
   "cell_type": "code",
   "execution_count": null,
   "id": "a9b1eece",
   "metadata": {},
   "outputs": [
    {
     "name": "stdout",
     "output_type": "stream",
     "text": [
      "images.shape: torch.Size([2000, 1, 91, 91]) labels.shape: torch.Size([2000, 1])\n"
     ]
    }
   ],
   "source": [
    "# Create the Dataset\n",
    "nPerClass = 1000  # Number of samples per class\n",
    "imgSize = 91  # Image size (91x91)\n",
    "\n",
    "x = np.linspace(-4, 4, imgSize)\n",
    "# print(\"x.shape:\", x.shape)\n",
    "X, Y = np.meshgrid(x, x)\n",
    "# print(\"X.shape:\", X.shape, \"Y.shape:\", Y.shape)\n",
    "# print(Y)\n",
    "# The Two widths (Arbetary Units)\n",
    "widths = [1.8, 2.4]\n",
    "\n",
    "# Initialize tensors containing images and labels\n",
    "images = torch.zeros(2 * nPerClass, 1, imgSize, imgSize)  # Zeros in the right shape\n",
    "labels = torch.zeros(2 * nPerClass)  # Zeros in the right shape\n",
    "\n",
    "# Generate the images\n",
    "\n",
    "for i in range(2 * nPerClass):\n",
    "    # Create the gaussian with random center\n",
    "    ro = 2 * np.random.randn(2)  # ro = randome offset\n",
    "    G = np.exp(-((X - ro[0]) ** 2 + (Y - ro[1]) ** 2) / (2 * widths[i % 2] ** 2))\n",
    "\n",
    "    # Add the noise\n",
    "    G = G + np.random.randn(imgSize, imgSize) / 5\n",
    "\n",
    "    # Add to tensor\n",
    "    images[i, :, :, :] = torch.tensor(G).view(1, imgSize, imgSize)\n",
    "    labels[i] = i % 2\n",
    "\n",
    "labels = labels.reshape(-1, 1)  # Reshape labels to be a column vector\n",
    "print(\"images.shape:\", images.shape, \"labels.shape:\", labels.shape)"
   ]
  },
  {
   "cell_type": "code",
   "execution_count": null,
   "id": "99ce9298",
   "metadata": {},
   "outputs": [],
   "source": []
  }
 ],
 "metadata": {
  "kernelspec": {
   "display_name": "base",
   "language": "python",
   "name": "python3"
  },
  "language_info": {
   "codemirror_mode": {
    "name": "ipython",
    "version": 3
   },
   "file_extension": ".py",
   "mimetype": "text/x-python",
   "name": "python",
   "nbconvert_exporter": "python",
   "pygments_lexer": "ipython3",
   "version": "3.12.7"
  }
 },
 "nbformat": 4,
 "nbformat_minor": 5
}
