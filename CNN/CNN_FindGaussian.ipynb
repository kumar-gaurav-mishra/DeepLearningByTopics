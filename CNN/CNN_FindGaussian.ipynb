{
 "cells": [
  {
   "cell_type": "code",
   "execution_count": 2,
   "id": "e6b31abc",
   "metadata": {},
   "outputs": [],
   "source": [
    "# Imports\n",
    "import numpy as np\n",
    "\n",
    "import torch\n",
    "import torch.nn as nn\n",
    "import torch.nn.functional as F\n",
    "\n",
    "\n",
    "import matplotlib.pyplot as plt\n",
    "from sklearn.model_selection import train_test_split\n",
    "from torch.utils.data import DataLoader, TensorDataset\n",
    "import matplotlib_inline.backend_inline as backend_inline\n",
    "from torchsummary import summary\n",
    "\n",
    "backend_inline.set_matplotlib_formats(\"svg\")\n",
    "\n",
    "\n",
    "#### Pytorch device specific configuration ###\n",
    "\n",
    "# # Pytorch Gpu Configuration for Cuda\n",
    "device = torch.device(\"cuda\" if torch.cuda.is_available() else \"cpu\")\n",
    "\n",
    "# Pytorch Gpu Configuration for directml(AMD GPU)\n",
    "# import torch_directml\n",
    "\n",
    "# device = torch_directml.device()\n",
    "\n",
    "# Set default device\n",
    "torch.set_default_device(device)"
   ]
  },
  {
   "cell_type": "code",
   "execution_count": 3,
   "id": "3e859e7b",
   "metadata": {},
   "outputs": [],
   "source": [
    "# Create Gaussian blurs with different widths\n",
    "nGauss = 1000\n",
    "imgSize = 91\n",
    "\n",
    "x = np.linspace(-4, 4, imgSize)\n",
    "X, Y = np.meshgrid(x, x)\n",
    "\n",
    "# Initialize tensors containing images and labels\n",
    "images = torch.zeros(nGauss, 1, imgSize, imgSize)\n",
    "labels = torch.zeros(nGauss, 3)\n",
    "\n",
    "for i in range(nGauss):\n",
    "    # Location and width parameters\n",
    "    loc = np.max(x)/2 * np.random.randn(2) # Center co-ordinate\n",
    "    wid = np.random.rand()*10 + 5 # width of the Gaussian\n",
    "\n",
    "    # Create the Gaussian with random center\n",
    "    G = np.exp(-((X - loc[0])**2 + (Y-loc[1])**2) / wid)\n",
    "    G = G + np.random.randn(imgSize, imgSize)/10\n",
    "\n",
    "    # Add to the tensors\n",
    "    images[i, :, :, :] = torch.Tensor(G).view(1, imgSize, imgSize)\n",
    "    labels[i, :] = torch.Tensor([loc[0], loc[1], wid])\n"
   ]
  },
  {
   "cell_type": "code",
   "execution_count": null,
   "id": "47162022",
   "metadata": {},
   "outputs": [],
   "source": []
  }
 ],
 "metadata": {
  "kernelspec": {
   "display_name": "base",
   "language": "python",
   "name": "python3"
  },
  "language_info": {
   "codemirror_mode": {
    "name": "ipython",
    "version": 3
   },
   "file_extension": ".py",
   "mimetype": "text/x-python",
   "name": "python",
   "nbconvert_exporter": "python",
   "pygments_lexer": "ipython3",
   "version": "3.12.7"
  }
 },
 "nbformat": 4,
 "nbformat_minor": 5
}
