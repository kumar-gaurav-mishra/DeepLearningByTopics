{
 "cells": [
  {
   "cell_type": "markdown",
   "id": "01f0c3c1",
   "metadata": {},
   "source": [
    "#### Library Imports"
   ]
  },
  {
   "cell_type": "code",
   "execution_count": 7,
   "id": "ab235f63",
   "metadata": {},
   "outputs": [],
   "source": [
    "# Imports\n",
    "import torch\n",
    "import torch.nn as nn\n",
    "import torch.nn.functional as F\n",
    "\n",
    "import numpy as np\n",
    "import matplotlib.pyplot as plt\n",
    "from sklearn.model_selection import train_test_split\n",
    "from torch.utils.data import DataLoader, TensorDataset\n",
    "import matplotlib_inline.backend_inline as backend_inline\n",
    "from torchsummary import summary\n",
    "backend_inline.set_matplotlib_formats(\"svg\")\n",
    "\n",
    "\n",
    "#### Pytorch device specific configuration ###\n",
    "# # Pytorch Gpu Configuration for Cuda\n",
    "device = torch.device(\"cuda\" if torch.cuda.is_available() else \"cpu\")\n",
    "\n",
    "# Pytorch Gpu Configuration for directml(AMD GPU)\n",
    "# import torch_directml\n",
    "\n",
    "# device = torch_directml.device()\n",
    "\n",
    "# Set default device\n",
    "torch.set_default_device(device)"
   ]
  },
  {
   "cell_type": "markdown",
   "id": "e6cbfd85",
   "metadata": {},
   "source": [
    "#### Data Import and Data Normalization"
   ]
  },
  {
   "cell_type": "code",
   "execution_count": 8,
   "id": "a7d3bb38",
   "metadata": {},
   "outputs": [
    {
     "name": "stdout",
     "output_type": "stream",
     "text": [
      "Data shape: (20000, 784) \n",
      "Labels shape: (20000,)\n",
      "Data final shape: (20000, 1, 28, 28)\n"
     ]
    }
   ],
   "source": [
    "# Import Dataset\n",
    "data = np.loadtxt(\"../Datasets/mnist_train_small.csv\", delimiter=\",\")\n",
    "\n",
    "# Extract data and labels\n",
    "labels = data[:, 0]\n",
    "data = data[:, 1:]\n",
    "print(\"Data shape:\", data.shape, \"\\nLabels shape:\", labels.shape)\n",
    "\n",
    "# Data normalization\n",
    "dataNorm = data / np.max(data)\n",
    "\n",
    "# Reshape the data to 2D\n",
    "dataNorm = dataNorm.reshape(dataNorm.shape[0], 1, 28, 28)\n",
    "\n",
    "# Print data final shape\n",
    "print(\"Data final shape:\", dataNorm.shape)"
   ]
  },
  {
   "cell_type": "markdown",
   "id": "e2f961a5",
   "metadata": {},
   "source": [
    "#### Create Train/Test groups using dataloaders"
   ]
  },
  {
   "cell_type": "code",
   "execution_count": 9,
   "id": "d3a298ea",
   "metadata": {},
   "outputs": [],
   "source": [
    "# Step 1: Convert data into tensors\n",
    "dataT = torch.tensor(dataNorm).float()\n",
    "labelsT = torch.tensor(labels).long()\n",
    "\n",
    "# Step 2: Train and Test split\n",
    "train_data, test_data, train_labels, test_labels = train_test_split(dataT, labelsT, test_size=0.1)\n",
    "\n",
    "# Step 3: Convert data into PyTorch Datasets\n",
    "train_data = TensorDataset(train_data, train_labels)\n",
    "test_data = TensorDataset(test_data, test_labels)\n",
    "\n",
    "# Step 4: Create DataLoaders for Train and Test sets\n",
    "batch_size = 32\n",
    "train_loader = DataLoader(train_data, batch_size=batch_size, shuffle=True, drop_last=True, generator=torch.Generator(device=device))\n",
    "test_loader = DataLoader(test_data, batch_size=test_data.tensors[0].shape[0], shuffle=False, drop_last=False, generator=torch.Generator(device=device))"
   ]
  },
  {
   "cell_type": "code",
   "execution_count": 10,
   "id": "3df1f29e",
   "metadata": {},
   "outputs": [
    {
     "data": {
      "text/plain": [
       "(torch.Size([18000, 1, 28, 28]), torch.Size([2000, 1, 28, 28]))"
      ]
     },
     "execution_count": 10,
     "metadata": {},
     "output_type": "execute_result"
    }
   ],
   "source": [
    "# Check the shape of the data in the DataLoader\n",
    "train_loader.dataset.tensors[0].shape, test_loader.dataset.tensors[0].shape"
   ]
  },
  {
   "cell_type": "code",
   "execution_count": null,
   "id": "c2791929",
   "metadata": {},
   "outputs": [],
   "source": []
  }
 ],
 "metadata": {
  "kernelspec": {
   "display_name": "base",
   "language": "python",
   "name": "python3"
  },
  "language_info": {
   "codemirror_mode": {
    "name": "ipython",
    "version": 3
   },
   "file_extension": ".py",
   "mimetype": "text/x-python",
   "name": "python",
   "nbconvert_exporter": "python",
   "pygments_lexer": "ipython3",
   "version": "3.12.7"
  }
 },
 "nbformat": 4,
 "nbformat_minor": 5
}
