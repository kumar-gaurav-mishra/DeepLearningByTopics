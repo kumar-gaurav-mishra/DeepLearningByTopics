{
 "cells": [
  {
   "cell_type": "markdown",
   "id": "01f0c3c1",
   "metadata": {},
   "source": [
    "#### Library Imports"
   ]
  },
  {
   "cell_type": "code",
   "execution_count": 1,
   "id": "ab235f63",
   "metadata": {},
   "outputs": [],
   "source": [
    "# Imports\n",
    "import torch\n",
    "import torch.nn as nn\n",
    "import torch.nn.functional as F\n",
    "\n",
    "import numpy as np\n",
    "import matplotlib.pyplot as plt\n",
    "from sklearn.model_selection import train_test_split\n",
    "from torch.utils.data import DataLoader, TensorDataset\n",
    "import matplotlib_inline.backend_inline as backend_inline\n",
    "from torchsummary import summary\n",
    "backend_inline.set_matplotlib_formats(\"svg\")\n",
    "\n",
    "\n",
    "#### Pytorch device specific configuration ###\n",
    "# # Pytorch Gpu Configuration for Cuda\n",
    "device = torch.device(\"cuda\" if torch.cuda.is_available() else \"cpu\")\n",
    "\n",
    "# Pytorch Gpu Configuration for directml(AMD GPU)\n",
    "# import torch_directml\n",
    "\n",
    "# device = torch_directml.device()\n",
    "\n",
    "# Set default device\n",
    "torch.set_default_device(device)"
   ]
  },
  {
   "cell_type": "markdown",
   "id": "e6cbfd85",
   "metadata": {},
   "source": [
    "#### Data Import and Data Normalization"
   ]
  },
  {
   "cell_type": "code",
   "execution_count": 2,
   "id": "a7d3bb38",
   "metadata": {},
   "outputs": [
    {
     "name": "stdout",
     "output_type": "stream",
     "text": [
      "Data shape: (20000, 784) \n",
      "Labels shape: (20000,)\n",
      "Data final shape: (20000, 1, 28, 28)\n"
     ]
    }
   ],
   "source": [
    "# Import Dataset\n",
    "data = np.loadtxt(\"../Datasets/mnist_train_small.csv\", delimiter=\",\")\n",
    "\n",
    "# Extract data and labels\n",
    "labels = data[:, 0]\n",
    "data = data[:, 1:]\n",
    "print(\"Data shape:\", data.shape, \"\\nLabels shape:\", labels.shape)\n",
    "\n",
    "# Data normalization\n",
    "dataNorm = data / np.max(data)\n",
    "\n",
    "# Reshape the data to 2D\n",
    "dataNorm = dataNorm.reshape(dataNorm.shape[0], 1, 28, 28)\n",
    "\n",
    "# Print data final shape\n",
    "print(\"Data final shape:\", dataNorm.shape)"
   ]
  },
  {
   "cell_type": "markdown",
   "id": "e2f961a5",
   "metadata": {},
   "source": [
    "#### Create Train/Test groups using dataloaders"
   ]
  },
  {
   "cell_type": "code",
   "execution_count": 3,
   "id": "d3a298ea",
   "metadata": {},
   "outputs": [],
   "source": [
    "# Step 1: Convert data into tensors\n",
    "dataT = torch.tensor(dataNorm).float()\n",
    "labelsT = torch.tensor(labels).long()\n",
    "\n",
    "# Step 2: Train and Test split\n",
    "train_data, test_data, train_labels, test_labels = train_test_split(dataT, labelsT, test_size=0.1)\n",
    "\n",
    "# Step 3: Convert data into PyTorch Datasets\n",
    "train_data = TensorDataset(train_data, train_labels)\n",
    "test_data = TensorDataset(test_data, test_labels)\n",
    "\n",
    "# Step 4: Create DataLoaders for Train and Test sets\n",
    "batch_size = 32\n",
    "train_loader = DataLoader(train_data, batch_size=batch_size, shuffle=True, drop_last=True, generator=torch.Generator(device=device))\n",
    "test_loader = DataLoader(test_data, batch_size=test_data.tensors[0].shape[0], shuffle=False, drop_last=False, generator=torch.Generator(device=device))"
   ]
  },
  {
   "cell_type": "code",
   "execution_count": 4,
   "id": "3df1f29e",
   "metadata": {},
   "outputs": [
    {
     "data": {
      "text/plain": [
       "(torch.Size([18000, 1, 28, 28]), torch.Size([2000, 1, 28, 28]))"
      ]
     },
     "execution_count": 4,
     "metadata": {},
     "output_type": "execute_result"
    }
   ],
   "source": [
    "# Check the shape of the data in the DataLoader\n",
    "train_loader.dataset.tensors[0].shape, test_loader.dataset.tensors[0].shape"
   ]
  },
  {
   "cell_type": "markdown",
   "id": "60a481a1",
   "metadata": {},
   "source": [
    "#### Create Deep Learning Model"
   ]
  },
  {
   "cell_type": "code",
   "execution_count": 6,
   "id": "c2791929",
   "metadata": {},
   "outputs": [],
   "source": [
    "# Define a function to create a CNN model using class\n",
    "def create_cnn_model(printToggle=False):\n",
    "    class MNIST_CNN_Model(nn.Module):\n",
    "        def __init__(self, printToggle):\n",
    "            super().__init__()\n",
    "            self.print = printToggle\n",
    "\n",
    "            # Convolutional layers\n",
    "            self.conv1 = nn.Conv2d(1, 10, kernel_size=5, stride=1, padding=1)\n",
    "            # Size = np.floor((28 - 5 + 2 * 1) / 1) + 1 = 26/2 = 13 (/2 b/c max pool)\n",
    "            self.conv2 = nn.Conv2d(10, 20, kernel_size=5, stride=1, padding=1)\n",
    "            # Size = np.floor((13+2*1-5) / 1) = 11/2 = 5 (/2 b/c max pool)\n",
    "\n",
    "            # Fully connected layers\n",
    "            expected_size = np.floor((5 + 2 * 0 -1)/1) + 1\n",
    "            expected_size = 20 * int(expected_size ** 2)\n",
    "\n",
    "            self.fc1 = nn.Linear(expected_size, 50)\n",
    "\n",
    "            # Output layer\n",
    "            self.out = nn.Linear(50, 10)\n",
    "\n",
    "        # Forward Pass\n",
    "        def forward(self, x):\n",
    "\n",
    "            print(f'Input: {x.shape}') if self.print else None\n",
    "            # Convolution 1 -> Maxpool -> ReLU\n",
    "            x = F.relu(F.max_pool2d(self.conv1(x), 2))\n",
    "            print(f'After Conv1: {x.shape}') if self.print else None\n",
    "\n",
    "            # Convolution 2 -> Maxpool -> ReLU\n",
    "            x = F.relu(F.max_pool2d(self.conv2(x), 2))\n",
    "            print(f'After Conv2: {x.shape}') if self.print else None\n",
    "\n",
    "            # Reshape for Linear layer\n",
    "            nUnits = x.shape.numel() / x.shape[0]\n",
    "            x = x.view(-1, int(nUnits))\n",
    "            print(f'After vectorization: {x.shape}') if self.print else None\n",
    "\n",
    "            # Liniear layers -> ReLU\n",
    "            x = F.relu(self.fc1(x))\n",
    "            print(f'After FC1: {x.shape}') if self.print else None\n",
    "            # Output layer\n",
    "            x = self.out(x)\n",
    "            print(f'Output: {x.shape}') if self.print else None\n",
    "\n",
    "            return x\n",
    "\n",
    "    # Create model instance\n",
    "    net = MNIST_CNN_Model(printToggle=printToggle)\n",
    "\n",
    "    # Loss Funtion\n",
    "    lossFun = nn.CrossEntropyLoss()\n",
    "\n",
    "    # Optimizer\n",
    "    optimizer = torch.optim.Adam(net.parameters(), lr=0.001)\n",
    "\n",
    "    return net, lossFun, optimizer"
   ]
  },
  {
   "cell_type": "code",
   "execution_count": null,
   "id": "de0dd6e6",
   "metadata": {},
   "outputs": [],
   "source": []
  }
 ],
 "metadata": {
  "kernelspec": {
   "display_name": "base",
   "language": "python",
   "name": "python3"
  },
  "language_info": {
   "codemirror_mode": {
    "name": "ipython",
    "version": 3
   },
   "file_extension": ".py",
   "mimetype": "text/x-python",
   "name": "python",
   "nbconvert_exporter": "python",
   "pygments_lexer": "ipython3",
   "version": "3.12.7"
  }
 },
 "nbformat": 4,
 "nbformat_minor": 5
}
