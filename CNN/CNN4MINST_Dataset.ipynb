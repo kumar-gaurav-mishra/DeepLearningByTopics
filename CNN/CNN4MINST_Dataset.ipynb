{
 "cells": [
  {
   "cell_type": "code",
   "execution_count": 1,
   "id": "ab235f63",
   "metadata": {},
   "outputs": [],
   "source": [
    "# Imports\n",
    "import torch\n",
    "import torch.nn as nn\n",
    "import torch.nn.functional as F\n",
    "\n",
    "import numpy as np\n",
    "import matplotlib.pyplot as plt\n",
    "\n",
    "import matplotlib_inline.backend_inline as backend_inline\n",
    "\n",
    "backend_inline.set_matplotlib_formats(\"svg\")\n",
    "\n",
    "\n",
    "#### Pytorch device specific configuration ###\n",
    "# # Pytorch Gpu Configuration for Cuda\n",
    "device = torch.device(\"cuda\" if torch.cuda.is_available() else \"cpu\")\n",
    "\n",
    "# Pytorch Gpu Configuration for directml(AMD GPU)\n",
    "# import torch_directml\n",
    "\n",
    "# device = torch_directml.device()\n",
    "\n",
    "# Set default device\n",
    "torch.set_default_device(device)"
   ]
  },
  {
   "cell_type": "code",
   "execution_count": 5,
   "id": "a7d3bb38",
   "metadata": {},
   "outputs": [
    {
     "name": "stdout",
     "output_type": "stream",
     "text": [
      "Data shape: (20000, 784) \n",
      "Labels shape: (20000,)\n",
      "Data final shape: (20000, 1, 28, 28)\n"
     ]
    }
   ],
   "source": [
    "# Import Dataset\n",
    "data = np.loadtxt(\"../Datasets/mnist_train_small.csv\", delimiter=\",\")\n",
    "\n",
    "# Extract data and labels\n",
    "labels = data[:, 0]\n",
    "data = data[:, 1:]\n",
    "print(\"Data shape:\", data.shape, \"\\nLabels shape:\", labels.shape)\n",
    "\n",
    "# Data normalization\n",
    "dataNorm = data / np.max(data)\n",
    "\n",
    "# Reshape the data to 2D\n",
    "dataNorm = dataNorm.reshape(dataNorm.shape[0], 1, 28, 28)\n",
    "\n",
    "# Print data final shape\n",
    "print(\"Data final shape:\", dataNorm.shape)"
   ]
  },
  {
   "cell_type": "code",
   "execution_count": null,
   "id": "f058cd57",
   "metadata": {},
   "outputs": [],
   "source": []
  }
 ],
 "metadata": {
  "kernelspec": {
   "display_name": "base",
   "language": "python",
   "name": "python3"
  },
  "language_info": {
   "codemirror_mode": {
    "name": "ipython",
    "version": 3
   },
   "file_extension": ".py",
   "mimetype": "text/x-python",
   "name": "python",
   "nbconvert_exporter": "python",
   "pygments_lexer": "ipython3",
   "version": "3.12.7"
  }
 },
 "nbformat": 4,
 "nbformat_minor": 5
}
