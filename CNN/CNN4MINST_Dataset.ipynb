{
 "cells": [
  {
   "cell_type": "markdown",
   "id": "01f0c3c1",
   "metadata": {},
   "source": [
    "#### Library Imports"
   ]
  },
  {
   "cell_type": "code",
   "execution_count": 9,
   "id": "ab235f63",
   "metadata": {},
   "outputs": [],
   "source": [
    "# Imports\n",
    "import torch\n",
    "import torch.nn as nn\n",
    "import torch.nn.functional as F\n",
    "\n",
    "import numpy as np\n",
    "import matplotlib.pyplot as plt\n",
    "from sklearn.model_selection import train_test_split\n",
    "from torch.utils.data import DataLoader, TensorDataset\n",
    "import matplotlib_inline.backend_inline as backend_inline\n",
    "from torchsummary import summary\n",
    "backend_inline.set_matplotlib_formats(\"svg\")\n",
    "\n",
    "\n",
    "#### Pytorch device specific configuration ###\n",
    "# # Pytorch Gpu Configuration for Cuda\n",
    "device = torch.device(\"cuda\" if torch.cuda.is_available() else \"cpu\")\n",
    "\n",
    "# Pytorch Gpu Configuration for directml(AMD GPU)\n",
    "# import torch_directml\n",
    "\n",
    "# device = torch_directml.device()\n",
    "\n",
    "# Set default device\n",
    "torch.set_default_device(device)"
   ]
  },
  {
   "cell_type": "markdown",
   "id": "e6cbfd85",
   "metadata": {},
   "source": [
    "#### Data Import and Data Normalization"
   ]
  },
  {
   "cell_type": "code",
   "execution_count": 10,
   "id": "a7d3bb38",
   "metadata": {},
   "outputs": [
    {
     "name": "stdout",
     "output_type": "stream",
     "text": [
      "Data shape: (20000, 784) \n",
      "Labels shape: (20000,)\n",
      "Data final shape: (20000, 1, 28, 28)\n"
     ]
    }
   ],
   "source": [
    "# Import Dataset\n",
    "data = np.loadtxt(\"../Datasets/mnist_train_small.csv\", delimiter=\",\")\n",
    "\n",
    "# Extract data and labels\n",
    "labels = data[:, 0]\n",
    "data = data[:, 1:]\n",
    "print(\"Data shape:\", data.shape, \"\\nLabels shape:\", labels.shape)\n",
    "\n",
    "# Data normalization\n",
    "dataNorm = data / np.max(data)\n",
    "\n",
    "# Reshape the data to 2D\n",
    "dataNorm = dataNorm.reshape(dataNorm.shape[0], 1, 28, 28)\n",
    "\n",
    "# Print data final shape\n",
    "print(\"Data final shape:\", dataNorm.shape)"
   ]
  },
  {
   "cell_type": "markdown",
   "id": "e2f961a5",
   "metadata": {},
   "source": [
    "#### Create Train/Test groups using dataloaders"
   ]
  },
  {
   "cell_type": "code",
   "execution_count": 11,
   "id": "d3a298ea",
   "metadata": {},
   "outputs": [],
   "source": [
    "# Step 1: Convert data into tensors\n",
    "dataT = torch.tensor(dataNorm).float()\n",
    "labelsT = torch.tensor(labels).long()\n",
    "\n",
    "# Step 2: Train and Test split\n",
    "train_data, test_data, train_labels, test_labels = train_test_split(dataT, labelsT, test_size=0.1)\n",
    "\n",
    "# Step 3: Convert data into PyTorch Datasets\n",
    "train_data = TensorDataset(train_data, train_labels)\n",
    "test_data = TensorDataset(test_data, test_labels)\n",
    "\n",
    "# Step 4: Create DataLoaders for Train and Test sets\n",
    "batch_size = 32\n",
    "train_loader = DataLoader(train_data, batch_size=batch_size, shuffle=True, drop_last=True, generator=torch.Generator(device=device))\n",
    "test_loader = DataLoader(test_data, batch_size=test_data.tensors[0].shape[0], shuffle=False, drop_last=False, generator=torch.Generator(device=device))"
   ]
  },
  {
   "cell_type": "code",
   "execution_count": 12,
   "id": "3df1f29e",
   "metadata": {},
   "outputs": [
    {
     "data": {
      "text/plain": [
       "(torch.Size([18000, 1, 28, 28]), torch.Size([2000, 1, 28, 28]))"
      ]
     },
     "execution_count": 12,
     "metadata": {},
     "output_type": "execute_result"
    }
   ],
   "source": [
    "# Check the shape of the data in the DataLoader\n",
    "train_loader.dataset.tensors[0].shape, test_loader.dataset.tensors[0].shape"
   ]
  },
  {
   "cell_type": "markdown",
   "id": "60a481a1",
   "metadata": {},
   "source": [
    "#### Create Deep Learning Model"
   ]
  },
  {
   "cell_type": "code",
   "execution_count": 13,
   "id": "c2791929",
   "metadata": {},
   "outputs": [],
   "source": [
    "# Define a function to create a CNN model using class\n",
    "def create_cnn_model(printToggle=False):\n",
    "    class MNIST_CNN_Model(nn.Module):\n",
    "        def __init__(self, printToggle):\n",
    "            super().__init__()\n",
    "            self.print = printToggle\n",
    "\n",
    "            # Convolutional layers\n",
    "            self.conv1 = nn.Conv2d(1, 10, kernel_size=5, stride=1, padding=1)\n",
    "            # Size = np.floor((28 - 5 + 2 * 1) / 1) + 1 = 26/2 = 13 (/2 b/c max pool)\n",
    "            self.conv2 = nn.Conv2d(10, 20, kernel_size=5, stride=1, padding=1)\n",
    "            # Size = np.floor((13+2*1-5) / 1) = 11/2 = 5 (/2 b/c max pool)\n",
    "\n",
    "            # Fully connected layers\n",
    "            expected_size = np.floor((5 + 2 * 0 -1)/1) + 1\n",
    "            expected_size = 20 * int(expected_size ** 2)\n",
    "\n",
    "            self.fc1 = nn.Linear(expected_size, 50)\n",
    "\n",
    "            # Output layer\n",
    "            self.out = nn.Linear(50, 10)\n",
    "\n",
    "        # Forward Pass\n",
    "        def forward(self, x):\n",
    "\n",
    "            print(f'Input: {x.shape}') if self.print else None\n",
    "            # Convolution 1 -> Maxpool -> ReLU\n",
    "            x = F.relu(F.max_pool2d(self.conv1(x), 2))\n",
    "            print(f'After Conv1: {x.shape}') if self.print else None\n",
    "\n",
    "            # Convolution 2 -> Maxpool -> ReLU\n",
    "            x = F.relu(F.max_pool2d(self.conv2(x), 2))\n",
    "            print(f'After Conv2: {x.shape}') if self.print else None\n",
    "\n",
    "            # Reshape for Linear layer\n",
    "            nUnits = x.shape.numel() / x.shape[0]\n",
    "            x = x.view(-1, int(nUnits))\n",
    "            print(f'After vectorization: {x.shape}') if self.print else None\n",
    "\n",
    "            # Liniear layers -> ReLU\n",
    "            x = F.relu(self.fc1(x))\n",
    "            print(f'After FC1: {x.shape}') if self.print else None\n",
    "            # Output layer\n",
    "            x = self.out(x)\n",
    "            print(f'Output: {x.shape}') if self.print else None\n",
    "\n",
    "            return x\n",
    "\n",
    "    # Create model instance\n",
    "    net = MNIST_CNN_Model(printToggle=printToggle)\n",
    "\n",
    "    # Loss Funtion\n",
    "    lossFun = nn.CrossEntropyLoss()\n",
    "\n",
    "    # Optimizer\n",
    "    optimizer = torch.optim.Adam(net.parameters(), lr=0.001)\n",
    "\n",
    "    return net, lossFun, optimizer"
   ]
  },
  {
   "cell_type": "code",
   "execution_count": 14,
   "id": "de0dd6e6",
   "metadata": {},
   "outputs": [
    {
     "name": "stdout",
     "output_type": "stream",
     "text": [
      "Input: torch.Size([32, 1, 28, 28])\n",
      "After Conv1: torch.Size([32, 10, 13, 13])\n",
      "After Conv2: torch.Size([32, 20, 5, 5])\n",
      "After vectorization: torch.Size([32, 500])\n",
      "After FC1: torch.Size([32, 50])\n",
      "Output: torch.Size([32, 10])\n",
      " \n",
      "torch.Size([32, 10])\n",
      "torch.Size([32])\n",
      " \n",
      "Loss:\n",
      "tensor(2.3185, device='cuda:0', grad_fn=<NllLossBackward0>)\n"
     ]
    }
   ],
   "source": [
    "# Test the model with one batch of data\n",
    "net, lossFun, optimizer = create_cnn_model(printToggle=True)\n",
    "\n",
    "X, y = next(iter(train_loader))\n",
    "yHat = net(X)\n",
    "\n",
    "# check sizes of model outputs and target variable\n",
    "print(\" \")\n",
    "print(yHat.shape)\n",
    "print(y.shape)\n",
    "\n",
    "# now let's compute the loss\n",
    "loss = lossFun(yHat, y)\n",
    "print(\" \")\n",
    "print(\"Loss:\")\n",
    "print(loss)"
   ]
  },
  {
   "cell_type": "code",
   "execution_count": 15,
   "id": "8219c68f",
   "metadata": {},
   "outputs": [
    {
     "name": "stdout",
     "output_type": "stream",
     "text": [
      "Input: torch.Size([2, 1, 28, 28])\n",
      "After Conv1: torch.Size([2, 10, 13, 13])\n",
      "After Conv2: torch.Size([2, 20, 5, 5])\n",
      "After vectorization: torch.Size([2, 500])\n",
      "After FC1: torch.Size([2, 50])\n",
      "Output: torch.Size([2, 10])\n",
      "==========================================================================================\n",
      "Layer (type:depth-idx)                   Output Shape              Param #\n",
      "==========================================================================================\n",
      "├─Conv2d: 1-1                            [-1, 10, 26, 26]          260\n",
      "├─Conv2d: 1-2                            [-1, 20, 11, 11]          5,020\n",
      "├─Linear: 1-3                            [-1, 50]                  25,050\n",
      "├─Linear: 1-4                            [-1, 10]                  510\n",
      "==========================================================================================\n",
      "Total params: 30,840\n",
      "Trainable params: 30,840\n",
      "Non-trainable params: 0\n",
      "Total mult-adds (M): 0.80\n",
      "==========================================================================================\n",
      "Input size (MB): 0.00\n",
      "Forward/backward pass size (MB): 0.07\n",
      "Params size (MB): 0.12\n",
      "Estimated Total Size (MB): 0.19\n",
      "==========================================================================================\n"
     ]
    },
    {
     "data": {
      "text/plain": [
       "==========================================================================================\n",
       "Layer (type:depth-idx)                   Output Shape              Param #\n",
       "==========================================================================================\n",
       "├─Conv2d: 1-1                            [-1, 10, 26, 26]          260\n",
       "├─Conv2d: 1-2                            [-1, 20, 11, 11]          5,020\n",
       "├─Linear: 1-3                            [-1, 50]                  25,050\n",
       "├─Linear: 1-4                            [-1, 10]                  510\n",
       "==========================================================================================\n",
       "Total params: 30,840\n",
       "Trainable params: 30,840\n",
       "Non-trainable params: 0\n",
       "Total mult-adds (M): 0.80\n",
       "==========================================================================================\n",
       "Input size (MB): 0.00\n",
       "Forward/backward pass size (MB): 0.07\n",
       "Params size (MB): 0.12\n",
       "Estimated Total Size (MB): 0.19\n",
       "=========================================================================================="
      ]
     },
     "execution_count": 15,
     "metadata": {},
     "output_type": "execute_result"
    }
   ],
   "source": [
    "# count the total number of parameters in the model\n",
    "summary(net, (1, 28, 28))"
   ]
  },
  {
   "cell_type": "markdown",
   "id": "5657aba6",
   "metadata": {},
   "source": [
    "#### Create a function to train the model"
   ]
  },
  {
   "cell_type": "code",
   "execution_count": 18,
   "id": "1f175cf1",
   "metadata": {},
   "outputs": [],
   "source": [
    "def functionToTrainModel(printToggle=False):\n",
    "\n",
    "    epochs = 10\n",
    "\n",
    "    # Create a CNN Model\n",
    "    net, lossFun, optimizer = create_cnn_model(printToggle)\n",
    "\n",
    "    # Initialize losses and accuracies\n",
    "    losses = torch.zeros(epochs)\n",
    "    trainAcc = []\n",
    "    testAcc = []\n",
    "\n",
    "    # Training Loop\n",
    "    for epoch in range(epochs):\n",
    "        # Model in training model\n",
    "        net.train()\n",
    "\n",
    "        # Loop over training batches\n",
    "        # Batch losses and accuracies\n",
    "        batchLoss = []\n",
    "        batchAcc = []\n",
    "        for X, y in train_loader:\n",
    "\n",
    "            # Forward pass\n",
    "            yHat = net(X)\n",
    "            loss = lossFun(yHat, y)\n",
    "\n",
    "            # Backward pass\n",
    "            optimizer.zero_grad()\n",
    "            loss.backward()\n",
    "            optimizer.step()\n",
    "\n",
    "            # Batch Loss\n",
    "            batchLoss.append(loss.cpu().item())\n",
    "\n",
    "            # Batch Accuracy\n",
    "            matches = (torch.argmax(yHat, axis=1) == y).float()\n",
    "            accPercent = torch.mean(matches) * 100\n",
    "            batchAcc.append(accPercent.cpu())\n",
    "        # End of batch loop\n",
    "        trainAcc.append(np.mean(batchAcc))\n",
    "        losses[epoch] = np.mean(batchLoss)\n",
    "\n",
    "        # Test Accuracy\n",
    "        net.eval()\n",
    "        X, y  = next(iter(test_loader))\n",
    "        with torch.no_grad():\n",
    "            yHat = net(X)\n",
    "        matches = (torch.argmax(yHat, axis=1) == y).float()\n",
    "        accPercent = torch.mean(matches) * 100\n",
    "        testAcc.append(accPercent.cpu())\n",
    "    # End of epoch loop\n",
    "\n",
    "    # Function return statement\n",
    "    return net, losses, trainAcc, testAcc"
   ]
  },
  {
   "cell_type": "code",
   "execution_count": 19,
   "id": "4c233596",
   "metadata": {},
   "outputs": [],
   "source": [
    "net, losses, trainAcc, testAcc = functionToTrainModel(printToggle=False)"
   ]
  },
  {
   "cell_type": "code",
   "execution_count": null,
   "id": "f6f534f1",
   "metadata": {},
   "outputs": [],
   "source": []
  }
 ],
 "metadata": {
  "kernelspec": {
   "display_name": "base",
   "language": "python",
   "name": "python3"
  },
  "language_info": {
   "codemirror_mode": {
    "name": "ipython",
    "version": 3
   },
   "file_extension": ".py",
   "mimetype": "text/x-python",
   "name": "python",
   "nbconvert_exporter": "python",
   "pygments_lexer": "ipython3",
   "version": "3.12.7"
  }
 },
 "nbformat": 4,
 "nbformat_minor": 5
}
