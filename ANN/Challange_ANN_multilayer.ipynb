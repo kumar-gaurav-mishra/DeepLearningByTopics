{
 "cells": [
  {
   "cell_type": "code",
   "execution_count": 75,
   "metadata": {
    "id": "j7-LiwqUMGYL"
   },
   "outputs": [],
   "source": [
    "# import libraries\n",
    "import torch\n",
    "import torch.nn as nn\n",
    "import torch.nn.functional as F\n",
    "import matplotlib.pyplot as plt\n",
    "import numpy as np\n",
    "\n",
    "from torchsummary import summary"
   ]
  },
  {
   "cell_type": "code",
   "execution_count": null,
   "metadata": {
    "id": "j-SP8NPsMNRL"
   },
   "outputs": [
    {
     "data": {
      "image/png": "[encoded data removed]",
      "text/plain": [
       "<Figure size 500x500 with 1 Axes>"
      ]
     },
     "metadata": {},
     "output_type": "display_data"
    }
   ],
   "source": [
    "# create data\n",
    "\n",
    "nPerClust = 100\n",
    "blur = 1\n",
    "\n",
    "A = [1, 3]\n",
    "B = [1, -2]\n",
    "\n",
    "# generate data\n",
    "a = [A[0] + np.random.randn(nPerClust) * blur, A[1] + np.random.randn(nPerClust) * blur]\n",
    "b = [B[0] + np.random.randn(nPerClust) * blur, B[1] + np.random.randn(nPerClust) * blur]\n",
    "\n",
    "# true labels\n",
    "labels_np = np.vstack((np.zeros((nPerClust, 1)), np.ones((nPerClust, 1))))\n",
    "\n",
    "# concatanate into a matrix\n",
    "data_np = np.hstack((a, b)).T\n",
    "\n",
    "# convert to a pytorch tensor\n",
    "data = torch.tensor(data_np).float()\n",
    "labels = torch.tensor(labels_np).float()\n",
    "\n",
    "# show the data\n",
    "fig = plt.figure(figsize=(5, 5))\n",
    "plt.plot(data[np.where(labels == 0)[0], 0], data[np.where(labels == 0)[0], 1], \"bs\")\n",
    "plt.plot(data[np.where(labels == 1)[0], 0], data[np.where(labels == 1)[0], 1], \"ko\")\n",
    "plt.title(\"The qwerties!\")\n",
    "plt.xlabel(\"qwerty dimension 1\")\n",
    "plt.ylabel(\"qwerty dimension 2\")\n",
    "plt.show()"
   ]
  },
  {
   "cell_type": "markdown",
   "metadata": {
    "id": "7Oi0wAb5ze3Q"
   },
   "source": [
    "# Functions to build and train the model\n"
   ]
  },
  {
   "cell_type": "code",
   "execution_count": null,
   "metadata": {
    "id": "krQeh5wYMNla"
   },
   "outputs": [
    {
     "name": "stdout",
     "output_type": "stream",
     "text": [
      "=================================================================\n",
      "Layer (type:depth-idx)                   Param #\n",
      "=================================================================\n",
      "├─ModuleDict: 1-1                        --\n",
      "|    └─Linear: 2-1                       48\n",
      "|    └─Linear: 2-2                       17\n",
      "|    └─Linear: 2-3                       2\n",
      "=================================================================\n",
      "Total params: 67\n",
      "Trainable params: 67\n",
      "Non-trainable params: 0\n",
      "=================================================================\n"
     ]
    },
    {
     "data": {
      "text/plain": [
       "=================================================================\n",
       "Layer (type:depth-idx)                   Param #\n",
       "=================================================================\n",
       "├─ModuleDict: 1-1                        --\n",
       "|    └─Linear: 2-1                       48\n",
       "|    └─Linear: 2-2                       17\n",
       "|    └─Linear: 2-3                       2\n",
       "=================================================================\n",
       "Total params: 67\n",
       "Trainable params: 67\n",
       "Non-trainable params: 0\n",
       "================================================================="
      ]
     },
     "execution_count": 80,
     "metadata": {},
     "output_type": "execute_result"
    }
   ],
   "source": [
    "def createANNmodel(learningRate):\n",
    "\n",
    "    # model architecture\n",
    "    ANNclassify = nn.Sequential(\n",
    "        nn.Linear(2, 16),  # input layer\n",
    "        nn.ReLU(),  # activation unit\n",
    "        nn.Linear(16, 1),  # hidden layer\n",
    "        nn.ReLU(),  # activation unit\n",
    "        nn.Linear(1, 1),  # output unit\n",
    "        nn.Sigmoid(),  # final activation unit\n",
    "    )\n",
    "\n",
    "    # loss function\n",
    "    lossfun = nn.BCELoss()  # but better to use BCEWithLogitsLoss\n",
    "\n",
    "    # optimizer\n",
    "    optimizer = torch.optim.SGD(ANNclassify.parameters(), lr=learningRate)\n",
    "\n",
    "    # model output\n",
    "    return ANNclassify, lossfun, optimizer\n",
    "\n",
    "\n",
    "# Create class of the model\n",
    "class ANNModelClass(nn.Module):\n",
    "    def __init__(self):\n",
    "        super().__init__()\n",
    "        self.layers = nn.ModuleDict()\n",
    "\n",
    "        ## Input Layer\n",
    "        self.layers[\"input\"] = nn.Linear(2, 16)\n",
    "        # Hidden Layer\n",
    "        self.layers[\"hidden0\"] = nn.Linear(16, 1)\n",
    "        # Output Layer\n",
    "        self.layers[\"output\"] = nn.Linear(1, 1)\n",
    "\n",
    "    # forward Pass\n",
    "    def forward(self, x):\n",
    "        x = F.relu(self.layers[\"input\"](x))\n",
    "        x = F.relu(self.layers[\"hidden0\"](x))\n",
    "        x = self.layers[\"output\"](x)\n",
    "        return x\n",
    "\n",
    "\n",
    "# create everything\n",
    "# ANNclassify, lossfun, optimizer = createANNmodel(0.01)\n",
    "\n",
    "ANNModel = ANNModelClass()\n",
    "# Model Summery\n",
    "summary(ANNModel)"
   ]
  },
  {
   "cell_type": "code",
   "execution_count": null,
   "metadata": {
    "id": "of9E8ClxMNsD"
   },
   "outputs": [],
   "source": [
    "# a function that trains the model\n",
    "\n",
    "# a fixed parameter\n",
    "numepochs = 30000\n",
    "\n",
    "\n",
    "def trainTheModel(ANNmodel):\n",
    "    # Loss function and optimizer\n",
    "    lossfun = nn.BCEWithLogitsLoss()\n",
    "    optimizer = torch.optim.SGD(ANNModel.parameters(), lr=0.01)\n",
    "    # initialize losses\n",
    "    losses = torch.zeros(numepochs)\n",
    "\n",
    "    # loop over epochs\n",
    "    for epochi in range(numepochs):\n",
    "\n",
    "        # forward pass\n",
    "        yHat = ANNmodel(data)\n",
    "\n",
    "        # compute loss\n",
    "        loss = lossfun(yHat, labels)\n",
    "        losses[epochi] = loss\n",
    "\n",
    "        # backprop\n",
    "        optimizer.zero_grad()\n",
    "        loss.backward()\n",
    "        optimizer.step()\n",
    "\n",
    "    # final forward pass\n",
    "    predictions = ANNmodel(data)\n",
    "\n",
    "    # compute the predictions and report accuracy\n",
    "    # NOTE: Wasn't this \">0\" previously?!?!\n",
    "    totalacc = 100 * torch.mean(((predictions > 0.5) == labels).float())\n",
    "\n",
    "    return losses, predictions, totalacc"
   ]
  },
  {
   "cell_type": "markdown",
   "metadata": {
    "id": "Hd3rIbQUzkKv"
   },
   "source": [
    "# Test the new code by running it once\n"
   ]
  },
  {
   "cell_type": "code",
   "execution_count": null,
   "metadata": {
    "id": "SatsWGs3x6Kg"
   },
   "outputs": [
    {
     "name": "stdout",
     "output_type": "stream",
     "text": [
      "Final accuracy: 100%\n"
     ]
    },
    {
     "data": {
      "image/png": "[encoded data removed]",
      "text/plain": [
       "<Figure size 640x480 with 1 Axes>"
      ]
     },
     "metadata": {},
     "output_type": "display_data"
    }
   ],
   "source": [
    "# # create everything\n",
    "# ANNclassify,lossfun,optimizer = createANNmodel(.01)\n",
    "\n",
    "# run it\n",
    "losses, predictions, totalacc = trainTheModel(ANNModel)\n",
    "\n",
    "# report accuracy\n",
    "print(\"Final accuracy: %g%%\" % totalacc)\n",
    "\n",
    "\n",
    "# show the losses\n",
    "plt.plot(losses.detach(), \"o\", markerfacecolor=\"w\", linewidth=0.1)\n",
    "plt.xlabel(\"Epoch\"), plt.ylabel(\"Loss\")\n",
    "plt.show()"
   ]
  },
  {
   "cell_type": "code",
   "execution_count": null,
   "metadata": {},
   "outputs": [],
   "source": []
  }
 ],
 "metadata": {
  "colab": {
   "authorship_tag": "ABX9TyMjzQjpc5VeGVRp+BqWYPxX",
   "collapsed_sections": [],
   "name": "DUDL_ANN_multilayer.ipynb",
   "provenance": [
    {
     "file_id": "1jeqKEJfI18GlAhSG8RO5aJ6Vrp4-nkTt",
     "timestamp": 1615909315432
    },
    {
     "file_id": "10_geQnah5AvMsm8VDAQwNPhypOXradar",
     "timestamp": 1615893340208
    },
    {
     "file_id": "1FtQ99beHYcDFDywLdaPgFm-KjBeI8PvD",
     "timestamp": 1615877547147
    }
   ]
  },
  "kernelspec": {
   "display_name": "base",
   "language": "python",
   "name": "python3"
  },
  "language_info": {
   "codemirror_mode": {
    "name": "ipython",
    "version": 3
   },
   "file_extension": ".py",
   "mimetype": "text/x-python",
   "name": "python",
   "nbconvert_exporter": "python",
   "pygments_lexer": "ipython3",
   "version": "3.12.7"
  }
 },
 "nbformat": 4,
 "nbformat_minor": 0
}
