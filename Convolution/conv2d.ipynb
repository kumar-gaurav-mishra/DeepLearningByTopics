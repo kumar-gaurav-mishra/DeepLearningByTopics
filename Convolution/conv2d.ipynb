{
 "cells": [
  {
   "cell_type": "code",
   "execution_count": 2,
   "id": "20c59543",
   "metadata": {},
   "outputs": [],
   "source": [
    "# Imports\n",
    "import torch\n",
    "import torch.nn as nn\n",
    "import torch.nn.functional as F\n",
    "\n",
    "import numpy as np\n",
    "import matplotlib.pyplot as plt\n",
    "\n",
    "import matplotlib_inline.backend_inline as backend_inline\n",
    "\n",
    "backend_inline.set_matplotlib_formats(\"svg\")\n",
    "\n",
    "\n",
    "#### Pytorch device specific configuration ###\n",
    "# # Pytorch Gpu Configuration for Cuda\n",
    "device = torch.device(\"cuda\" if torch.cuda.is_available() else \"cpu\")\n",
    "\n",
    "# Pytorch Gpu Configuration for directml(AMD GPU)\n",
    "# import torch_directml\n",
    "\n",
    "# device = torch_directml.device()\n",
    "\n",
    "# Set default device\n",
    "torch.set_default_device(device)"
   ]
  },
  {
   "cell_type": "code",
   "execution_count": null,
   "id": "dce036e1",
   "metadata": {},
   "outputs": [
    {
     "name": "stdout",
     "output_type": "stream",
     "text": [
      "Conv2d(3, 16, kernel_size=(5, 5), stride=(1, 1))\n",
      " \n",
      "Weight shape:  torch.Size([16, 3, 5, 5])\n",
      "Bias shape:  torch.Size([16])\n"
     ]
    }
   ],
   "source": [
    "### Create a conv2D class instance with parameters\n",
    "# Parameters\n",
    "in_channels = 3  # RGB channels\n",
    "out_channels = 16  # Number of filters\n",
    "kernel_size = 5  # Size of the filter\n",
    "stride = 1  # Stride of the filter\n",
    "padding = 0  # Padding of the filter\n",
    "\n",
    "# Create a Conv2D layer\n",
    "c = nn.Conv2d(in_channels, out_channels, kernel_size, stride, padding)\n",
    "\n",
    "# Let's see what the Conv2D layer looks like\n",
    "print(c)\n",
    "print(\" \")\n",
    "\n",
    "# Check weight and biases\n",
    "print(\"Weight shape: \", c.weight.shape)\n",
    "print(\"Bias shape: \", c.bias.shape)"
   ]
  },
  {
   "cell_type": "code",
   "execution_count": null,
   "id": "b968c5f0",
   "metadata": {},
   "outputs": [],
   "source": []
  }
 ],
 "metadata": {
  "kernelspec": {
   "display_name": "base",
   "language": "python",
   "name": "python3"
  },
  "language_info": {
   "codemirror_mode": {
    "name": "ipython",
    "version": 3
   },
   "file_extension": ".py",
   "mimetype": "text/x-python",
   "name": "python",
   "nbconvert_exporter": "python",
   "pygments_lexer": "ipython3",
   "version": "3.12.7"
  }
 },
 "nbformat": 4,
 "nbformat_minor": 5
}
