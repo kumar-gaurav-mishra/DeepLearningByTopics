{
 "cells": [
  {
   "cell_type": "code",
   "execution_count": 1,
   "id": "825e568e",
   "metadata": {},
   "outputs": [],
   "source": [
    "# Imports\n",
    "import torch\n",
    "import torch.nn as nn\n",
    "import torch.nn.functional as F\n",
    "\n",
    "import numpy as np\n",
    "import matplotlib.pyplot as plt\n",
    "\n",
    "import matplotlib_inline.backend_inline as backend_inline\n",
    "\n",
    "backend_inline.set_matplotlib_formats(\"svg\")\n",
    "\n",
    "\n",
    "#### Pytorch device specific configuration ###\n",
    "# # Pytorch Gpu Configuration for Cuda\n",
    "device = torch.device(\"cuda\" if torch.cuda.is_available() else \"cpu\")\n",
    "\n",
    "# Pytorch Gpu Configuration for directml(AMD GPU)\n",
    "# import torch_directml\n",
    "\n",
    "# device = torch_directml.device()\n",
    "\n",
    "# Set default device\n",
    "torch.set_default_device(device)"
   ]
  },
  {
   "cell_type": "code",
   "execution_count": 2,
   "id": "e9ff4515",
   "metadata": {},
   "outputs": [
    {
     "name": "stdout",
     "output_type": "stream",
     "text": [
      "Max Pooling 2D Layer:  MaxPool2d(kernel_size=3, stride=3, padding=0, dilation=1, ceil_mode=False)\n",
      "Max Pooling 3D Layer:  MaxPool3d(kernel_size=3, stride=3, padding=0, dilation=1, ceil_mode=False)\n"
     ]
    }
   ],
   "source": [
    "# Create pool class instance with parameters\n",
    "\n",
    "# Parameters\n",
    "poolSize = 3\n",
    "stride = 3\n",
    "\n",
    "# Create the instance\n",
    "pool2D = nn.MaxPool2d(poolSize, stride=3)\n",
    "pool3D = nn.MaxPool3d(poolSize, stride=3)\n",
    "\n",
    "print(\"Max Pooling 2D Layer: \", pool2D)\n",
    "print(\"Max Pooling 3D Layer: \", pool3D)"
   ]
  },
  {
   "cell_type": "code",
   "execution_count": 8,
   "id": "d4b4a823",
   "metadata": {},
   "outputs": [
    {
     "name": "stdout",
     "output_type": "stream",
     "text": [
      "2D Image after 2D Max Pooling:  torch.Size([1, 1, 10, 10])\n",
      "\n",
      "3D image, 2D maxpool: torch.Size([1, 3, 10, 10])\n",
      "\n",
      "3D image, 3D maxpool: torch.Size([1, 1, 10, 10])\n",
      "\n"
     ]
    }
   ],
   "source": [
    "# Create image and apply max pooling\n",
    "# Create 2D and 3D images\n",
    "img2D = torch.randn(1, 1, 30, 30)\n",
    "img3D = torch.randn(1, 3, 30, 30)\n",
    "\n",
    "# All combinations of 2D and 3D images and maxpool dimensionality\n",
    "img2D_Pool2D = pool2D(img2D)\n",
    "print(\"2D Image after 2D Max Pooling: \", img2D_Pool2D.shape)\n",
    "print()\n",
    "# # Throws this error: RuntimeError: 3D max pooling is not supported for 2D inputs\n",
    "# # Uncomment the following lines to see the error\n",
    "# # RuntimeError: Given input size: (1x1x30x30). Calculated output size: (1x0x10x10). Output size is too small\n",
    "# img2D_Pool3D = pool3D(img2D)\n",
    "# print(\"2D Image after 3D Max Pooling: \", img2D_Pool3D.shape)\n",
    "# print(\"\\n\")\n",
    "\n",
    "img3Pool2 = pool2D(img3D)\n",
    "print(f\"3D image, 2D maxpool: {img3Pool2.shape}\\n\")\n",
    "\n",
    "img3Pool3 = pool3D(img3D)\n",
    "print(f\"3D image, 3D maxpool: {img3Pool3.shape}\\n\")"
   ]
  },
  {
   "cell_type": "code",
   "execution_count": 9,
   "id": "1882fda9",
   "metadata": {},
   "outputs": [],
   "source": [
    "# Create simple CNN with Max Pooling\n",
    "littleCNN = nn.Sequential(\n",
    "    nn.Conv2d(in_channels=3, out_channels=10, kernel_size=5, stride=3, padding=2),\n",
    "    nn.ReLU(),\n",
    "    nn.AvgPool3d(3, 3),\n",
    "\n",
    "    ##FFN Block\n",
    "    nn.Flatten(), # Vectorize to get from image to linear\n",
    "    nn.Linear(588, 1), # FC Linear layer\n",
    "    nn.Sigmoid() # Output activation\n",
    ")"
   ]
  },
  {
   "cell_type": "code",
   "execution_count": null,
   "id": "6beaf092",
   "metadata": {},
   "outputs": [],
   "source": []
  }
 ],
 "metadata": {
  "kernelspec": {
   "display_name": "base",
   "language": "python",
   "name": "python3"
  },
  "language_info": {
   "codemirror_mode": {
    "name": "ipython",
    "version": 3
   },
   "file_extension": ".py",
   "mimetype": "text/x-python",
   "name": "python",
   "nbconvert_exporter": "python",
   "pygments_lexer": "ipython3",
   "version": "3.12.7"
  }
 },
 "nbformat": 4,
 "nbformat_minor": 5
}
