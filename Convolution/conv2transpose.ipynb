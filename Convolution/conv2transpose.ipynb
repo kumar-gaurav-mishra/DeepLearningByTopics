{
 "cells": [
  {
   "cell_type": "code",
   "execution_count": 1,
   "id": "03ddc91d",
   "metadata": {},
   "outputs": [],
   "source": [
    "# Imports\n",
    "import torch\n",
    "import torch.nn as nn\n",
    "import torch.nn.functional as F\n",
    "\n",
    "import numpy as np\n",
    "import matplotlib.pyplot as plt\n",
    "\n",
    "import matplotlib_inline.backend_inline as backend_inline\n",
    "\n",
    "backend_inline.set_matplotlib_formats(\"svg\")\n",
    "\n",
    "\n",
    "#### Pytorch device specific configuration ###\n",
    "# # Pytorch Gpu Configuration for Cuda\n",
    "device = torch.device(\"cuda\" if torch.cuda.is_available() else \"cpu\")\n",
    "\n",
    "# Pytorch Gpu Configuration for directml(AMD GPU)\n",
    "# import torch_directml\n",
    "\n",
    "# device = torch_directml.device()\n",
    "\n",
    "# Set default device\n",
    "torch.set_default_device(device)"
   ]
  },
  {
   "cell_type": "code",
   "execution_count": 2,
   "id": "27484209",
   "metadata": {},
   "outputs": [
    {
     "name": "stdout",
     "output_type": "stream",
     "text": [
      "ConvTranspose2d(3, 15, kernel_size=(5, 5), stride=(1, 1))\n",
      " \n",
      "Size of weights: torch.Size([3, 15, 5, 5])\n",
      "Size of bias: torch.Size([15])\n"
     ]
    }
   ],
   "source": [
    "####Create a conv2transpose class instance with parameters\n",
    "# Parameters\n",
    "inChans = 3\n",
    "outChans = 15\n",
    "krnSize = 5\n",
    "stride = 1\n",
    "padding = 0\n",
    "\n",
    "# Create a Conv2Transpose instance\n",
    "c = nn.ConvTranspose2d(inChans, outChans, krnSize, stride, padding)\n",
    "\n",
    "# Let's have a look at the instance\n",
    "print(c)\n",
    "print(\" \")\n",
    "\n",
    "# check out its weight tensor; what are the dimensions?\n",
    "print(\"Size of weights: \" + str(c.weight.shape))\n",
    "print(\"Size of bias: \" + str(c.bias.shape))"
   ]
  },
  {
   "cell_type": "code",
   "execution_count": null,
   "id": "42fddd32",
   "metadata": {},
   "outputs": [],
   "source": []
  }
 ],
 "metadata": {
  "kernelspec": {
   "display_name": "base",
   "language": "python",
   "name": "python3"
  },
  "language_info": {
   "codemirror_mode": {
    "name": "ipython",
    "version": 3
   },
   "file_extension": ".py",
   "mimetype": "text/x-python",
   "name": "python",
   "nbconvert_exporter": "python",
   "pygments_lexer": "ipython3",
   "version": "3.12.7"
  }
 },
 "nbformat": 4,
 "nbformat_minor": 5
}
