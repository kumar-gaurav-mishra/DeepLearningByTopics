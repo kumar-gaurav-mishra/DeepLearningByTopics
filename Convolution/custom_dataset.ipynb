{
 "cells": [
  {
   "cell_type": "code",
   "execution_count": 1,
   "id": "f006b009",
   "metadata": {},
   "outputs": [],
   "source": [
    "# import libraries\n",
    "import numpy as np\n",
    "import torch\n",
    "\n",
    "# import transformations and dataset/loader\n",
    "import torchvision\n",
    "import torchvision.transforms as T\n",
    "from torch.utils.data import Dataset, DataLoader\n",
    "\n",
    "import matplotlib.pyplot as plt\n",
    "import matplotlib_inline.backend_inline\n",
    "\n",
    "matplotlib_inline.backend_inline.set_matplotlib_formats(\"svg\")"
   ]
  },
  {
   "cell_type": "code",
   "execution_count": 2,
   "id": "e6fdc050",
   "metadata": {},
   "outputs": [
    {
     "name": "stdout",
     "output_type": "stream",
     "text": [
      "(8, 1, 28, 28)\n",
      "(8,)\n"
     ]
    }
   ],
   "source": [
    "# import dataset (comes with colab!)\n",
    "data = np.loadtxt(open(\"../Datasets/mnist_train_small.csv\", \"rb\"), delimiter=\",\")\n",
    "\n",
    "# extract only the first 8\n",
    "labels = data[:8, 0]\n",
    "data = data[:8, 1:]\n",
    "\n",
    "# normalize the data to a range of [0 1]\n",
    "dataNorm = data / np.max(data)\n",
    "\n",
    "# reshape to 2D!\n",
    "dataNorm = dataNorm.reshape(dataNorm.shape[0], 1, 28, 28)\n",
    "\n",
    "# check sizes\n",
    "print(dataNorm.shape)\n",
    "print(labels.shape)\n",
    "\n",
    "# convert to torch tensor format\n",
    "dataT = torch.tensor(dataNorm).float()\n",
    "labelsT = torch.tensor(labels).long()"
   ]
  },
  {
   "cell_type": "code",
   "execution_count": 3,
   "id": "023ab154",
   "metadata": {},
   "outputs": [],
   "source": [
    "class customDataset(Dataset):\n",
    "    def __init__(self, tensors, transform=None):\n",
    "        # Check if tensors is a tuple of (data, labels) have the same length\n",
    "        assert all(\n",
    "            tensors[0].size(0) == t.size(0) for t in tensors\n",
    "        ), \"Size mismatch between tensors\"\n",
    "        \n",
    "        # Assign inputs\n",
    "        self.tensors = tensors\n",
    "        self.transform = transform\n",
    "\n",
    "    # What to do when someone wants and item from the dataset\n",
    "    def __getitem__(self, index):\n",
    "        if self.transform:\n",
    "            x = self.transform(self.tensors[0][index])\n",
    "        else:\n",
    "            x = self.tensors[0][index]\n",
    "\n",
    "        # And return labels\n",
    "        y = self.tensors[1][index]\n",
    "        return x, y # return a tuple of (data, label)\n",
    "    \n",
    "    # How many items are in the dataset\n",
    "    def __len__(self):\n",
    "        # Return the length of the dataset\n",
    "        return self.tensors[0].size(0)"
   ]
  },
  {
   "cell_type": "code",
   "execution_count": null,
   "id": "f717641d",
   "metadata": {},
   "outputs": [],
   "source": []
  }
 ],
 "metadata": {
  "kernelspec": {
   "display_name": "base",
   "language": "python",
   "name": "python3"
  },
  "language_info": {
   "codemirror_mode": {
    "name": "ipython",
    "version": 3
   },
   "file_extension": ".py",
   "mimetype": "text/x-python",
   "name": "python",
   "nbconvert_exporter": "python",
   "pygments_lexer": "ipython3",
   "version": "3.12.7"
  }
 },
 "nbformat": 4,
 "nbformat_minor": 5
}
