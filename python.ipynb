{
 "cells": [
  {
   "cell_type": "markdown",
   "metadata": {},
   "source": [
    "## Variables\n"
   ]
  },
  {
   "cell_type": "code",
   "execution_count": 1,
   "metadata": {},
   "outputs": [
    {
     "name": "stdout",
     "output_type": "stream",
     "text": [
      "4\n"
     ]
    }
   ],
   "source": [
    "a = 4\n",
    "print(a)"
   ]
  },
  {
   "cell_type": "code",
   "execution_count": 3,
   "metadata": {},
   "outputs": [
    {
     "name": "stdout",
     "output_type": "stream",
     "text": [
      "4.4\n"
     ]
    }
   ],
   "source": [
    "a = 4.4\n",
    "print(a)"
   ]
  },
  {
   "cell_type": "code",
   "execution_count": 4,
   "metadata": {},
   "outputs": [
    {
     "name": "stdout",
     "output_type": "stream",
     "text": [
      "kumar\n"
     ]
    }
   ],
   "source": [
    "a = 'kumar'\n",
    "print(a)"
   ]
  },
  {
   "cell_type": "code",
   "execution_count": 5,
   "metadata": {},
   "outputs": [],
   "source": [
    "b, c, d, e = 'king', '55.50505', 10101, False"
   ]
  },
  {
   "cell_type": "code",
   "execution_count": 6,
   "metadata": {},
   "outputs": [
    {
     "name": "stdout",
     "output_type": "stream",
     "text": [
      "king 55.50505 10101 False\n"
     ]
    }
   ],
   "source": [
    "print(b, c, d, e)"
   ]
  },
  {
   "cell_type": "code",
   "execution_count": 7,
   "metadata": {},
   "outputs": [
    {
     "name": "stdout",
     "output_type": "stream",
     "text": [
      "Variable   Type    Data/Info\n",
      "----------------------------\n",
      "a          str     kumar\n",
      "b          str     king\n",
      "c          str     55.50505\n",
      "d          int     10101\n",
      "e          bool    False\n"
     ]
    }
   ],
   "source": [
    "%whos"
   ]
  },
  {
   "cell_type": "code",
   "execution_count": 2,
   "metadata": {},
   "outputs": [
    {
     "name": "stdout",
     "output_type": "stream",
     "text": [
      "140513480386560\n",
      "140513480386560\n",
      "[1, 100, 3, 4]\n",
      "[1, 100, 3, 4]\n"
     ]
    }
   ],
   "source": [
    "arr = [1, 2, 3, 4]\n",
    "arr_copy = arr # This is refrance copy \n",
    "print(id(arr))\n",
    "print(id(arr_copy))\n",
    "arr_copy[1] = 100 # This changes the original array too\n",
    "print(arr)\n",
    "print(arr_copy)"
   ]
  },
  {
   "cell_type": "code",
   "execution_count": 4,
   "metadata": {},
   "outputs": [
    {
     "name": "stdout",
     "output_type": "stream",
     "text": [
      "140513480386560\n",
      "140513480398464\n",
      "[1, 100, 3, 4]\n",
      "[1, 2000, 3, 4]\n"
     ]
    }
   ],
   "source": [
    "arr_copy = arr[:] # Deep copy with different referance\n",
    "print(id(arr))\n",
    "print(id(arr_copy))\n",
    "arr_copy[1] = 2000 # This does not changes the original array\n",
    "print(arr)\n",
    "print(arr_copy)"
   ]
  },
  {
   "cell_type": "code",
   "execution_count": 6,
   "metadata": {},
   "outputs": [
    {
     "name": "stdout",
     "output_type": "stream",
     "text": [
      "140513480400128\n",
      "140513480397888\n",
      "[100, 200, 300, 400]\n",
      "[100, 2000, 300, 400]\n"
     ]
    }
   ],
   "source": [
    "from copy import deepcopy\n",
    "arr = [100, 200, 300, 400] # Re assigning the array\n",
    "arr_copy = deepcopy(arr) # Deep copy using deepcopy method from copy\n",
    "print(id(arr))\n",
    "print(id(arr_copy))\n",
    "arr_copy[1] = 2000 # This does not changes the original array\n",
    "print(arr)\n",
    "print(arr_copy)"
   ]
  },
  {
   "cell_type": "code",
   "execution_count": null,
   "metadata": {},
   "outputs": [],
   "source": [
    "# Copy in objects"
   ]
  }
 ],
 "metadata": {
  "kernelspec": {
   "display_name": "base",
   "language": "python",
   "name": "python3"
  },
  "language_info": {
   "codemirror_mode": {
    "name": "ipython",
    "version": 3
   },
   "file_extension": ".py",
   "mimetype": "text/x-python",
   "name": "python",
   "nbconvert_exporter": "python",
   "pygments_lexer": "ipython3",
   "version": "3.12.7"
  }
 },
 "nbformat": 4,
 "nbformat_minor": 2
}
