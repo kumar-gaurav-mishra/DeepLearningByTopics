{
 "cells": [
  {
   "cell_type": "markdown",
   "metadata": {},
   "source": [
    "## Variables\n"
   ]
  },
  {
   "cell_type": "code",
   "execution_count": 1,
   "metadata": {},
   "outputs": [
    {
     "name": "stdout",
     "output_type": "stream",
     "text": [
      "4\n"
     ]
    }
   ],
   "source": [
    "a = 4\n",
    "print(a)"
   ]
  },
  {
   "cell_type": "code",
   "execution_count": 3,
   "metadata": {},
   "outputs": [
    {
     "name": "stdout",
     "output_type": "stream",
     "text": [
      "4.4\n"
     ]
    }
   ],
   "source": [
    "a = 4.4\n",
    "print(a)"
   ]
  },
  {
   "cell_type": "code",
   "execution_count": 4,
   "metadata": {},
   "outputs": [
    {
     "name": "stdout",
     "output_type": "stream",
     "text": [
      "kumar\n"
     ]
    }
   ],
   "source": [
    "a = 'kumar'\n",
    "print(a)"
   ]
  },
  {
   "cell_type": "code",
   "execution_count": 5,
   "metadata": {},
   "outputs": [],
   "source": [
    "b, c, d, e = 'king', '55.50505', 10101, False"
   ]
  },
  {
   "cell_type": "code",
   "execution_count": 6,
   "metadata": {},
   "outputs": [
    {
     "name": "stdout",
     "output_type": "stream",
     "text": [
      "king 55.50505 10101 False\n"
     ]
    }
   ],
   "source": [
    "print(b, c, d, e)"
   ]
  },
  {
   "cell_type": "code",
   "execution_count": 7,
   "metadata": {},
   "outputs": [
    {
     "name": "stdout",
     "output_type": "stream",
     "text": [
      "Variable   Type    Data/Info\n",
      "----------------------------\n",
      "a          str     kumar\n",
      "b          str     king\n",
      "c          str     55.50505\n",
      "d          int     10101\n",
      "e          bool    False\n"
     ]
    }
   ],
   "source": [
    "%whos"
   ]
  },
  {
   "cell_type": "markdown",
   "metadata": {},
   "source": [
    "## Copy"
   ]
  },
  {
   "cell_type": "code",
   "execution_count": 2,
   "metadata": {},
   "outputs": [
    {
     "name": "stdout",
     "output_type": "stream",
     "text": [
      "140513480386560\n",
      "140513480386560\n",
      "[1, 100, 3, 4]\n",
      "[1, 100, 3, 4]\n"
     ]
    }
   ],
   "source": [
    "arr = [1, 2, 3, 4]\n",
    "arr_copy = arr # This is refrance copy \n",
    "print(id(arr))\n",
    "print(id(arr_copy))\n",
    "arr_copy[1] = 100 # This changes the original array too\n",
    "print(arr)\n",
    "print(arr_copy)"
   ]
  },
  {
   "cell_type": "code",
   "execution_count": 4,
   "metadata": {},
   "outputs": [
    {
     "name": "stdout",
     "output_type": "stream",
     "text": [
      "140513480386560\n",
      "140513480398464\n",
      "[1, 100, 3, 4]\n",
      "[1, 2000, 3, 4]\n"
     ]
    }
   ],
   "source": [
    "arr_copy = arr[:] # Deep copy with different referance\n",
    "print(id(arr))\n",
    "print(id(arr_copy))\n",
    "arr_copy[1] = 2000 # This does not changes the original array\n",
    "print(arr)\n",
    "print(arr_copy)"
   ]
  },
  {
   "cell_type": "code",
   "execution_count": 6,
   "metadata": {},
   "outputs": [
    {
     "name": "stdout",
     "output_type": "stream",
     "text": [
      "140513480400128\n",
      "140513480397888\n",
      "[100, 200, 300, 400]\n",
      "[100, 2000, 300, 400]\n"
     ]
    }
   ],
   "source": [
    "from copy import deepcopy\n",
    "arr = [100, 200, 300, 400] # Re assigning the array\n",
    "arr_copy = deepcopy(arr) # Deep copy using deepcopy method from copy\n",
    "print(id(arr))\n",
    "print(id(arr_copy))\n",
    "arr_copy[1] = 2000 # This does not changes the original array\n",
    "print(arr)\n",
    "print(arr_copy)"
   ]
  },
  {
   "cell_type": "code",
   "execution_count": 12,
   "metadata": {},
   "outputs": [
    {
     "name": "stdout",
     "output_type": "stream",
     "text": [
      "{'name': 'Jane', 'Age': 49}\n",
      "{'name': 'Jane', 'Age': 49}\n",
      "140512986018624\n",
      "140512986018624\n"
     ]
    }
   ],
   "source": [
    "# Copy in dictionary\n",
    "dicti = dict({'name': 'John', 'Age': 49})\n",
    "dicti_copy = dicti # This is refrance copy \n",
    "dicti_copy['name'] = 'Jane' # This changes the original dictionary\n",
    "print(dicti)\n",
    "print(dicti_copy)\n",
    "print(id(dicti))\n",
    "print(id(dicti_copy))\n"
   ]
  },
  {
   "cell_type": "code",
   "execution_count": 13,
   "metadata": {},
   "outputs": [
    {
     "name": "stdout",
     "output_type": "stream",
     "text": [
      "{'name': 'John', 'Age': 49}\n",
      "{'name': 'Jane', 'Age': 49}\n",
      "140512985978176\n",
      "140513480399104\n"
     ]
    }
   ],
   "source": [
    "# Deep Copy in dictionary\n",
    "dicti = dict({'name': 'John', 'Age': 49})\n",
    "dicti_copy = deepcopy(dicti) # Deep copy with different referance\n",
    "dicti_copy['name'] = 'Jane' # This does not change the original dictionary\n",
    "print(dicti)\n",
    "print(dicti_copy)\n",
    "print(id(dicti))\n",
    "print(id(dicti_copy))"
   ]
  },
  {
   "cell_type": "markdown",
   "metadata": {},
   "source": [
    "## Classes"
   ]
  },
  {
   "cell_type": "code",
   "execution_count": 16,
   "metadata": {},
   "outputs": [],
   "source": [
    "class model():\n",
    "    # Constructor method\n",
    "    def __init__(self, numlayers, numunits, name):\n",
    "        self.layers = numlayers\n",
    "        self.units = numunits\n",
    "        self.name = name\n",
    "        self.weights = 0\n",
    "    \n",
    "    def howManyLayers(self):\n",
    "        print(f'{self.name} has {self.layers} layers')\n",
    "\n",
    "    def howManyUnits(self):\n",
    "        totalUnits = self.layers * self.units\n",
    "        print(f'There are {totalUnits} units in the model.')\n"
   ]
  },
  {
   "cell_type": "code",
   "execution_count": 19,
   "metadata": {},
   "outputs": [
    {
     "name": "stdout",
     "output_type": "stream",
     "text": [
      "Convolution has 5 layers\n",
      "There are 50 units in the model.\n",
      "CNN has 15 layers\n",
      "There are 300 units in the model.\n"
     ]
    }
   ],
   "source": [
    "m1 = model(5, 10, 'Convolution') # Instance of the class\n",
    "m1.howManyLayers()\n",
    "m1.howManyUnits()\n",
    "\n",
    "m2 = model(15, 20, 'CNN') # 2nd Instance of the class\n",
    "m2.howManyLayers()\n",
    "m2.howManyUnits()"
   ]
  },
  {
   "cell_type": "code",
   "execution_count": null,
   "metadata": {},
   "outputs": [],
   "source": []
  },
  {
   "cell_type": "code",
   "execution_count": null,
   "metadata": {},
   "outputs": [],
   "source": []
  }
 ],
 "metadata": {
  "kernelspec": {
   "display_name": "base",
   "language": "python",
   "name": "python3"
  },
  "language_info": {
   "codemirror_mode": {
    "name": "ipython",
    "version": 3
   },
   "file_extension": ".py",
   "mimetype": "text/x-python",
   "name": "python",
   "nbconvert_exporter": "python",
   "pygments_lexer": "ipython3",
   "version": "3.12.7"
  }
 },
 "nbformat": 4,
 "nbformat_minor": 2
}
