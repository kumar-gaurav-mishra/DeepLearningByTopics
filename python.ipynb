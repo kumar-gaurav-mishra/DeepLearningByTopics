{
 "cells": [
  {
   "cell_type": "markdown",
   "metadata": {},
   "source": [
    "## Variables\n"
   ]
  },
  {
   "cell_type": "code",
   "execution_count": 1,
   "metadata": {},
   "outputs": [],
   "source": [
    "# Imports\n",
    "import numpy as np"
   ]
  },
  {
   "cell_type": "code",
   "execution_count": 2,
   "metadata": {},
   "outputs": [
    {
     "name": "stdout",
     "output_type": "stream",
     "text": [
      "4\n"
     ]
    }
   ],
   "source": [
    "a = 4\n",
    "print(a)"
   ]
  },
  {
   "cell_type": "code",
   "execution_count": 3,
   "metadata": {},
   "outputs": [
    {
     "name": "stdout",
     "output_type": "stream",
     "text": [
      "4.4\n"
     ]
    }
   ],
   "source": [
    "a = 4.4\n",
    "print(a)"
   ]
  },
  {
   "cell_type": "code",
   "execution_count": 4,
   "metadata": {},
   "outputs": [
    {
     "name": "stdout",
     "output_type": "stream",
     "text": [
      "kumar\n"
     ]
    }
   ],
   "source": [
    "a = 'kumar'\n",
    "print(a)"
   ]
  },
  {
   "cell_type": "code",
   "execution_count": 5,
   "metadata": {},
   "outputs": [],
   "source": [
    "b, c, d, e = 'king', '55.50505', 10101, False"
   ]
  },
  {
   "cell_type": "code",
   "execution_count": 6,
   "metadata": {},
   "outputs": [
    {
     "name": "stdout",
     "output_type": "stream",
     "text": [
      "king 55.50505 10101 False\n"
     ]
    }
   ],
   "source": [
    "print(b, c, d, e)"
   ]
  },
  {
   "cell_type": "code",
   "execution_count": 7,
   "metadata": {},
   "outputs": [
    {
     "name": "stdout",
     "output_type": "stream",
     "text": [
      "Variable   Type      Data/Info\n",
      "------------------------------\n",
      "a          str       kumar\n",
      "b          str       king\n",
      "c          str       55.50505\n",
      "d          int       10101\n",
      "e          bool      False\n",
      "np         module    <module 'numpy' from '/ku<...>kages/numpy/__init__.py'>\n"
     ]
    }
   ],
   "source": [
    "%whos"
   ]
  },
  {
   "cell_type": "markdown",
   "metadata": {},
   "source": [
    "## Copy"
   ]
  },
  {
   "cell_type": "code",
   "execution_count": 8,
   "metadata": {},
   "outputs": [
    {
     "name": "stdout",
     "output_type": "stream",
     "text": [
      "140479075239232\n",
      "140479075239232\n",
      "[1, 100, 3, 4]\n",
      "[1, 100, 3, 4]\n"
     ]
    }
   ],
   "source": [
    "arr = [1, 2, 3, 4]\n",
    "arr_copy = arr # This is refrance copy \n",
    "print(id(arr))\n",
    "print(id(arr_copy))\n",
    "arr_copy[1] = 100 # This changes the original array too\n",
    "print(arr)\n",
    "print(arr_copy)"
   ]
  },
  {
   "cell_type": "code",
   "execution_count": 9,
   "metadata": {},
   "outputs": [
    {
     "name": "stdout",
     "output_type": "stream",
     "text": [
      "140479075239232\n",
      "140479075239936\n",
      "[1, 100, 3, 4]\n",
      "[1, 2000, 3, 4]\n"
     ]
    }
   ],
   "source": [
    "arr_copy = arr[:] # Deep copy with different referance\n",
    "print(id(arr))\n",
    "print(id(arr_copy))\n",
    "arr_copy[1] = 2000 # This does not changes the original array\n",
    "print(arr)\n",
    "print(arr_copy)"
   ]
  },
  {
   "cell_type": "code",
   "execution_count": 10,
   "metadata": {},
   "outputs": [
    {
     "name": "stdout",
     "output_type": "stream",
     "text": [
      "140479523620544\n",
      "140479075239424\n",
      "[100, 200, 300, 400]\n",
      "[100, 2000, 300, 400]\n"
     ]
    }
   ],
   "source": [
    "from copy import deepcopy\n",
    "arr = [100, 200, 300, 400] # Re assigning the array\n",
    "arr_copy = deepcopy(arr) # Deep copy using deepcopy method from copy\n",
    "print(id(arr))\n",
    "print(id(arr_copy))\n",
    "arr_copy[1] = 2000 # This does not changes the original array\n",
    "print(arr)\n",
    "print(arr_copy)"
   ]
  },
  {
   "cell_type": "code",
   "execution_count": 11,
   "metadata": {},
   "outputs": [
    {
     "name": "stdout",
     "output_type": "stream",
     "text": [
      "{'name': 'Jane', 'Age': 49}\n",
      "{'name': 'Jane', 'Age': 49}\n",
      "140479075354176\n",
      "140479075354176\n"
     ]
    }
   ],
   "source": [
    "# Copy in dictionary\n",
    "dicti = dict({'name': 'John', 'Age': 49})\n",
    "dicti_copy = dicti # This is refrance copy \n",
    "dicti_copy['name'] = 'Jane' # This changes the original dictionary\n",
    "print(dicti)\n",
    "print(dicti_copy)\n",
    "print(id(dicti))\n",
    "print(id(dicti_copy))\n"
   ]
  },
  {
   "cell_type": "code",
   "execution_count": 12,
   "metadata": {},
   "outputs": [
    {
     "name": "stdout",
     "output_type": "stream",
     "text": [
      "{'name': 'John', 'Age': 49}\n",
      "{'name': 'Jane', 'Age': 49}\n",
      "140479075353600\n",
      "140479075246400\n"
     ]
    }
   ],
   "source": [
    "# Deep Copy in dictionary\n",
    "dicti = dict({'name': 'John', 'Age': 49})\n",
    "dicti_copy = deepcopy(dicti) # Deep copy with different referance\n",
    "dicti_copy['name'] = 'Jane' # This does not change the original dictionary\n",
    "print(dicti)\n",
    "print(dicti_copy)\n",
    "print(id(dicti))\n",
    "print(id(dicti_copy))"
   ]
  },
  {
   "cell_type": "markdown",
   "metadata": {},
   "source": [
    "## Classes"
   ]
  },
  {
   "cell_type": "code",
   "execution_count": 13,
   "metadata": {},
   "outputs": [],
   "source": [
    "class model():\n",
    "    # Constructor method\n",
    "    def __init__(self, numlayers, numunits, name):\n",
    "        self.layers = numlayers\n",
    "        self.units = numunits\n",
    "        self.name = name\n",
    "        self.weights = 0\n",
    "    \n",
    "    def howManyLayers(self):\n",
    "        print(f'{self.name} has {self.layers} layers')\n",
    "\n",
    "    def howManyUnits(self):\n",
    "        totalUnits = self.layers * self.units\n",
    "        print(f'There are {totalUnits} units in the model.')\n",
    "\n",
    "    def trainTheModel(self, x):\n",
    "        self.weights += x\n",
    "        return self.weights\n"
   ]
  },
  {
   "cell_type": "code",
   "execution_count": 14,
   "metadata": {},
   "outputs": [
    {
     "name": "stdout",
     "output_type": "stream",
     "text": [
      "Convolution has 5 layers\n",
      "There are 50 units in the model.\n",
      "CNN has 15 layers\n",
      "There are 300 units in the model.\n"
     ]
    },
    {
     "data": {
      "text/plain": [
       "20"
      ]
     },
     "execution_count": 14,
     "metadata": {},
     "output_type": "execute_result"
    }
   ],
   "source": [
    "m1 = model(5, 10, 'Convolution') # Instance of the class\n",
    "m1.howManyLayers()\n",
    "m1.howManyUnits()\n",
    "\n",
    "m2 = model(15, 20, 'CNN') # 2nd Instance of the class\n",
    "m2.howManyLayers()\n",
    "m2.howManyUnits()\n",
    "m2.trainTheModel(5)\n",
    "m2.trainTheModel(5)\n",
    "m2.trainTheModel(5)\n",
    "m2.trainTheModel(5)"
   ]
  },
  {
   "cell_type": "code",
   "execution_count": 15,
   "metadata": {},
   "outputs": [],
   "source": [
    "class new_model():\n",
    "    def __init__(self, layers, units, name):\n",
    "        self.layers = layers\n",
    "        self.units = units\n",
    "        self.name = name\n",
    "        self.weights =  np.random.randn(self.layers, self.units)\n",
    "    \n",
    "    def trainTheModel(self, X, b):\n",
    "        return self.weights * X + b"
   ]
  },
  {
   "cell_type": "code",
   "execution_count": 16,
   "metadata": {},
   "outputs": [
    {
     "data": {
      "text/plain": [
       "array([[184.41429054, 118.86558948,  89.91499824, 117.77975792,\n",
       "        151.22749829, -34.57205737, 105.08328789,  81.76864567,\n",
       "         36.21828797, 140.15316895],\n",
       "       [106.20429739, 130.14080048, 100.12949204, 164.88199858,\n",
       "         76.0512567 , 134.34744548, 107.54517417,  54.28156275,\n",
       "         22.34070038,  91.78333946],\n",
       "       [105.18898849, 126.77700399, 104.17163179, 118.91331478,\n",
       "         65.45251339, 189.84006323, 131.67495024, 176.27233352,\n",
       "         68.09997082, 160.45108653],\n",
       "       [169.67763412, 142.41770757, 159.44503974,  97.18069841,\n",
       "         35.97227485,  88.45810933, 200.5530508 ,  89.37709319,\n",
       "        128.13170637, 101.43863166],\n",
       "       [ 84.1527453 , 141.41487981,  86.16367066, 167.30335658,\n",
       "        106.2041051 ,  83.42724811,  89.79728979,  26.81629354,\n",
       "        105.07399685, 123.31392625]])"
      ]
     },
     "execution_count": 16,
     "metadata": {},
     "output_type": "execute_result"
    }
   ],
   "source": [
    "newM = new_model(5, 10, 'Dropout')\n",
    "newM.trainTheModel(50, 100)"
   ]
  },
  {
   "cell_type": "code",
   "execution_count": 17,
   "metadata": {},
   "outputs": [
    {
     "name": "stdout",
     "output_type": "stream",
     "text": [
      "Index 0 has a value of -10.0\n",
      "Index 1 has a value of -7.142857142857142\n",
      "Index 2 has a value of -4.285714285714286\n",
      "Index 3 has a value of -1.4285714285714288\n",
      "Index 4 has a value of 1.4285714285714288\n",
      "Index 5 has a value of 4.2857142857142865\n",
      "Index 6 has a value of 7.142857142857142\n",
      "Index 7 has a value of 10.0\n",
      "==============Using Enumerate==================\n",
      "Index 0 has a value of -10.0\n",
      "Index 1 has a value of -7.142857142857142\n",
      "Index 2 has a value of -4.285714285714286\n",
      "Index 3 has a value of -1.4285714285714288\n",
      "Index 4 has a value of 1.4285714285714288\n",
      "Index 5 has a value of 4.2857142857142865\n",
      "Index 6 has a value of 7.142857142857142\n",
      "Index 7 has a value of 10.0\n",
      "Index 0 has a value of H\n",
      "Index 1 has a value of e\n",
      "Index 2 has a value of l\n",
      "Index 3 has a value of l\n",
      "Index 4 has a value of o\n",
      "Index 5 has a value of  \n",
      "Index 6 has a value of m\n",
      "Index 7 has a value of y\n",
      "Index 8 has a value of  \n",
      "Index 9 has a value of n\n",
      "Index 10 has a value of a\n",
      "Index 11 has a value of m\n",
      "Index 12 has a value of e\n",
      "Index 13 has a value of  \n",
      "Index 14 has a value of i\n",
      "Index 15 has a value of s\n",
      "Index 16 has a value of  \n",
      "Index 17 has a value of J\n",
      "Index 18 has a value of o\n",
      "Index 19 has a value of h\n",
      "Index 20 has a value of n\n",
      "Index 21 has a value of .\n"
     ]
    }
   ],
   "source": [
    "# enumerate\n",
    "ns = np.linspace(-10, 10, 8)\n",
    "\n",
    "## Without using enumerate\n",
    "for i in range(len(ns)):\n",
    "    print('Index ' + str(i) + ' has a value of ' + str(ns[i]))\n",
    "\n",
    "## Using enumerate\n",
    "print('==============Using Enumerate==================')\n",
    "for i,n in enumerate(ns):\n",
    "    print('Index ' + str(i) + ' has a value of ' + str(n))\n",
    "\n",
    "### Enumerate for strings\n",
    "text = 'Hello my name is John.'\n",
    "for i,n in enumerate(text):\n",
    "    print('Index ' + str(i) + ' has a value of ' + str(n)) "
   ]
  },
  {
   "cell_type": "code",
   "execution_count": 18,
   "metadata": {},
   "outputs": [
    {
     "name": "stdout",
     "output_type": "stream",
     "text": [
      "3  :  a  :  This will Print\n",
      "5  :  e  :  This will Print\n",
      "6  :  i  :  This will Print\n",
      "6  :  o  :  This will Print\n",
      "7  :  u  :  This will Print\n"
     ]
    }
   ],
   "source": [
    "# Zip\n",
    "listA = [3, 5, 6, 6, 7]\n",
    "listB = ['a', 'e', 'i', 'o', 'u']\n",
    "listC = [\"This will Print\", \"This will Print\", \"This will Print\", \"This will Print\", \"This will Print\", \"This will not be Printed\"]\n",
    "for a, b, c in zip(listA, listB, listC):\n",
    "    print(a, ' : ', b, ' : ', c) # Zip only iterates through sortest list in the zip"
   ]
  },
  {
   "cell_type": "code",
   "execution_count": 19,
   "metadata": {},
   "outputs": [
    {
     "name": "stdout",
     "output_type": "stream",
     "text": [
      "{'alpha': 10, 'beta': 20, 'gamma': 30}\n"
     ]
    }
   ],
   "source": [
    "# Another zip example\n",
    "names = ['alpha', 'beta', 'gamma']\n",
    "values = [10, 20, 30]\n",
    "dictionary = dict()\n",
    "for n,v in zip(names, values):\n",
    "    dictionary[n] = v\n",
    "print(dictionary)"
   ]
  },
  {
   "cell_type": "code",
   "execution_count": 24,
   "metadata": {},
   "outputs": [
    {
     "name": "stdout",
     "output_type": "stream",
     "text": [
      "H\n",
      "l\n",
      "l\n",
      ",\n",
      " \n",
      "m\n",
      "y\n",
      " \n",
      "n\n",
      "m\n",
      " \n",
      "s\n",
      " \n",
      "J\n",
      "h\n",
      "n\n",
      ".\n"
     ]
    }
   ],
   "source": [
    "# Continue\n",
    "text = 'HellO, my name is JOhn.'\n",
    "for i in text:\n",
    "    if i.lower() in 'aeiou':\n",
    "        continue\n",
    "    print(i)"
   ]
  },
  {
   "cell_type": "code",
   "execution_count": 41,
   "metadata": {},
   "outputs": [
    {
     "data": {
      "text/plain": [
       "array([[-0.92718905,  0.33880776, -0.96862755,  1.82305147,  0.5470554 ],\n",
       "       [ 1.10470126,  0.55525234,  0.86871058,  0.13798764, -0.68491632],\n",
       "       [-0.36287176,  0.13114097, -0.68611288, -0.70336231,  0.20234544],\n",
       "       [-1.30592405, -0.46032648, -0.60682911,  0.90321453, -0.10136451],\n",
       "       [ 0.42342746,  0.90231226, -0.2580391 ,  1.37056114,  0.89196257]])"
      ]
     },
     "execution_count": 41,
     "metadata": {},
     "output_type": "execute_result"
    }
   ],
   "source": [
    "# Initialization in python\n",
    "r = np.zeros(10)\n",
    "r_matrix = np.zeros((5,5),'float')\n",
    "r_full = np.full((5,5), 1)\n",
    "r_rand = np.random.randn(5,5)\n",
    "r_rand"
   ]
  },
  {
   "cell_type": "code",
   "execution_count": 39,
   "metadata": {},
   "outputs": [],
   "source": [
    "# Delete a variable in python\n",
    "del r\n",
    "del r_matrix, r_full\n"
   ]
  },
  {
   "cell_type": "code",
   "execution_count": 50,
   "metadata": {},
   "outputs": [
    {
     "name": "stdout",
     "output_type": "stream",
     "text": [
      "Time elepshed in Numpy zeros 1 is :  1.4489549998870643ms\n",
      "Time elepshed in Numpy full is :  1.1329849999128783ms\n",
      "Time elepshed in Numpy append is :  25.645214999713062ms\n",
      "Time elepshed in List append is :  0.6358179998642299ms\n"
     ]
    }
   ],
   "source": [
    "# compare 4 methods for initialization in python\n",
    "from time import perf_counter as counter\n",
    "\n",
    "N = 10000\n",
    "## method 1\n",
    "t_start = counter()\n",
    "arr1 = np.zeros(N)\n",
    "\n",
    "for i in range(N):\n",
    "    arr1[i] = i ** 2\n",
    "\n",
    "print('Time elepshed in Numpy zeros 1 is : ', str((counter() - t_start)*1000) + 'ms')\n",
    "## method 2\n",
    "t_start = counter()\n",
    "arr2 = np.full(N, 0)\n",
    "\n",
    "for i in range(N):\n",
    "    arr2[i] = i ** 2\n",
    "\n",
    "print('Time elepshed in Numpy full is : ', str((counter() - t_start)*1000) + 'ms')\n",
    "## method 3\n",
    "t_start = counter()\n",
    "arr3 = np.array([])\n",
    "\n",
    "for i in range(N):\n",
    "   arr3 = np.append(arr3, i ** 2)\n",
    "\n",
    "print('Time elepshed in Numpy append is : ', str((counter() - t_start)*1000) + 'ms')\n",
    "## method 4\n",
    "t_start = counter()\n",
    "arr4 = []\n",
    "\n",
    "for i in range(N):\n",
    "   arr4.append(i ** 2)\n",
    "\n",
    "print('Time elepshed in List append is : ', str((counter() - t_start)*1000) + 'ms')"
   ]
  },
  {
   "cell_type": "code",
   "execution_count": 54,
   "metadata": {},
   "outputs": [
    {
     "name": "stdout",
     "output_type": "stream",
     "text": [
      "[9, 16, 25, 36, 49, 64, 81]\n"
     ]
    }
   ],
   "source": [
    "# List Comprehension\n",
    "lst = [i**2 for i in range(10) if i > 2]\n",
    "print(lst)"
   ]
  },
  {
   "cell_type": "markdown",
   "metadata": {},
   "source": [
    "### Convert into 1 line code"
   ]
  },
  {
   "cell_type": "code",
   "execution_count": 59,
   "metadata": {},
   "outputs": [
    {
     "name": "stdout",
     "output_type": "stream",
     "text": [
      "P\n",
      "Y\n",
      "t\n",
      "h\n",
      "o\n",
      "N\n",
      "Answer 1: \n",
      "P\n",
      "Y\n",
      "t\n",
      "h\n",
      "o\n",
      "N\n"
     ]
    },
    {
     "data": {
      "text/plain": [
       "[None, None, None, None, None, None]"
      ]
     },
     "execution_count": 59,
     "metadata": {},
     "output_type": "execute_result"
    }
   ],
   "source": [
    "# Question 1\n",
    "text = ['Promising', 'Yves', 'that', 'home', 'on', 'Nobb']\n",
    "# for word in text:\n",
    "#     print(word[0])\n",
    "# Answer\n",
    "print('Answer 1: ',)\n",
    "[print(word[0]) for word in text]\n",
    "\n"
   ]
  },
  {
   "cell_type": "code",
   "execution_count": 61,
   "metadata": {},
   "outputs": [
    {
     "name": "stdout",
     "output_type": "stream",
     "text": [
      "Answer 2: \n"
     ]
    },
    {
     "data": {
      "text/plain": [
       "[0, 'Odd', 2, 'Odd', 4, 'Odd', 6, 'Odd', 8, 'Odd']"
      ]
     },
     "execution_count": 61,
     "metadata": {},
     "output_type": "execute_result"
    }
   ],
   "source": [
    "# Question 2\n",
    "# newlist = ['']*10\n",
    "\n",
    "# for i in range(10):\n",
    "#     if i%2 == 1:\n",
    "#         newlist[i] = 'Odd'\n",
    "#     else:\n",
    "#         newlist[i] = i\n",
    "# newlist\n",
    "\n",
    "# Answer 2\n",
    "print('Answer 2: ')\n",
    "['Odd' if i%2 == 1 else i for i in range(10)]"
   ]
  },
  {
   "cell_type": "code",
   "execution_count": 77,
   "metadata": {},
   "outputs": [
    {
     "name": "stdout",
     "output_type": "stream",
     "text": [
      "[-3.  -2.4 -1.8 -1.2 -0.6  0.   0.6  1.2  1.8  2.4  3. ]\n",
      "[9.   5.76 3.24 1.44 0.36 0.   0.36 1.44 3.24 5.76 9.  ]\n",
      " \n",
      "[-3.0, -2.4, -1.7999999999999998, -1.2, -0.6, 0.0, 0.6, 1.2, 1.7999999999999998, 2.4, 3.0]\n",
      "[9.0, 5.76, 3.24, 1.4400000000000004, 0.3600000000000001, 0.0, 0.3599999999999996, 1.4400000000000004, 3.2399999999999993, 5.759999999999997, 9.0]\n"
     ]
    }
   ],
   "source": [
    "import math\n",
    "# Question 3\n",
    "x1 = np.linspace(-3, 3,11)\n",
    "y1 = x1 ** 2\n",
    "print(x1)\n",
    "print(y1)\n",
    "print(\" \")\n",
    "x2 = [i/(5/3) for i in range(-5,6)]\n",
    "y2 = [i**2 for i in x1]\n",
    "print(x2)\n",
    "print(y2)"
   ]
  },
  {
   "cell_type": "code",
   "execution_count": null,
   "metadata": {},
   "outputs": [],
   "source": []
  }
 ],
 "metadata": {
  "kernelspec": {
   "display_name": "base",
   "language": "python",
   "name": "python3"
  },
  "language_info": {
   "codemirror_mode": {
    "name": "ipython",
    "version": 3
   },
   "file_extension": ".py",
   "mimetype": "text/x-python",
   "name": "python",
   "nbconvert_exporter": "python",
   "pygments_lexer": "ipython3",
   "version": "3.12.7"
  }
 },
 "nbformat": 4,
 "nbformat_minor": 2
}
