{
 "cells": [
  {
   "cell_type": "markdown",
   "metadata": {},
   "source": [
    "## Variables\n"
   ]
  },
  {
   "cell_type": "code",
   "execution_count": 1,
   "metadata": {},
   "outputs": [],
   "source": [
    "# Imports\n",
    "import numpy as np"
   ]
  },
  {
   "cell_type": "code",
   "execution_count": 2,
   "metadata": {},
   "outputs": [
    {
     "name": "stdout",
     "output_type": "stream",
     "text": [
      "4\n"
     ]
    }
   ],
   "source": [
    "a = 4\n",
    "print(a)"
   ]
  },
  {
   "cell_type": "code",
   "execution_count": 3,
   "metadata": {},
   "outputs": [
    {
     "name": "stdout",
     "output_type": "stream",
     "text": [
      "4.4\n"
     ]
    }
   ],
   "source": [
    "a = 4.4\n",
    "print(a)"
   ]
  },
  {
   "cell_type": "code",
   "execution_count": 4,
   "metadata": {},
   "outputs": [
    {
     "name": "stdout",
     "output_type": "stream",
     "text": [
      "kumar\n"
     ]
    }
   ],
   "source": [
    "a = 'kumar'\n",
    "print(a)"
   ]
  },
  {
   "cell_type": "code",
   "execution_count": 5,
   "metadata": {},
   "outputs": [],
   "source": [
    "b, c, d, e = 'king', '55.50505', 10101, False"
   ]
  },
  {
   "cell_type": "code",
   "execution_count": 6,
   "metadata": {},
   "outputs": [
    {
     "name": "stdout",
     "output_type": "stream",
     "text": [
      "king 55.50505 10101 False\n"
     ]
    }
   ],
   "source": [
    "print(b, c, d, e)"
   ]
  },
  {
   "cell_type": "code",
   "execution_count": 7,
   "metadata": {},
   "outputs": [
    {
     "name": "stdout",
     "output_type": "stream",
     "text": [
      "Variable   Type      Data/Info\n",
      "------------------------------\n",
      "a          str       kumar\n",
      "b          str       king\n",
      "c          str       55.50505\n",
      "d          int       10101\n",
      "e          bool      False\n",
      "np         module    <module 'numpy' from '/ku<...>kages/numpy/__init__.py'>\n"
     ]
    }
   ],
   "source": [
    "%whos"
   ]
  },
  {
   "cell_type": "markdown",
   "metadata": {},
   "source": [
    "## Copy"
   ]
  },
  {
   "cell_type": "code",
   "execution_count": 8,
   "metadata": {},
   "outputs": [
    {
     "name": "stdout",
     "output_type": "stream",
     "text": [
      "140162327214848\n",
      "140162327214848\n",
      "[1, 100, 3, 4]\n",
      "[1, 100, 3, 4]\n"
     ]
    }
   ],
   "source": [
    "arr = [1, 2, 3, 4]\n",
    "arr_copy = arr # This is refrance copy \n",
    "print(id(arr))\n",
    "print(id(arr_copy))\n",
    "arr_copy[1] = 100 # This changes the original array too\n",
    "print(arr)\n",
    "print(arr_copy)"
   ]
  },
  {
   "cell_type": "code",
   "execution_count": 9,
   "metadata": {},
   "outputs": [
    {
     "name": "stdout",
     "output_type": "stream",
     "text": [
      "140162327214848\n",
      "140162327215872\n",
      "[1, 100, 3, 4]\n",
      "[1, 2000, 3, 4]\n"
     ]
    }
   ],
   "source": [
    "arr_copy = arr[:] # Deep copy with different referance\n",
    "print(id(arr))\n",
    "print(id(arr_copy))\n",
    "arr_copy[1] = 2000 # This does not changes the original array\n",
    "print(arr)\n",
    "print(arr_copy)"
   ]
  },
  {
   "cell_type": "code",
   "execution_count": 10,
   "metadata": {},
   "outputs": [
    {
     "name": "stdout",
     "output_type": "stream",
     "text": [
      "140162327215232\n",
      "140162327215488\n",
      "[100, 200, 300, 400]\n",
      "[100, 2000, 300, 400]\n"
     ]
    }
   ],
   "source": [
    "from copy import deepcopy\n",
    "arr = [100, 200, 300, 400] # Re assigning the array\n",
    "arr_copy = deepcopy(arr) # Deep copy using deepcopy method from copy\n",
    "print(id(arr))\n",
    "print(id(arr_copy))\n",
    "arr_copy[1] = 2000 # This does not changes the original array\n",
    "print(arr)\n",
    "print(arr_copy)"
   ]
  },
  {
   "cell_type": "code",
   "execution_count": 11,
   "metadata": {},
   "outputs": [
    {
     "name": "stdout",
     "output_type": "stream",
     "text": [
      "{'name': 'Jane', 'Age': 49}\n",
      "{'name': 'Jane', 'Age': 49}\n",
      "140161956626944\n",
      "140161956626944\n"
     ]
    }
   ],
   "source": [
    "# Copy in dictionary\n",
    "dicti = dict({'name': 'John', 'Age': 49})\n",
    "dicti_copy = dicti # This is refrance copy \n",
    "dicti_copy['name'] = 'Jane' # This changes the original dictionary\n",
    "print(dicti)\n",
    "print(dicti_copy)\n",
    "print(id(dicti))\n",
    "print(id(dicti_copy))\n"
   ]
  },
  {
   "cell_type": "code",
   "execution_count": 12,
   "metadata": {},
   "outputs": [
    {
     "name": "stdout",
     "output_type": "stream",
     "text": [
      "{'name': 'John', 'Age': 49}\n",
      "{'name': 'Jane', 'Age': 49}\n",
      "140161956627776\n",
      "140162327356736\n"
     ]
    }
   ],
   "source": [
    "# Deep Copy in dictionary\n",
    "dicti = dict({'name': 'John', 'Age': 49})\n",
    "dicti_copy = deepcopy(dicti) # Deep copy with different referance\n",
    "dicti_copy['name'] = 'Jane' # This does not change the original dictionary\n",
    "print(dicti)\n",
    "print(dicti_copy)\n",
    "print(id(dicti))\n",
    "print(id(dicti_copy))"
   ]
  },
  {
   "cell_type": "markdown",
   "metadata": {},
   "source": [
    "## Classes"
   ]
  },
  {
   "cell_type": "code",
   "execution_count": 13,
   "metadata": {},
   "outputs": [],
   "source": [
    "class model():\n",
    "    # Constructor method\n",
    "    def __init__(self, numlayers, numunits, name):\n",
    "        self.layers = numlayers\n",
    "        self.units = numunits\n",
    "        self.name = name\n",
    "        self.weights = 0\n",
    "    \n",
    "    def howManyLayers(self):\n",
    "        print(f'{self.name} has {self.layers} layers')\n",
    "\n",
    "    def howManyUnits(self):\n",
    "        totalUnits = self.layers * self.units\n",
    "        print(f'There are {totalUnits} units in the model.')\n",
    "\n",
    "    def trainTheModel(self, x):\n",
    "        self.weights += x\n",
    "        return self.weights\n"
   ]
  },
  {
   "cell_type": "code",
   "execution_count": 14,
   "metadata": {},
   "outputs": [
    {
     "name": "stdout",
     "output_type": "stream",
     "text": [
      "Convolution has 5 layers\n",
      "There are 50 units in the model.\n",
      "CNN has 15 layers\n",
      "There are 300 units in the model.\n"
     ]
    },
    {
     "data": {
      "text/plain": [
       "20"
      ]
     },
     "execution_count": 14,
     "metadata": {},
     "output_type": "execute_result"
    }
   ],
   "source": [
    "m1 = model(5, 10, 'Convolution') # Instance of the class\n",
    "m1.howManyLayers()\n",
    "m1.howManyUnits()\n",
    "\n",
    "m2 = model(15, 20, 'CNN') # 2nd Instance of the class\n",
    "m2.howManyLayers()\n",
    "m2.howManyUnits()\n",
    "m2.trainTheModel(5)\n",
    "m2.trainTheModel(5)\n",
    "m2.trainTheModel(5)\n",
    "m2.trainTheModel(5)"
   ]
  },
  {
   "cell_type": "code",
   "execution_count": 15,
   "metadata": {},
   "outputs": [],
   "source": [
    "class new_model():\n",
    "    def __init__(self, layers, units, name):\n",
    "        self.layers = layers\n",
    "        self.units = units\n",
    "        self.name = name\n",
    "        self.weights =  np.random.randn(self.layers, self.units)\n",
    "    \n",
    "    def trainTheModel(self, X, b):\n",
    "        return self.weights * X + b"
   ]
  },
  {
   "cell_type": "code",
   "execution_count": 16,
   "metadata": {},
   "outputs": [
    {
     "data": {
      "text/plain": [
       "array([[ 53.46924917, 145.66708209, 110.78505459,  89.40151023,\n",
       "         39.17469466, 112.86881234,  21.94865541, 115.57775217,\n",
       "        125.53679775,  46.7345579 ],\n",
       "       [ 83.81431543,  98.47836477,  70.38006755, 143.42314534,\n",
       "         35.71890109, 194.60269015,  99.791055  ,  74.34489294,\n",
       "         47.0686472 , 157.89123227],\n",
       "       [139.83759005,  23.7532388 , 160.66231359,  69.11779286,\n",
       "         60.39146583, 136.39794936, 124.96162114, 148.70832945,\n",
       "         76.79227066, 107.83356065],\n",
       "       [121.34956138,  63.6931473 ,  42.32302518,  85.56304876,\n",
       "        180.9282708 , -17.00652625, 112.75016369,  98.88435699,\n",
       "        159.63701707,  96.07057011],\n",
       "       [160.51137778, 182.44039561,  23.6981988 ,  96.54216713,\n",
       "         81.55750205, 162.91663976, 151.12933258, 185.81171046,\n",
       "         77.33127764, 117.68389173]])"
      ]
     },
     "execution_count": 16,
     "metadata": {},
     "output_type": "execute_result"
    }
   ],
   "source": [
    "newM = new_model(5, 10, 'Dropout')\n",
    "newM.trainTheModel(50, 100)"
   ]
  },
  {
   "cell_type": "code",
   "execution_count": 19,
   "metadata": {},
   "outputs": [
    {
     "name": "stdout",
     "output_type": "stream",
     "text": [
      "Index 0 has a value of -10.0\n",
      "Index 1 has a value of -7.142857142857142\n",
      "Index 2 has a value of -4.285714285714286\n",
      "Index 3 has a value of -1.4285714285714288\n",
      "Index 4 has a value of 1.4285714285714288\n",
      "Index 5 has a value of 4.2857142857142865\n",
      "Index 6 has a value of 7.142857142857142\n",
      "Index 7 has a value of 10.0\n",
      "==============Using Enumerate==================\n",
      "Index 0 has a value of -10.0\n",
      "Index 1 has a value of -7.142857142857142\n",
      "Index 2 has a value of -4.285714285714286\n",
      "Index 3 has a value of -1.4285714285714288\n",
      "Index 4 has a value of 1.4285714285714288\n",
      "Index 5 has a value of 4.2857142857142865\n",
      "Index 6 has a value of 7.142857142857142\n",
      "Index 7 has a value of 10.0\n"
     ]
    }
   ],
   "source": [
    "# enumerate\n",
    "ns = np.linspace(-10, 10, 8)\n",
    "\n",
    "## Without using enumerate\n",
    "for i in range(len(ns)):\n",
    "    print('Index ' + str(i) + ' has a value of ' + str(ns[i]))\n",
    "\n",
    "## Using enumerate\n",
    "print('==============Using Enumerate==================')\n",
    "for i,n in enumerate(ns):\n",
    "    print('Index ' + str(i) + ' has a value of ' + str(n))"
   ]
  },
  {
   "cell_type": "code",
   "execution_count": null,
   "metadata": {},
   "outputs": [],
   "source": []
  }
 ],
 "metadata": {
  "kernelspec": {
   "display_name": "base",
   "language": "python",
   "name": "python3"
  },
  "language_info": {
   "codemirror_mode": {
    "name": "ipython",
    "version": 3
   },
   "file_extension": ".py",
   "mimetype": "text/x-python",
   "name": "python",
   "nbconvert_exporter": "python",
   "pygments_lexer": "ipython3",
   "version": "3.12.7"
  }
 },
 "nbformat": 4,
 "nbformat_minor": 2
}
