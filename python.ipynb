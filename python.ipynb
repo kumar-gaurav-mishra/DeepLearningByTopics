{
 "cells": [
  {
   "cell_type": "markdown",
   "metadata": {},
   "source": [
    "## Variables\n"
   ]
  },
  {
   "cell_type": "code",
   "execution_count": 1,
   "metadata": {},
   "outputs": [],
   "source": [
    "# Imports\n",
    "import numpy as np"
   ]
  },
  {
   "cell_type": "code",
   "execution_count": 2,
   "metadata": {},
   "outputs": [
    {
     "name": "stdout",
     "output_type": "stream",
     "text": [
      "4\n"
     ]
    }
   ],
   "source": [
    "a = 4\n",
    "print(a)"
   ]
  },
  {
   "cell_type": "code",
   "execution_count": 3,
   "metadata": {},
   "outputs": [
    {
     "name": "stdout",
     "output_type": "stream",
     "text": [
      "4.4\n"
     ]
    }
   ],
   "source": [
    "a = 4.4\n",
    "print(a)"
   ]
  },
  {
   "cell_type": "code",
   "execution_count": 4,
   "metadata": {},
   "outputs": [
    {
     "name": "stdout",
     "output_type": "stream",
     "text": [
      "kumar\n"
     ]
    }
   ],
   "source": [
    "a = 'kumar'\n",
    "print(a)"
   ]
  },
  {
   "cell_type": "code",
   "execution_count": 5,
   "metadata": {},
   "outputs": [],
   "source": [
    "b, c, d, e = 'king', '55.50505', 10101, False"
   ]
  },
  {
   "cell_type": "code",
   "execution_count": 6,
   "metadata": {},
   "outputs": [
    {
     "name": "stdout",
     "output_type": "stream",
     "text": [
      "king 55.50505 10101 False\n"
     ]
    }
   ],
   "source": [
    "print(b, c, d, e)"
   ]
  },
  {
   "cell_type": "code",
   "execution_count": 7,
   "metadata": {},
   "outputs": [
    {
     "name": "stdout",
     "output_type": "stream",
     "text": [
      "Variable   Type      Data/Info\n",
      "------------------------------\n",
      "a          str       kumar\n",
      "b          str       king\n",
      "c          str       55.50505\n",
      "d          int       10101\n",
      "e          bool      False\n",
      "np         module    <module 'numpy' from '/ku<...>kages/numpy/__init__.py'>\n"
     ]
    }
   ],
   "source": [
    "%whos"
   ]
  },
  {
   "cell_type": "markdown",
   "metadata": {},
   "source": [
    "## Copy"
   ]
  },
  {
   "cell_type": "code",
   "execution_count": 8,
   "metadata": {},
   "outputs": [
    {
     "name": "stdout",
     "output_type": "stream",
     "text": [
      "140479075239232\n",
      "140479075239232\n",
      "[1, 100, 3, 4]\n",
      "[1, 100, 3, 4]\n"
     ]
    }
   ],
   "source": [
    "arr = [1, 2, 3, 4]\n",
    "arr_copy = arr # This is refrance copy \n",
    "print(id(arr))\n",
    "print(id(arr_copy))\n",
    "arr_copy[1] = 100 # This changes the original array too\n",
    "print(arr)\n",
    "print(arr_copy)"
   ]
  },
  {
   "cell_type": "code",
   "execution_count": 9,
   "metadata": {},
   "outputs": [
    {
     "name": "stdout",
     "output_type": "stream",
     "text": [
      "140479075239232\n",
      "140479075239936\n",
      "[1, 100, 3, 4]\n",
      "[1, 2000, 3, 4]\n"
     ]
    }
   ],
   "source": [
    "arr_copy = arr[:] # Deep copy with different referance\n",
    "print(id(arr))\n",
    "print(id(arr_copy))\n",
    "arr_copy[1] = 2000 # This does not changes the original array\n",
    "print(arr)\n",
    "print(arr_copy)"
   ]
  },
  {
   "cell_type": "code",
   "execution_count": 10,
   "metadata": {},
   "outputs": [
    {
     "name": "stdout",
     "output_type": "stream",
     "text": [
      "140479523620544\n",
      "140479075239424\n",
      "[100, 200, 300, 400]\n",
      "[100, 2000, 300, 400]\n"
     ]
    }
   ],
   "source": [
    "from copy import deepcopy\n",
    "arr = [100, 200, 300, 400] # Re assigning the array\n",
    "arr_copy = deepcopy(arr) # Deep copy using deepcopy method from copy\n",
    "print(id(arr))\n",
    "print(id(arr_copy))\n",
    "arr_copy[1] = 2000 # This does not changes the original array\n",
    "print(arr)\n",
    "print(arr_copy)"
   ]
  },
  {
   "cell_type": "code",
   "execution_count": 11,
   "metadata": {},
   "outputs": [
    {
     "name": "stdout",
     "output_type": "stream",
     "text": [
      "{'name': 'Jane', 'Age': 49}\n",
      "{'name': 'Jane', 'Age': 49}\n",
      "140479075354176\n",
      "140479075354176\n"
     ]
    }
   ],
   "source": [
    "# Copy in dictionary\n",
    "dicti = dict({'name': 'John', 'Age': 49})\n",
    "dicti_copy = dicti # This is refrance copy \n",
    "dicti_copy['name'] = 'Jane' # This changes the original dictionary\n",
    "print(dicti)\n",
    "print(dicti_copy)\n",
    "print(id(dicti))\n",
    "print(id(dicti_copy))\n"
   ]
  },
  {
   "cell_type": "code",
   "execution_count": 12,
   "metadata": {},
   "outputs": [
    {
     "name": "stdout",
     "output_type": "stream",
     "text": [
      "{'name': 'John', 'Age': 49}\n",
      "{'name': 'Jane', 'Age': 49}\n",
      "140479075353600\n",
      "140479075246400\n"
     ]
    }
   ],
   "source": [
    "# Deep Copy in dictionary\n",
    "dicti = dict({'name': 'John', 'Age': 49})\n",
    "dicti_copy = deepcopy(dicti) # Deep copy with different referance\n",
    "dicti_copy['name'] = 'Jane' # This does not change the original dictionary\n",
    "print(dicti)\n",
    "print(dicti_copy)\n",
    "print(id(dicti))\n",
    "print(id(dicti_copy))"
   ]
  },
  {
   "cell_type": "markdown",
   "metadata": {},
   "source": [
    "## Classes"
   ]
  },
  {
   "cell_type": "code",
   "execution_count": 13,
   "metadata": {},
   "outputs": [],
   "source": [
    "class model():\n",
    "    # Constructor method\n",
    "    def __init__(self, numlayers, numunits, name):\n",
    "        self.layers = numlayers\n",
    "        self.units = numunits\n",
    "        self.name = name\n",
    "        self.weights = 0\n",
    "    \n",
    "    def howManyLayers(self):\n",
    "        print(f'{self.name} has {self.layers} layers')\n",
    "\n",
    "    def howManyUnits(self):\n",
    "        totalUnits = self.layers * self.units\n",
    "        print(f'There are {totalUnits} units in the model.')\n",
    "\n",
    "    def trainTheModel(self, x):\n",
    "        self.weights += x\n",
    "        return self.weights\n"
   ]
  },
  {
   "cell_type": "code",
   "execution_count": 14,
   "metadata": {},
   "outputs": [
    {
     "name": "stdout",
     "output_type": "stream",
     "text": [
      "Convolution has 5 layers\n",
      "There are 50 units in the model.\n",
      "CNN has 15 layers\n",
      "There are 300 units in the model.\n"
     ]
    },
    {
     "data": {
      "text/plain": [
       "20"
      ]
     },
     "execution_count": 14,
     "metadata": {},
     "output_type": "execute_result"
    }
   ],
   "source": [
    "m1 = model(5, 10, 'Convolution') # Instance of the class\n",
    "m1.howManyLayers()\n",
    "m1.howManyUnits()\n",
    "\n",
    "m2 = model(15, 20, 'CNN') # 2nd Instance of the class\n",
    "m2.howManyLayers()\n",
    "m2.howManyUnits()\n",
    "m2.trainTheModel(5)\n",
    "m2.trainTheModel(5)\n",
    "m2.trainTheModel(5)\n",
    "m2.trainTheModel(5)"
   ]
  },
  {
   "cell_type": "code",
   "execution_count": 15,
   "metadata": {},
   "outputs": [],
   "source": [
    "class new_model():\n",
    "    def __init__(self, layers, units, name):\n",
    "        self.layers = layers\n",
    "        self.units = units\n",
    "        self.name = name\n",
    "        self.weights =  np.random.randn(self.layers, self.units)\n",
    "    \n",
    "    def trainTheModel(self, X, b):\n",
    "        return self.weights * X + b"
   ]
  },
  {
   "cell_type": "code",
   "execution_count": 16,
   "metadata": {},
   "outputs": [
    {
     "data": {
      "text/plain": [
       "array([[184.41429054, 118.86558948,  89.91499824, 117.77975792,\n",
       "        151.22749829, -34.57205737, 105.08328789,  81.76864567,\n",
       "         36.21828797, 140.15316895],\n",
       "       [106.20429739, 130.14080048, 100.12949204, 164.88199858,\n",
       "         76.0512567 , 134.34744548, 107.54517417,  54.28156275,\n",
       "         22.34070038,  91.78333946],\n",
       "       [105.18898849, 126.77700399, 104.17163179, 118.91331478,\n",
       "         65.45251339, 189.84006323, 131.67495024, 176.27233352,\n",
       "         68.09997082, 160.45108653],\n",
       "       [169.67763412, 142.41770757, 159.44503974,  97.18069841,\n",
       "         35.97227485,  88.45810933, 200.5530508 ,  89.37709319,\n",
       "        128.13170637, 101.43863166],\n",
       "       [ 84.1527453 , 141.41487981,  86.16367066, 167.30335658,\n",
       "        106.2041051 ,  83.42724811,  89.79728979,  26.81629354,\n",
       "        105.07399685, 123.31392625]])"
      ]
     },
     "execution_count": 16,
     "metadata": {},
     "output_type": "execute_result"
    }
   ],
   "source": [
    "newM = new_model(5, 10, 'Dropout')\n",
    "newM.trainTheModel(50, 100)"
   ]
  },
  {
   "cell_type": "code",
   "execution_count": 17,
   "metadata": {},
   "outputs": [
    {
     "name": "stdout",
     "output_type": "stream",
     "text": [
      "Index 0 has a value of -10.0\n",
      "Index 1 has a value of -7.142857142857142\n",
      "Index 2 has a value of -4.285714285714286\n",
      "Index 3 has a value of -1.4285714285714288\n",
      "Index 4 has a value of 1.4285714285714288\n",
      "Index 5 has a value of 4.2857142857142865\n",
      "Index 6 has a value of 7.142857142857142\n",
      "Index 7 has a value of 10.0\n",
      "==============Using Enumerate==================\n",
      "Index 0 has a value of -10.0\n",
      "Index 1 has a value of -7.142857142857142\n",
      "Index 2 has a value of -4.285714285714286\n",
      "Index 3 has a value of -1.4285714285714288\n",
      "Index 4 has a value of 1.4285714285714288\n",
      "Index 5 has a value of 4.2857142857142865\n",
      "Index 6 has a value of 7.142857142857142\n",
      "Index 7 has a value of 10.0\n",
      "Index 0 has a value of H\n",
      "Index 1 has a value of e\n",
      "Index 2 has a value of l\n",
      "Index 3 has a value of l\n",
      "Index 4 has a value of o\n",
      "Index 5 has a value of  \n",
      "Index 6 has a value of m\n",
      "Index 7 has a value of y\n",
      "Index 8 has a value of  \n",
      "Index 9 has a value of n\n",
      "Index 10 has a value of a\n",
      "Index 11 has a value of m\n",
      "Index 12 has a value of e\n",
      "Index 13 has a value of  \n",
      "Index 14 has a value of i\n",
      "Index 15 has a value of s\n",
      "Index 16 has a value of  \n",
      "Index 17 has a value of J\n",
      "Index 18 has a value of o\n",
      "Index 19 has a value of h\n",
      "Index 20 has a value of n\n",
      "Index 21 has a value of .\n"
     ]
    }
   ],
   "source": [
    "# enumerate\n",
    "ns = np.linspace(-10, 10, 8)\n",
    "\n",
    "## Without using enumerate\n",
    "for i in range(len(ns)):\n",
    "    print('Index ' + str(i) + ' has a value of ' + str(ns[i]))\n",
    "\n",
    "## Using enumerate\n",
    "print('==============Using Enumerate==================')\n",
    "for i,n in enumerate(ns):\n",
    "    print('Index ' + str(i) + ' has a value of ' + str(n))\n",
    "\n",
    "### Enumerate for strings\n",
    "text = 'Hello my name is John.'\n",
    "for i,n in enumerate(text):\n",
    "    print('Index ' + str(i) + ' has a value of ' + str(n)) "
   ]
  },
  {
   "cell_type": "code",
   "execution_count": 18,
   "metadata": {},
   "outputs": [
    {
     "name": "stdout",
     "output_type": "stream",
     "text": [
      "3  :  a  :  This will Print\n",
      "5  :  e  :  This will Print\n",
      "6  :  i  :  This will Print\n",
      "6  :  o  :  This will Print\n",
      "7  :  u  :  This will Print\n"
     ]
    }
   ],
   "source": [
    "# Zip\n",
    "listA = [3, 5, 6, 6, 7]\n",
    "listB = ['a', 'e', 'i', 'o', 'u']\n",
    "listC = [\"This will Print\", \"This will Print\", \"This will Print\", \"This will Print\", \"This will Print\", \"This will not be Printed\"]\n",
    "for a, b, c in zip(listA, listB, listC):\n",
    "    print(a, ' : ', b, ' : ', c) # Zip only iterates through sortest list in the zip"
   ]
  },
  {
   "cell_type": "code",
   "execution_count": 19,
   "metadata": {},
   "outputs": [
    {
     "name": "stdout",
     "output_type": "stream",
     "text": [
      "{'alpha': 10, 'beta': 20, 'gamma': 30}\n"
     ]
    }
   ],
   "source": [
    "# Another zip example\n",
    "names = ['alpha', 'beta', 'gamma']\n",
    "values = [10, 20, 30]\n",
    "dictionary = dict()\n",
    "for n,v in zip(names, values):\n",
    "    dictionary[n] = v\n",
    "print(dictionary)"
   ]
  },
  {
   "cell_type": "code",
   "execution_count": 24,
   "metadata": {},
   "outputs": [
    {
     "name": "stdout",
     "output_type": "stream",
     "text": [
      "H\n",
      "l\n",
      "l\n",
      ",\n",
      " \n",
      "m\n",
      "y\n",
      " \n",
      "n\n",
      "m\n",
      " \n",
      "s\n",
      " \n",
      "J\n",
      "h\n",
      "n\n",
      ".\n"
     ]
    }
   ],
   "source": [
    "# Continue\n",
    "text = 'HellO, my name is JOhn.'\n",
    "for i in text:\n",
    "    if i.lower() in 'aeiou':\n",
    "        continue\n",
    "    print(i)"
   ]
  },
  {
   "cell_type": "code",
   "execution_count": null,
   "metadata": {},
   "outputs": [],
   "source": []
  }
 ],
 "metadata": {
  "kernelspec": {
   "display_name": "base",
   "language": "python",
   "name": "python3"
  },
  "language_info": {
   "codemirror_mode": {
    "name": "ipython",
    "version": 3
   },
   "file_extension": ".py",
   "mimetype": "text/x-python",
   "name": "python",
   "nbconvert_exporter": "python",
   "pygments_lexer": "ipython3",
   "version": "3.12.7"
  }
 },
 "nbformat": 4,
 "nbformat_minor": 2
}
