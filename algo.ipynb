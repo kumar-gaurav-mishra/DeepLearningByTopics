{
 "cells": [
  {
   "cell_type": "code",
   "execution_count": 1,
   "metadata": {},
   "outputs": [],
   "source": [
    "# Imports \n",
    "import numpy as np"
   ]
  },
  {
   "cell_type": "markdown",
   "metadata": {},
   "source": [
    "## 1.) Fibonacci Sequence\n"
   ]
  },
  {
   "cell_type": "code",
   "execution_count": 2,
   "metadata": {},
   "outputs": [],
   "source": [
    "def febonacci_sequence(n):\n",
    "    febonacci = [0, 1]\n",
    "    for i in range(n - 2):\n",
    "        febonacci.append(sum(febonacci[-2:]))\n",
    "    return febonacci"
   ]
  },
  {
   "cell_type": "code",
   "execution_count": 3,
   "metadata": {},
   "outputs": [
    {
     "data": {
      "text/plain": [
       "[0, 1, 1, 2, 3, 5, 8, 13]"
      ]
     },
     "execution_count": 3,
     "metadata": {},
     "output_type": "execute_result"
    }
   ],
   "source": [
    "febonacci_sequence(8)"
   ]
  },
  {
   "cell_type": "markdown",
   "metadata": {},
   "source": [
    "## 2.) Find vowels in the text sequence"
   ]
  },
  {
   "cell_type": "code",
   "execution_count": 15,
   "metadata": {},
   "outputs": [
    {
     "name": "stdout",
     "output_type": "stream",
     "text": [
      "[(1, 'e'), (4, 'o'), (10, 'a'), (12, 'e'), (14, 'i'), (18, 'o')]\n",
      "[(1, 'e'), (4, 'o'), (10, 'a'), (12, 'e'), (14, 'i'), (18, 'o')]\n"
     ]
    }
   ],
   "source": [
    "text = 'Hello my name is John.'\n",
    "# vowels = np.zeros(len(text))\n",
    "vowels = []\n",
    "vowels2 = []\n",
    "for i,n in enumerate(text):\n",
    "    ### One way to do this\n",
    "    try:\n",
    "        ['a', 'e', 'i', 'o', 'u'].index(n)\n",
    "        vowels.append((i, n))\n",
    "    except ValueError:\n",
    "        None\n",
    "\n",
    "    ### Another way to do this\n",
    "    if n in 'aeiou':\n",
    "        vowels2.append((i, n))\n",
    "print(vowels)\n",
    "print(vowels2)"
   ]
  },
  {
   "cell_type": "code",
   "execution_count": null,
   "metadata": {},
   "outputs": [],
   "source": []
  }
 ],
 "metadata": {
  "kernelspec": {
   "display_name": "base",
   "language": "python",
   "name": "python3"
  },
  "language_info": {
   "codemirror_mode": {
    "name": "ipython",
    "version": 3
   },
   "file_extension": ".py",
   "mimetype": "text/x-python",
   "name": "python",
   "nbconvert_exporter": "python",
   "pygments_lexer": "ipython3",
   "version": "3.12.7"
  }
 },
 "nbformat": 4,
 "nbformat_minor": 2
}
