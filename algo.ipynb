{
 "cells": [
  {
   "cell_type": "code",
   "execution_count": 3,
   "metadata": {},
   "outputs": [],
   "source": [
    "# Imports \n",
    "import numpy as np"
   ]
  },
  {
   "cell_type": "markdown",
   "metadata": {},
   "source": [
    "## 1.) Fibonacci Sequence\n"
   ]
  },
  {
   "cell_type": "code",
   "execution_count": 4,
   "metadata": {},
   "outputs": [],
   "source": [
    "def febonacci_sequence(n):\n",
    "    febonacci = [0, 1]\n",
    "    for i in range(n - 2):\n",
    "        febonacci.append(sum(febonacci[-2:]))\n",
    "    return febonacci"
   ]
  },
  {
   "cell_type": "code",
   "execution_count": 5,
   "metadata": {},
   "outputs": [
    {
     "data": {
      "text/plain": [
       "[0, 1, 1, 2, 3, 5, 8, 13]"
      ]
     },
     "execution_count": 5,
     "metadata": {},
     "output_type": "execute_result"
    }
   ],
   "source": [
    "febonacci_sequence(8)"
   ]
  },
  {
   "cell_type": "markdown",
   "metadata": {},
   "source": [
    "## 2.) Find vowels in the text sequence"
   ]
  },
  {
   "cell_type": "code",
   "execution_count": 6,
   "metadata": {},
   "outputs": [
    {
     "name": "stdout",
     "output_type": "stream",
     "text": [
      "[(1, 'e'), (4, 'o'), (10, 'a'), (12, 'e'), (14, 'i'), (18, 'o')]\n",
      "[(1, 'e'), (4, 'o'), (10, 'a'), (12, 'e'), (14, 'i'), (18, 'o')]\n"
     ]
    }
   ],
   "source": [
    "text = 'Hello my name is John.'\n",
    "# vowels = np.zeros(len(text))\n",
    "vowels = []\n",
    "vowels2 = []\n",
    "for i,n in enumerate(text):\n",
    "    ### One way to do this\n",
    "    try:\n",
    "        ['a', 'e', 'i', 'o', 'u'].index(n)\n",
    "        vowels.append((i, n))\n",
    "    except ValueError:\n",
    "        None\n",
    "\n",
    "    ### Another way to do this\n",
    "    if n in 'aeiou':\n",
    "        vowels2.append((i, n))\n",
    "print(vowels)\n",
    "print(vowels2)"
   ]
  },
  {
   "cell_type": "markdown",
   "metadata": {},
   "source": [
    "## 3.) Poisson Counter"
   ]
  },
  {
   "cell_type": "code",
   "execution_count": 16,
   "metadata": {},
   "outputs": [
    {
     "name": "stdout",
     "output_type": "stream",
     "text": [
      "1  :  4.5399929762484854e-05  :  0.33820348063260736\n",
      "2  :  4.5399929762484854e-05  :  0.0933086297953929\n",
      "3  :  4.5399929762484854e-05  :  0.043658807654363745\n",
      "4  :  4.5399929762484854e-05  :  0.01836614162941566\n",
      "5  :  4.5399929762484854e-05  :  0.014509063123237548\n",
      "6  :  4.5399929762484854e-05  :  0.013170029223531748\n",
      "7  :  4.5399929762484854e-05  :  0.0006206115585064676\n",
      "8  :  4.5399929762484854e-05  :  0.0005151081566741759\n",
      "9  :  4.5399929762484854e-05  :  0.0005111850032682534\n",
      "10  :  4.5399929762484854e-05  :  0.00041464667347561524\n",
      "11  :  4.5399929762484854e-05  :  0.00021172529038952334\n",
      "12  :  4.5399929762484854e-05  :  0.0001514903222910153\n",
      "13  :  4.5399929762484854e-05  :  0.0001247166283488277\n",
      "14  :  4.5399929762484854e-05  :  6.155100776621898e-05\n",
      "15  :  4.5399929762484854e-05  :  3.7621786411843744e-05\n"
     ]
    },
    {
     "data": {
      "text/plain": [
       "15"
      ]
     },
     "execution_count": 16,
     "metadata": {},
     "output_type": "execute_result"
    }
   ],
   "source": [
    "def poission_counter(lambd):\n",
    "    target = np.exp(-lambd)\n",
    "    counter = 0\n",
    "    currentVal = 1\n",
    "    currentVal = currentVal * np.random.rand()\n",
    "    while currentVal > target:\n",
    "        currentVal = currentVal * np.random.rand()\n",
    "        counter += 1\n",
    "        print(counter, \" : \", target, \" : \", currentVal)\n",
    "    return counter\n",
    "poission_counter(10)"
   ]
  },
  {
   "cell_type": "code",
   "execution_count": null,
   "metadata": {},
   "outputs": [],
   "source": []
  }
 ],
 "metadata": {
  "kernelspec": {
   "display_name": "base",
   "language": "python",
   "name": "python3"
  },
  "language_info": {
   "codemirror_mode": {
    "name": "ipython",
    "version": 3
   },
   "file_extension": ".py",
   "mimetype": "text/x-python",
   "name": "python",
   "nbconvert_exporter": "python",
   "pygments_lexer": "ipython3",
   "version": "3.12.7"
  }
 },
 "nbformat": 4,
 "nbformat_minor": 2
}
