{
 "cells": [
  {
   "cell_type": "markdown",
   "metadata": {},
   "source": [
    "# ANN Multi Output Multi Category Classification"
   ]
  },
  {
   "cell_type": "code",
   "execution_count": 2,
   "metadata": {},
   "outputs": [],
   "source": [
    "# Imports\n",
    "import numpy as np\n",
    "\n",
    "import torch\n",
    "import torch.nn as nn\n",
    "\n",
    "# Pytorch Gpu Configuration\n",
    "device = torch.device(\"cuda\" if torch.cuda.is_available() else \"cpu\")\n",
    "torch.set_default_device(device)\n",
    "\n",
    "import matplotlib.pyplot as plt\n",
    "\n",
    "# Matplotlib svg plots for better pictures\n",
    "import matplotlib_inline.backend_inline\n",
    "\n",
    "matplotlib_inline.backend_inline.set_matplotlib_formats(\"svg\")\n",
    "\n",
    "import seaborn as sns"
   ]
  },
  {
   "cell_type": "code",
   "execution_count": 19,
   "metadata": {},
   "outputs": [],
   "source": [
    "# Create the data\n",
    "nPerCluster = 100\n",
    "blur = 1  # Std Deviation of 1\n",
    "\n",
    "A = [1, 3]\n",
    "B = [1, -2]\n",
    "C = [2, 3]\n",
    "\n",
    "# Generate the data\n",
    "a = [\n",
    "    A[0] + np.random.randn(nPerCluster) * blur,\n",
    "    A[1] + np.random.randn(nPerCluster) * blur,\n",
    "]\n",
    "b = [\n",
    "    B[0] + np.random.randn(nPerCluster) * blur,\n",
    "    B[1] + np.random.randn(nPerCluster) * blur,\n",
    "]\n",
    "c = [\n",
    "    C[0] + np.random.randn(nPerCluster) * blur,\n",
    "    C[1] + np.random.randn(nPerCluster) * blur,\n",
    "]\n",
    "\n",
    "# True labels\n",
    "labels_np = np.vstack(\n",
    "    (\n",
    "        np.zeros((nPerCluster, 1)),\n",
    "        np.ones((nPerCluster, 1)),\n",
    "        np.full((nPerCluster, 1), 2),\n",
    "    )\n",
    ")\n",
    "\n",
    "# Stack it into a matrix\n",
    "data_np = np.hstack((a, b, c)).T\n",
    "\n",
    "# Convert np matrix into a tensor\n",
    "data = torch.tensor(data_np).float()\n",
    "labels = torch.tensor(labels_np).float()\n",
    "\n",
    "# # Plot the data\n",
    "# fig = plt.figure(figsize=(5, 5))\n",
    "# plt.plot(\n",
    "#     data[np.where(labels.cpu() == 0)[0], 0].cpu(),\n",
    "#     data[np.where(labels.cpu() == 0)[0], 1].cpu(),\n",
    "#     \"bs\",\n",
    "# )\n",
    "# plt.plot(\n",
    "#     data[np.where(labels.cpu() == 1)[0], 0].cpu(),\n",
    "#     data[np.where(labels.cpu() == 1)[0], 1].cpu(),\n",
    "#     \"ko\",\n",
    "# )\n",
    "# plt.title(\"The Categories!\")\n",
    "# plt.xlabel(\"Category of data dimension 1\")\n",
    "# plt.ylabel(\"Category of data dimension 2\")\n",
    "# plt.show()"
   ]
  },
  {
   "cell_type": "code",
   "execution_count": null,
   "metadata": {},
   "outputs": [],
   "source": []
  }
 ],
 "metadata": {
  "kernelspec": {
   "display_name": "base",
   "language": "python",
   "name": "python3"
  },
  "language_info": {
   "codemirror_mode": {
    "name": "ipython",
    "version": 3
   },
   "file_extension": ".py",
   "mimetype": "text/x-python",
   "name": "python",
   "nbconvert_exporter": "python",
   "pygments_lexer": "ipython3",
   "version": "3.12.7"
  }
 },
 "nbformat": 4,
 "nbformat_minor": 2
}
