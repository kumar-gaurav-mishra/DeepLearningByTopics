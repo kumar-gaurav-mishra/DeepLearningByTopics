{
 "cells": [
  {
   "cell_type": "code",
   "execution_count": 1,
   "metadata": {},
   "outputs": [],
   "source": [
    "# Imports\n",
    "import torch\n",
    "import torch.nn as nn\n",
    "import torch.nn.functional as F\n",
    "import numpy as np\n",
    "import pandas as pd\n",
    "import seaborn as sns\n",
    "import time\n",
    "import scipy.stats as stats\n",
    "from sklearn.model_selection import train_test_split\n",
    "from torch.utils.data import DataLoader, TensorDataset\n",
    "from IPython import display\n",
    "import matplotlib.pyplot as plt\n",
    "import matplotlib_inline.backend_inline as backend_inline\n",
    "\n",
    "backend_inline.set_matplotlib_formats(\"svg\")\n",
    "\n",
    "\n",
    "#### Pytorch device specific configuration ###\n",
    "# # Pytorch Gpu Configuration for Cuda\n",
    "device = torch.device(\"cuda\" if torch.cuda.is_available() else \"cpu\")\n",
    "\n",
    "# For Directml Gpu Configurations\n",
    "# import torch_directml\n",
    "\n",
    "# device = torch_directml.device()\n",
    "\n",
    "# Set default device\n",
    "torch.set_default_device(device)\n",
    "\n",
    "# # Font update global for all plots\n",
    "# plt.rcParams.update({\"font.size\": 18})"
   ]
  },
  {
   "cell_type": "code",
   "execution_count": 3,
   "metadata": {},
   "outputs": [
    {
     "name": "stdout",
     "output_type": "stream",
     "text": [
      "Train data shape: ((60000, 784), (60000,))\n",
      "Test data shape: ((10000, 784), (10000,))\n"
     ]
    }
   ],
   "source": [
    "train_data_raw = np.loadtxt(open(\"../Datasets/mnist_train.csv\", \"rb\"), delimiter=\",\")\n",
    "test_data_raw = np.loadtxt(open(\"../Datasets/mnist_test.csv\", \"rb\"), delimiter=\",\")\n",
    "\n",
    "train_data = train_data_raw[:, 1:]\n",
    "train_labels = train_data_raw[:, 0]\n",
    "test_data = test_data_raw[:, 1:]\n",
    "test_labels = test_data_raw[:, 0]\n",
    "\n",
    "print(f\"Train data shape: {train_data.shape, train_labels.shape}\")\n",
    "print(f\"Test data shape: {test_data.shape, test_labels.shape}\")"
   ]
  },
  {
   "cell_type": "code",
   "execution_count": 4,
   "metadata": {},
   "outputs": [],
   "source": [
    "# Data normalization\n",
    "train_data_norm = train_data / np.max(train_data)\n",
    "test_data_norm = test_data / np.max(test_data)"
   ]
  },
  {
   "cell_type": "code",
   "execution_count": 5,
   "metadata": {},
   "outputs": [],
   "source": [
    "### Create train and test groups using dataloader\n",
    "# Convert to tensor\n",
    "train_data_tensor = torch.tensor(train_data_norm).float()\n",
    "train_labels_tensor = torch.tensor(train_labels).long()\n",
    "test_data_tensor = torch.tensor(test_data_norm).float()\n",
    "test_labels_tensor = torch.tensor(test_labels).long()\n",
    "\n",
    "# Test and dev set split\n",
    "dev_dataset, test_dataset, dev_label, test_label = train_test_split(\n",
    "    test_data_tensor, test_labels_tensor, test_size=0.5\n",
    ")\n",
    "\n",
    "# Convert into pytorch dataset\n",
    "train_dataT = TensorDataset(train_data_tensor, train_labels_tensor)\n",
    "dev_dataT = TensorDataset(dev_dataset, dev_label)\n",
    "test_dataT = TensorDataset(test_dataset, test_label)\n",
    "\n",
    "# Translate to dataloader objects\n",
    "batchsize = 32\n",
    "train_loader = DataLoader(\n",
    "    train_dataT,\n",
    "    batch_size=batchsize,\n",
    "    shuffle=True,\n",
    "    drop_last=True,\n",
    "    generator=torch.Generator(device),\n",
    ")\n",
    "devset_loader = DataLoader(\n",
    "    dev_dataT,\n",
    "    batch_size=dev_dataT.tensors[0].shape[0],\n",
    "    generator=torch.Generator(device),\n",
    ")\n",
    "testset_loader = DataLoader(\n",
    "    test_dataT,\n",
    "    batch_size=test_dataT.tensors[0].shape[0],\n",
    "    generator=torch.Generator(device),\n",
    ")"
   ]
  },
  {
   "cell_type": "code",
   "execution_count": 6,
   "metadata": {},
   "outputs": [],
   "source": [
    "# Create the model function\n",
    "def createNewMNISTNet(lr=0.01):\n",
    "    # Model class\n",
    "    class mnistNet(nn.Module):\n",
    "        def __init__(self):\n",
    "            super().__init__()\n",
    "\n",
    "            # Input Layer\n",
    "            self.input = nn.Linear(784, 128)\n",
    "\n",
    "            # Hidden Layers\n",
    "            self.hidden1 = nn.Linear(128, 256)\n",
    "            self.hidden2 = nn.Linear(256, 256)\n",
    "            self.hidden3 = nn.Linear(256, 128)\n",
    "            self.hidden4 = nn.Linear(128, 32)\n",
    "\n",
    "            # Output Layer\n",
    "            self.output = nn.Linear(32, 10)\n",
    "\n",
    "        # Forward Pass\n",
    "        def forward(self, x):\n",
    "            x = F.relu(self.input(x))\n",
    "            x = F.relu(self.hidden1(x))\n",
    "            x = F.relu(self.hidden2(x))\n",
    "            x = F.relu(self.hidden3(x))\n",
    "            x = F.relu(self.hidden4(x))\n",
    "            return self.output(x)\n",
    "\n",
    "    # Model Instance\n",
    "    net = mnistNet()\n",
    "    # Loss Function\n",
    "    lossFun = nn.CrossEntropyLoss()\n",
    "    # Optimizer\n",
    "    optimizer = torch.optim.SGD(net.parameters(), lr=lr)\n",
    "    return net, lossFun, optimizer"
   ]
  },
  {
   "cell_type": "code",
   "execution_count": null,
   "metadata": {},
   "outputs": [],
   "source": []
  }
 ],
 "metadata": {
  "kernelspec": {
   "display_name": "base",
   "language": "python",
   "name": "python3"
  },
  "language_info": {
   "codemirror_mode": {
    "name": "ipython",
    "version": 3
   },
   "file_extension": ".py",
   "mimetype": "text/x-python",
   "name": "python",
   "nbconvert_exporter": "python",
   "pygments_lexer": "ipython3",
   "version": "3.12.7"
  }
 },
 "nbformat": 4,
 "nbformat_minor": 2
}
