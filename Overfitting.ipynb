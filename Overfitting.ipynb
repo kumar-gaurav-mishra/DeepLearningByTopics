{
 "cells": [
  {
   "cell_type": "code",
   "execution_count": 34,
   "metadata": {},
   "outputs": [],
   "source": [
    "# Imports\n",
    "import numpy as np\n",
    "\n",
    "import torch\n",
    "import torch.nn as nn\n",
    "import torch.nn.functional as F\n",
    "from torch.utils.data import DataLoader, TensorDataset\n",
    "\n",
    "# Pytorch Gpu Configuration\n",
    "device = torch.device(\"cuda\" if torch.cuda.is_available() else \"cpu\")\n",
    "torch.set_default_device(device)\n",
    "\n",
    "import matplotlib.pyplot as plt\n",
    "\n",
    "# Matplotlib svg plots for better pictures\n",
    "import matplotlib_inline.backend_inline\n",
    "\n",
    "matplotlib_inline.backend_inline.set_matplotlib_formats(\"svg\")\n",
    "\n",
    "import seaborn as sns\n",
    "import pandas as pd\n",
    "from torchsummary import summary\n",
    "\n",
    "# Sklearn\n",
    "from sklearn.model_selection import train_test_split"
   ]
  },
  {
   "cell_type": "code",
   "execution_count": 35,
   "metadata": {},
   "outputs": [],
   "source": [
    "# Import dataset\n",
    "iris = pd.read_csv(\n",
    "    \"https://raw.githubusercontent.com/mwaskom/seaborn-data/master/iris.csv\"\n",
    ")\n",
    "\n",
    "# Convert dataset from pandas datafram to tensor\n",
    "data = torch.tensor(iris[iris.columns[0:4]].values).float()\n",
    "\n",
    "# transform species to number\n",
    "labels = torch.zeros(len(data), dtype=torch.long)\n",
    "labels[iris.species == \"setosa\"] = (\n",
    "    0  # We don't need this line as torch.zeros initialize the tensor with zeros\n",
    ")\n",
    "labels[iris.species == \"versicolor\"] = 1\n",
    "labels[iris.species == \"virginica\"] = 2"
   ]
  },
  {
   "cell_type": "code",
   "execution_count": 36,
   "metadata": {},
   "outputs": [
    {
     "name": "stdout",
     "output_type": "stream",
     "text": [
      "[ True  True  True  True  True  True False  True  True  True  True  True\n",
      "  True  True  True  True  True  True  True  True  True  True  True False\n",
      "  True  True  True  True  True  True  True  True  True  True  True False\n",
      "  True  True  True False  True False False False False False  True  True\n",
      " False  True  True False  True  True False  True  True  True False  True\n",
      " False  True  True  True  True  True False  True False  True  True  True\n",
      "  True  True  True  True False  True  True  True  True  True  True False\n",
      " False  True  True  True  True  True  True  True  True  True False  True\n",
      "  True False  True  True  True False  True  True False  True False False\n",
      "  True  True False  True  True  True False  True  True  True  True  True\n",
      "  True  True  True  True  True  True  True  True False  True  True False\n",
      "  True  True  True  True  True  True  True False  True  True  True  True\n",
      "  True  True  True  True  True  True]\n"
     ]
    }
   ],
   "source": [
    "# Seperate data into train and test sets\n",
    "\n",
    "# Training Examples\n",
    "propTrain = 0.8  # in proportion not percent\n",
    "nTraining = int(len(labels) * propTrain)\n",
    "\n",
    "# initialize a boolean vector to select data and labels\n",
    "trainTestBool = np.zeros(len(labels), dtype=bool)\n",
    "\n",
    "# trainTestBool[range(nTraining)] = True # Not the right way to do the split because it will not randomise data\n",
    "\n",
    "# This is the better way\n",
    "items2use4train = np.random.choice(range(len(labels)), nTraining, replace=False)\n",
    "trainTestBool[items2use4train] = True\n",
    "\n",
    "\n",
    "print(trainTestBool)"
   ]
  },
  {
   "cell_type": "code",
   "execution_count": null,
   "metadata": {},
   "outputs": [
    {
     "name": "stdout",
     "output_type": "stream",
     "text": [
      "Average of full data: 1.0\n",
      " \n",
      "Average of training data: 1.008333444595337\n",
      " \n",
      "Average of test data: 0.9666666984558105\n",
      " \n"
     ]
    }
   ],
   "source": [
    "# Let's check wether train and test are balanced or not?\n",
    "print(f\"Average of full data: {torch.mean(labels.float())}\")\n",
    "print(\" \")\n",
    "print(f\"Average of training data: {torch.mean(labels[trainTestBool].float())}\")\n",
    "print(\" \")\n",
    "print(f\"Average of test data: {torch.mean(labels[~trainTestBool].float())}\")\n",
    "print(\" \")"
   ]
  },
  {
   "cell_type": "code",
   "execution_count": null,
   "metadata": {},
   "outputs": [],
   "source": []
  }
 ],
 "metadata": {
  "kernelspec": {
   "display_name": "base",
   "language": "python",
   "name": "python3"
  },
  "language_info": {
   "codemirror_mode": {
    "name": "ipython",
    "version": 3
   },
   "file_extension": ".py",
   "mimetype": "text/x-python",
   "name": "python",
   "nbconvert_exporter": "python",
   "pygments_lexer": "ipython3",
   "version": "3.12.7"
  }
 },
 "nbformat": 4,
 "nbformat_minor": 2
}
