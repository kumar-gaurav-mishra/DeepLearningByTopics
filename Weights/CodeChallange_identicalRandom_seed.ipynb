{
 "cells": [
  {
   "cell_type": "code",
   "execution_count": 1,
   "id": "b1b484bb",
   "metadata": {},
   "outputs": [],
   "source": [
    "# Imports\n",
    "import torch\n",
    "import torch.nn as nn\n",
    "import torch.nn.functional as F\n",
    "import numpy as np\n",
    "import scipy.stats as stats\n",
    "from sklearn.model_selection import train_test_split\n",
    "from torch.utils.data import DataLoader, TensorDataset\n",
    "import matplotlib.pyplot as plt\n",
    "import matplotlib_inline.backend_inline as backend_inline\n",
    "\n",
    "backend_inline.set_matplotlib_formats(\"svg\")\n",
    "\n",
    "\n",
    "# Pytorch device specific configuration\n",
    "# Pytorch Gpu Configuration\n",
    "device = torch.device(\"cuda\" if torch.cuda.is_available() else \"cpu\")\n",
    "torch.set_default_device(device)\n",
    "\n",
    "# # Font update global for all plots\n",
    "# plt.rcParams.update({\"font.size\": 18})\n",
    "\n",
    "import copy"
   ]
  },
  {
   "cell_type": "code",
   "execution_count": 2,
   "id": "866e9479",
   "metadata": {},
   "outputs": [],
   "source": [
    "# create a model\n",
    "net = nn.Sequential(\n",
    "    nn.Linear(2, 8),  # input layer\n",
    "    nn.Linear(8, 1),  # hidden layer\n",
    "    nn.Linear(1, 1),  # output unit\n",
    ")"
   ]
  },
  {
   "cell_type": "code",
   "execution_count": 3,
   "id": "0fee6842",
   "metadata": {},
   "outputs": [],
   "source": [
    "### NO RANDOM SEED\n",
    "\n",
    "# create a \"template\" network\n",
    "net_noseed = copy.deepcopy( net )\n",
    "\n",
    "# update the weights\n",
    "for p in net_noseed.named_parameters():\n",
    "  if 'weight' in p[0]:\n",
    "    nn.init.xavier_normal_(p[1].data)"
   ]
  },
  {
   "cell_type": "code",
   "execution_count": 4,
   "id": "1ced2e9e",
   "metadata": {},
   "outputs": [],
   "source": [
    "### RANDOM SEED 1a\n",
    "\n",
    "# create a \"template\" network\n",
    "net_rs1a = copy.deepcopy(net)\n",
    "\n",
    "# set the seed to 1\n",
    "torch.manual_seed(1)\n",
    "\n",
    "# update the weights\n",
    "for p in net_rs1a.named_parameters():\n",
    "    if \"weight\" in p[0]:\n",
    "        nn.init.xavier_normal_(p[1].data)"
   ]
  },
  {
   "cell_type": "code",
   "execution_count": null,
   "id": "cf0cc160",
   "metadata": {},
   "outputs": [],
   "source": []
  }
 ],
 "metadata": {
  "kernelspec": {
   "display_name": "base",
   "language": "python",
   "name": "python3"
  },
  "language_info": {
   "codemirror_mode": {
    "name": "ipython",
    "version": 3
   },
   "file_extension": ".py",
   "mimetype": "text/x-python",
   "name": "python",
   "nbconvert_exporter": "python",
   "pygments_lexer": "ipython3",
   "version": "3.12.7"
  }
 },
 "nbformat": 4,
 "nbformat_minor": 5
}
