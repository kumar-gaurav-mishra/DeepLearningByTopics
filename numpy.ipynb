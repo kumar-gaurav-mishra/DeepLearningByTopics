{
 "cells": [
  {
   "cell_type": "markdown",
   "metadata": {},
   "source": [
    "# Numpy\n"
   ]
  },
  {
   "cell_type": "code",
   "execution_count": 3,
   "metadata": {},
   "outputs": [],
   "source": [
    "import numpy as np"
   ]
  },
  {
   "cell_type": "code",
   "execution_count": 4,
   "metadata": {},
   "outputs": [
    {
     "data": {
      "text/plain": [
       "3.0"
      ]
     },
     "execution_count": 4,
     "metadata": {},
     "output_type": "execute_result"
    }
   ],
   "source": [
    "numbers = [1, 2, 3, 4, 5]\n",
    "np.mean(numbers)"
   ]
  },
  {
   "cell_type": "code",
   "execution_count": 5,
   "metadata": {},
   "outputs": [
    {
     "data": {
      "text/plain": [
       "numpy.ndarray"
      ]
     },
     "execution_count": 5,
     "metadata": {},
     "output_type": "execute_result"
    }
   ],
   "source": [
    "x = np.linspace(1, 7, 5)\n",
    "type(x)"
   ]
  },
  {
   "cell_type": "code",
   "execution_count": 6,
   "metadata": {},
   "outputs": [
    {
     "data": {
      "text/plain": [
       "numpy.ndarray"
      ]
     },
     "execution_count": 6,
     "metadata": {},
     "output_type": "execute_result"
    }
   ],
   "source": [
    "numbers_np = np.array(numbers)\n",
    "type(numbers_np)"
   ]
  },
  {
   "cell_type": "code",
   "execution_count": 7,
   "metadata": {},
   "outputs": [
    {
     "name": "stdout",
     "output_type": "stream",
     "text": [
      "5\n",
      "1\n",
      "3.0\n"
     ]
    }
   ],
   "source": [
    "print(np.max(numbers_np))\n",
    "print(np.min(numbers))\n",
    "print(np.median(numbers))"
   ]
  },
  {
   "cell_type": "code",
   "execution_count": 8,
   "metadata": {},
   "outputs": [
    {
     "name": "stdout",
     "output_type": "stream",
     "text": [
      "[4 3 5 2 6 1 7]\n",
      "[1 2 3 4 5 6 7]\n"
     ]
    }
   ],
   "source": [
    "n = [4, 3, 5, 2, 6, 1, 7]\n",
    "nn = np.array(n)\n",
    "\n",
    "print(nn)\n",
    "nn.sort()\n",
    "print(nn)"
   ]
  },
  {
   "cell_type": "code",
   "execution_count": 9,
   "metadata": {},
   "outputs": [
    {
     "name": "stdout",
     "output_type": "stream",
     "text": [
      "[4, 3, 5, 2, 6, 1, 7]\n",
      "[1, 2, 3, 4, 5, 6, 7]\n"
     ]
    }
   ],
   "source": [
    "print(n)\n",
    "n.sort()\n",
    "print(n)"
   ]
  },
  {
   "cell_type": "code",
   "execution_count": 31,
   "metadata": {},
   "outputs": [],
   "source": [
    "# Dot product\n",
    "def dot_product(vec1, vec2):\n",
    "\n",
    "    if (\n",
    "        type(vec1) == np.ndarray\n",
    "        and type(vec2) == np.ndarray\n",
    "        and vec1.shape == vec2.shape\n",
    "    ):\n",
    "        return np.dot(vec1, vec2.T)\n",
    "    else:\n",
    "        raise Exception(\"Shapes are not compaitible for dot product\")"
   ]
  },
  {
   "cell_type": "code",
   "execution_count": 32,
   "metadata": {},
   "outputs": [
    {
     "data": {
      "text/plain": [
       "array([[-0.0198505 , -0.09283912, -0.19705537,  0.15768019, -0.07395896,\n",
       "         0.03981695,  0.26802729, -0.21008946, -0.23467451,  0.14604788],\n",
       "       [-0.26275137, -1.17721461, -2.43437367,  1.95680979, -0.95364476,\n",
       "         0.40700485,  3.3176587 , -2.62341191, -2.96443391,  1.76778898],\n",
       "       [-0.11800599,  0.19166162,  1.3327416 , -0.93878297, -0.07525132,\n",
       "        -1.49126845, -1.71895157,  1.01754871,  0.64679764, -1.51250123],\n",
       "       [-0.36054526,  0.19153189,  2.74484489, -1.87400581, -0.42303905,\n",
       "        -3.64055056, -3.49657255,  1.90780614,  0.89407249, -3.3594982 ],\n",
       "       [ 0.75788554,  1.28820288, -0.07548363, -0.32696508,  1.71790405,\n",
       "         3.72335844, -0.18194774,  1.14348507,  2.76368534,  1.64827151],\n",
       "       [-0.48441821, -1.22584537, -1.30717265,  1.2244753 , -1.295278  ,\n",
       "        -1.44457714,  1.90911953, -1.95763903, -2.87165638,  0.23506507],\n",
       "       [-0.2745921 , -0.28452278,  0.6409977 , -0.34128581, -0.53311991,\n",
       "        -1.7724608 , -0.7457561 ,  0.14109861, -0.50095965, -1.18058446],\n",
       "       [-0.13231529, -0.68256774, -1.52815497,  1.21185964, -0.52421868,\n",
       "         0.41352921,  2.07049865, -1.59465792, -1.73927857,  1.17757613],\n",
       "       [ 0.96476627,  2.52912337,  2.89882762, -2.66002689,  2.62266979,\n",
       "         2.6731359 , -4.19301267,  4.16624814,  5.96010297, -0.7490528 ],\n",
       "       [-0.49098404, -1.79126167, -3.17314492,  2.62579593, -1.58179704,\n",
       "        -0.18880007,  4.37969661, -3.65698291, -4.41761954,  1.99537944]])"
      ]
     },
     "execution_count": 32,
     "metadata": {},
     "output_type": "execute_result"
    }
   ],
   "source": [
    "x = np.random.randn(10, 2)\n",
    "y = np.random.randn(10, 2)\n",
    "dot_product(x, y)"
   ]
  },
  {
   "cell_type": "code",
   "execution_count": null,
   "metadata": {},
   "outputs": [],
   "source": []
  }
 ],
 "metadata": {
  "kernelspec": {
   "display_name": "base",
   "language": "python",
   "name": "python3"
  },
  "language_info": {
   "codemirror_mode": {
    "name": "ipython",
    "version": 3
   },
   "file_extension": ".py",
   "mimetype": "text/x-python",
   "name": "python",
   "nbconvert_exporter": "python",
   "pygments_lexer": "ipython3",
   "version": "3.12.4"
  }
 },
 "nbformat": 4,
 "nbformat_minor": 2
}
