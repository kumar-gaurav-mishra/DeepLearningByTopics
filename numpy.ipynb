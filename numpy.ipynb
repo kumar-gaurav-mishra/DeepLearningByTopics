{
 "cells": [
  {
   "cell_type": "markdown",
   "metadata": {},
   "source": [
    "# Numpy\n"
   ]
  },
  {
   "cell_type": "code",
   "execution_count": 3,
   "metadata": {},
   "outputs": [],
   "source": [
    "import numpy as np"
   ]
  },
  {
   "cell_type": "code",
   "execution_count": 4,
   "metadata": {},
   "outputs": [
    {
     "data": {
      "text/plain": [
       "3.0"
      ]
     },
     "execution_count": 4,
     "metadata": {},
     "output_type": "execute_result"
    }
   ],
   "source": [
    "numbers = [1, 2, 3, 4, 5]\n",
    "np.mean(numbers)"
   ]
  },
  {
   "cell_type": "code",
   "execution_count": 5,
   "metadata": {},
   "outputs": [
    {
     "data": {
      "text/plain": [
       "numpy.ndarray"
      ]
     },
     "execution_count": 5,
     "metadata": {},
     "output_type": "execute_result"
    }
   ],
   "source": [
    "x = np.linspace(1, 7, 5)\n",
    "type(x)"
   ]
  },
  {
   "cell_type": "code",
   "execution_count": 6,
   "metadata": {},
   "outputs": [
    {
     "data": {
      "text/plain": [
       "numpy.ndarray"
      ]
     },
     "execution_count": 6,
     "metadata": {},
     "output_type": "execute_result"
    }
   ],
   "source": [
    "numbers_np = np.array(numbers)\n",
    "type(numbers_np)"
   ]
  },
  {
   "cell_type": "code",
   "execution_count": 7,
   "metadata": {},
   "outputs": [
    {
     "name": "stdout",
     "output_type": "stream",
     "text": [
      "5\n",
      "1\n",
      "3.0\n"
     ]
    }
   ],
   "source": [
    "print(np.max(numbers_np))\n",
    "print(np.min(numbers))\n",
    "print(np.median(numbers))"
   ]
  },
  {
   "cell_type": "code",
   "execution_count": 8,
   "metadata": {},
   "outputs": [
    {
     "name": "stdout",
     "output_type": "stream",
     "text": [
      "[4 3 5 2 6 1 7]\n",
      "[1 2 3 4 5 6 7]\n"
     ]
    }
   ],
   "source": [
    "n = [4, 3, 5, 2, 6, 1, 7]\n",
    "nn = np.array(n)\n",
    "\n",
    "print(nn)\n",
    "nn.sort()\n",
    "print(nn)"
   ]
  },
  {
   "cell_type": "code",
   "execution_count": 9,
   "metadata": {},
   "outputs": [
    {
     "name": "stdout",
     "output_type": "stream",
     "text": [
      "[4, 3, 5, 2, 6, 1, 7]\n",
      "[1, 2, 3, 4, 5, 6, 7]\n"
     ]
    }
   ],
   "source": [
    "print(n)\n",
    "n.sort()\n",
    "print(n)"
   ]
  },
  {
   "cell_type": "code",
   "execution_count": 24,
   "metadata": {},
   "outputs": [],
   "source": [
    "# Dot product\n",
    "def dot_product(vec1, vec2):\n",
    "    if vec1.shape == vec2.shape:\n",
    "        return np.dot(vec1, vec2.T)\n",
    "    else:\n",
    "        raise Exception(\"Shapes are not compaitible for dot product\")"
   ]
  },
  {
   "cell_type": "code",
   "execution_count": 25,
   "metadata": {},
   "outputs": [
    {
     "data": {
      "text/plain": [
       "array([[-2.66851408e-01, -1.89856969e-01, -3.72216033e-01,\n",
       "        -8.63906394e-02, -1.12040596e-01,  1.64309228e-01,\n",
       "        -3.33202148e-01,  6.61139378e-01,  7.44264432e-02,\n",
       "         4.05462894e-01],\n",
       "       [ 1.29427345e-01,  9.95909746e-02,  1.61146072e-01,\n",
       "         2.11263590e-02,  1.54579749e-02, -7.40414342e-02,\n",
       "         1.28597654e-01, -2.41769893e-01, -4.97348731e-02,\n",
       "        -1.35277158e-01],\n",
       "       [-6.05542615e-01, -4.37325351e-01, -8.27854579e-01,\n",
       "        -1.78052820e-01, -2.20579805e-01,  3.67959917e-01,\n",
       "        -7.27526786e-01,  1.43196233e+00,  1.80695752e-01,\n",
       "         8.66941557e-01],\n",
       "       [ 8.16428763e-01,  5.85668194e-01,  1.12638842e+00,\n",
       "         2.51019870e-01,  3.17909679e-01, -4.99086559e-01,\n",
       "         9.98308122e-01, -1.97227305e+00, -2.36431497e-01,\n",
       "        -1.20123944e+00],\n",
       "       [-1.00644213e-01, -7.58039371e-03, -3.05706273e-01,\n",
       "        -2.09757704e-01, -3.73874195e-01,  1.10166592e-01,\n",
       "        -4.07201353e-01,  9.22194224e-01, -8.82310049e-02,\n",
       "         6.76391942e-01],\n",
       "       [-8.02200457e-01, -8.27747038e-01, -4.55314717e-01,\n",
       "         4.51499316e-01,  9.94343777e-01,  3.00473708e-01,\n",
       "         1.28447269e-01, -7.13381973e-01,  6.90587147e-01,\n",
       "        -8.82386809e-01],\n",
       "       [-1.22683709e+00, -9.69068683e-01, -1.46281582e+00,\n",
       "        -1.30937123e-01, -1.67818656e-02,  6.82979366e-01,\n",
       "        -1.10882423e+00,  2.02848173e+00,  5.16937338e-01,\n",
       "         1.07748232e+00],\n",
       "       [ 3.19270461e-01,  3.99245499e-01,  9.57154448e-04,\n",
       "        -3.72871020e-01, -7.57311036e-01, -6.70368674e-02,\n",
       "        -3.58081450e-01,  1.01753400e+00, -4.01654544e-01,\n",
       "         9.21932927e-01],\n",
       "       [ 1.27793774e+00,  1.28527872e+00,  8.11464894e-01,\n",
       "        -6.26951965e-01, -1.41126366e+00, -5.03776239e-01,\n",
       "        -5.79487863e-02,  7.85908763e-01, -1.03954258e+00,\n",
       "         1.13296052e+00],\n",
       "       [-7.65951419e-01, -7.27666900e-01, -5.96582208e-01,\n",
       "         2.57653429e-01,  6.24778259e-01,  3.34077861e-01,\n",
       "        -1.52960788e-01, -2.24731322e-02,  5.45529476e-01,\n",
       "        -3.30068271e-01]])"
      ]
     },
     "execution_count": 25,
     "metadata": {},
     "output_type": "execute_result"
    }
   ],
   "source": [
    "x = np.random.randn(10, 2)\n",
    "y = np.random.randn(10, 2)\n",
    "dot_product(x, y)"
   ]
  },
  {
   "cell_type": "code",
   "execution_count": null,
   "metadata": {},
   "outputs": [],
   "source": []
  }
 ],
 "metadata": {
  "kernelspec": {
   "display_name": "base",
   "language": "python",
   "name": "python3"
  },
  "language_info": {
   "codemirror_mode": {
    "name": "ipython",
    "version": 3
   },
   "file_extension": ".py",
   "mimetype": "text/x-python",
   "name": "python",
   "nbconvert_exporter": "python",
   "pygments_lexer": "ipython3",
   "version": "3.12.4"
  }
 },
 "nbformat": 4,
 "nbformat_minor": 2
}
