{
 "cells": [
  {
   "cell_type": "markdown",
   "metadata": {},
   "source": [
    "# Numpy\n"
   ]
  },
  {
   "cell_type": "code",
   "execution_count": 2,
   "metadata": {},
   "outputs": [],
   "source": [
    "import numpy as np"
   ]
  },
  {
   "cell_type": "code",
   "execution_count": 3,
   "metadata": {},
   "outputs": [
    {
     "data": {
      "text/plain": [
       "3.0"
      ]
     },
     "execution_count": 3,
     "metadata": {},
     "output_type": "execute_result"
    }
   ],
   "source": [
    "numbers = [1, 2, 3, 4, 5]\n",
    "np.mean(numbers)"
   ]
  },
  {
   "cell_type": "code",
   "execution_count": 4,
   "metadata": {},
   "outputs": [
    {
     "data": {
      "text/plain": [
       "numpy.ndarray"
      ]
     },
     "execution_count": 4,
     "metadata": {},
     "output_type": "execute_result"
    }
   ],
   "source": [
    "x = np.linspace(1, 7, 5)\n",
    "type(x)"
   ]
  },
  {
   "cell_type": "code",
   "execution_count": 5,
   "metadata": {},
   "outputs": [
    {
     "data": {
      "text/plain": [
       "numpy.ndarray"
      ]
     },
     "execution_count": 5,
     "metadata": {},
     "output_type": "execute_result"
    }
   ],
   "source": [
    "numbers_np = np.array(numbers)\n",
    "type(numbers_np)"
   ]
  },
  {
   "cell_type": "code",
   "execution_count": 6,
   "metadata": {},
   "outputs": [
    {
     "name": "stdout",
     "output_type": "stream",
     "text": [
      "5\n",
      "1\n",
      "3.0\n"
     ]
    }
   ],
   "source": [
    "print(np.max(numbers_np))\n",
    "print(np.min(numbers))\n",
    "print(np.median(numbers))"
   ]
  },
  {
   "cell_type": "code",
   "execution_count": 7,
   "metadata": {},
   "outputs": [
    {
     "name": "stdout",
     "output_type": "stream",
     "text": [
      "[4 3 5 2 6 1 7]\n",
      "[1 2 3 4 5 6 7]\n"
     ]
    }
   ],
   "source": [
    "n = [4, 3, 5, 2, 6, 1, 7]\n",
    "nn = np.array(n)\n",
    "\n",
    "print(nn)\n",
    "nn.sort()\n",
    "print(nn)"
   ]
  },
  {
   "cell_type": "code",
   "execution_count": 8,
   "metadata": {},
   "outputs": [
    {
     "name": "stdout",
     "output_type": "stream",
     "text": [
      "[4, 3, 5, 2, 6, 1, 7]\n",
      "[1, 2, 3, 4, 5, 6, 7]\n"
     ]
    }
   ],
   "source": [
    "print(n)\n",
    "n.sort()\n",
    "print(n)"
   ]
  },
  {
   "cell_type": "code",
   "execution_count": 9,
   "metadata": {},
   "outputs": [],
   "source": [
    "# Dot product\n",
    "def dot_product(vec1, vec2):\n",
    "\n",
    "    if (\n",
    "        type(vec1) == np.ndarray\n",
    "        and isinstance(vec2, np.ndarray)\n",
    "        and vec1.shape == vec2.shape\n",
    "    ):\n",
    "        return np.dot(vec1, vec2.T)\n",
    "    else:\n",
    "        raise Exception(\"Shapes are not compaitible for dot product\")"
   ]
  },
  {
   "cell_type": "code",
   "execution_count": 10,
   "metadata": {},
   "outputs": [
    {
     "data": {
      "text/plain": [
       "array([[ 0.67392442, -0.12592636, -0.56680395, -0.94359971, -0.52895343,\n",
       "        -0.18103345, -0.26256179,  0.20594888, -0.72504933,  0.38277304],\n",
       "       [ 2.71145626, -0.42598743,  0.6744346 ,  0.25320358,  3.11705815,\n",
       "         1.30909618, -1.50246955,  0.28323452, -1.68759678, -3.81430732],\n",
       "       [ 1.05383735, -0.16368867,  0.33085126,  0.19259705,  1.3334722 ,\n",
       "         0.55618174, -0.59432629,  0.0973979 , -0.62730624, -1.60700342],\n",
       "       [ 1.28440688, -0.23201487, -0.78779563, -1.39756483, -0.4889773 ,\n",
       "        -0.14337182, -0.54455646,  0.33853279, -1.26015173,  0.19957883],\n",
       "       [ 1.77724478, -0.30375806, -0.45695686, -1.06613403,  0.4472519 ,\n",
       "         0.23816544, -0.84908589,  0.35157738, -1.48023631, -0.871073  ],\n",
       "       [ 0.16409286, -0.00954362,  0.63560336,  0.8304741 ,  1.24444487,\n",
       "         0.48934187, -0.18071824, -0.09263709,  0.1453644 , -1.3086037 ],\n",
       "       [ 0.7461537 , -0.12146152,  0.03042091, -0.14298614,  0.58232105,\n",
       "         0.25324911, -0.39003239,  0.10658196, -0.52897112, -0.7684642 ],\n",
       "       [-3.41561372,  0.61881566,  2.16165885,  3.80791779,  1.41869674,\n",
       "         0.42724459,  1.43806877, -0.91256462,  3.37885806, -0.65156369],\n",
       "       [ 3.45713385, -0.60316351, -1.33898838, -2.69073254,  0.0710216 ,\n",
       "         0.15292748, -1.58371005,  0.76697033, -3.06667887, -0.87882718],\n",
       "       [-2.96187256,  0.46895194, -0.60402022, -0.09472178, -3.1693754 ,\n",
       "        -1.33849725,  1.62119687, -0.33388493,  1.89867267,  3.92611896]])"
      ]
     },
     "execution_count": 10,
     "metadata": {},
     "output_type": "execute_result"
    }
   ],
   "source": [
    "x = np.random.randn(10, 2)\n",
    "y = np.random.randn(10, 2)\n",
    "dot_product(x, y)"
   ]
  },
  {
   "cell_type": "markdown",
   "metadata": {},
   "source": [
    "## Seed in numpy\n"
   ]
  },
  {
   "cell_type": "code",
   "execution_count": null,
   "metadata": {},
   "outputs": [
    {
     "name": "stdout",
     "output_type": "stream",
     "text": [
      "[-1.74976547  0.3426804   1.1530358  -0.25243604  0.98132079]\n",
      "[ 0.51421884  0.22117967 -1.07004333 -0.18949583  0.25500144]\n"
     ]
    }
   ],
   "source": [
    "# Not recomonded or old method\n",
    "np.random.seed(100)\n",
    "print(np.random.randn(5))  # Output does not change on re-execution\n",
    "print(np.random.randn(5))  # Output does not change on re-execution"
   ]
  },
  {
   "cell_type": "code",
   "execution_count": null,
   "metadata": {},
   "outputs": [
    {
     "name": "stdout",
     "output_type": "stream",
     "text": [
      "[-1.74976547  0.3426804   1.1530358  -0.25243604  0.98132079]\n",
      "[-0.0849423  -1.95431494  1.15960778 -1.37338818  0.13295008]\n",
      "[-0.74621567  1.62900301 -1.14320064  0.89511699 -0.36598045]\n",
      "[-0.80035017 -1.30925224 -0.15443611  0.65189402 -0.0653307 ]\n",
      "[-1.04420988  0.61303888  0.73620521  1.02692144 -1.43219061]\n"
     ]
    }
   ],
   "source": [
    "# More flexible and recomonded method of setting the random seed\n",
    "s1 = np.random.RandomState(100)\n",
    "s2 = np.random.RandomState(50000535)\n",
    "\n",
    "print(s1.randn(5))  # Same sequence\n",
    "print(s2.randn(5))  # Different from above but same every time\n",
    "print(s2.randn(5))  # Same as two above\n",
    "print(s2.randn(5))  # Same as two above\n",
    "print(np.random.randn(5))  # Different every time"
   ]
  },
  {
   "cell_type": "code",
   "execution_count": null,
   "metadata": {},
   "outputs": [],
   "source": []
  }
 ],
 "metadata": {
  "kernelspec": {
   "display_name": "base",
   "language": "python",
   "name": "python3"
  },
  "language_info": {
   "codemirror_mode": {
    "name": "ipython",
    "version": 3
   },
   "file_extension": ".py",
   "mimetype": "text/x-python",
   "name": "python",
   "nbconvert_exporter": "python",
   "pygments_lexer": "ipython3",
   "version": "3.12.7"
  }
 },
 "nbformat": 4,
 "nbformat_minor": 2
}
