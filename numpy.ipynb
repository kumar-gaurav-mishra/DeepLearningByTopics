{
 "cells": [
  {
   "cell_type": "markdown",
   "metadata": {},
   "source": [
    "# Numpy\n"
   ]
  },
  {
   "cell_type": "code",
   "execution_count": 3,
   "metadata": {},
   "outputs": [],
   "source": [
    "import numpy as np"
   ]
  },
  {
   "cell_type": "code",
   "execution_count": 4,
   "metadata": {},
   "outputs": [
    {
     "data": {
      "text/plain": [
       "3.0"
      ]
     },
     "execution_count": 4,
     "metadata": {},
     "output_type": "execute_result"
    }
   ],
   "source": [
    "numbers = [1, 2, 3, 4, 5]\n",
    "np.mean(numbers)"
   ]
  },
  {
   "cell_type": "code",
   "execution_count": 5,
   "metadata": {},
   "outputs": [
    {
     "data": {
      "text/plain": [
       "numpy.ndarray"
      ]
     },
     "execution_count": 5,
     "metadata": {},
     "output_type": "execute_result"
    }
   ],
   "source": [
    "x = np.linspace(1, 7, 5)\n",
    "type(x)"
   ]
  },
  {
   "cell_type": "code",
   "execution_count": 6,
   "metadata": {},
   "outputs": [
    {
     "data": {
      "text/plain": [
       "numpy.ndarray"
      ]
     },
     "execution_count": 6,
     "metadata": {},
     "output_type": "execute_result"
    }
   ],
   "source": [
    "numbers_np = np.array(numbers)\n",
    "type(numbers_np)"
   ]
  },
  {
   "cell_type": "code",
   "execution_count": 7,
   "metadata": {},
   "outputs": [
    {
     "name": "stdout",
     "output_type": "stream",
     "text": [
      "5\n",
      "1\n",
      "3.0\n"
     ]
    }
   ],
   "source": [
    "print(np.max(numbers_np))\n",
    "print(np.min(numbers))\n",
    "print(np.median(numbers))"
   ]
  },
  {
   "cell_type": "code",
   "execution_count": 8,
   "metadata": {},
   "outputs": [
    {
     "name": "stdout",
     "output_type": "stream",
     "text": [
      "[4 3 5 2 6 1 7]\n",
      "[1 2 3 4 5 6 7]\n"
     ]
    }
   ],
   "source": [
    "n = [4, 3, 5, 2, 6, 1, 7]\n",
    "nn = np.array(n)\n",
    "\n",
    "print(nn)\n",
    "nn.sort()\n",
    "print(nn)"
   ]
  },
  {
   "cell_type": "code",
   "execution_count": 9,
   "metadata": {},
   "outputs": [
    {
     "name": "stdout",
     "output_type": "stream",
     "text": [
      "[4, 3, 5, 2, 6, 1, 7]\n",
      "[1, 2, 3, 4, 5, 6, 7]\n"
     ]
    }
   ],
   "source": [
    "print(n)\n",
    "n.sort()\n",
    "print(n)"
   ]
  },
  {
   "cell_type": "code",
   "execution_count": 33,
   "metadata": {},
   "outputs": [],
   "source": [
    "# Dot product\n",
    "def dot_product(vec1, vec2):\n",
    "\n",
    "    if (\n",
    "        type(vec1) == np.ndarray\n",
    "        and isinstance(vec2, np.ndarray)\n",
    "        and vec1.shape == vec2.shape\n",
    "    ):\n",
    "        return np.dot(vec1, vec2.T)\n",
    "    else:\n",
    "        raise Exception(\"Shapes are not compaitible for dot product\")"
   ]
  },
  {
   "cell_type": "code",
   "execution_count": 34,
   "metadata": {},
   "outputs": [
    {
     "data": {
      "text/plain": [
       "array([[-1.32512582e+00, -1.86691078e+00, -2.25006032e+00,\n",
       "         5.91566028e-01,  2.64119033e+00, -1.20085041e+00,\n",
       "        -3.43921905e-01,  3.99998413e+00,  3.59160430e+00,\n",
       "        -5.99580551e-01],\n",
       "       [ 1.42771737e+00, -4.70718207e-01, -1.24004198e+00,\n",
       "        -6.61491345e-01,  2.13301525e+00, -8.34988210e-01,\n",
       "        -5.14737831e-01,  1.45015529e+00,  8.69851182e-01,\n",
       "        -4.03079147e-01],\n",
       "       [ 4.52991798e+00,  2.55675611e+00,  2.04476500e+00,\n",
       "        -2.05943805e+00, -1.35624903e+00,  8.24396372e-01,\n",
       "        -1.88616221e-01, -4.79746475e+00, -4.97380249e+00,\n",
       "         4.32927978e-01],\n",
       "       [ 1.79827185e+00,  1.46157150e+00,  1.47101668e+00,\n",
       "        -8.13208049e-01, -1.43418004e+00,  7.10287996e-01,\n",
       "         8.44071971e-02, -2.94080614e+00, -2.82723244e+00,\n",
       "         3.60615919e-01],\n",
       "       [-1.60950248e+00, -4.61519938e-01, -6.67658929e-02,\n",
       "         7.36072479e-01, -4.14519237e-01,  9.03750211e-02,\n",
       "         2.26410059e-01,  6.67520860e-01,  9.13877376e-01,\n",
       "         3.50628793e-02],\n",
       "       [-3.19214467e-01, -3.06775930e-01, -3.30993457e-01,\n",
       "         1.43893987e-01,  3.49517107e-01, -1.66676463e-01,\n",
       "        -3.18638446e-02,  6.31855580e-01,  5.92239889e-01,\n",
       "        -8.40173460e-02],\n",
       "       [ 6.00415056e-01, -2.57917570e-01, -6.10006963e-01,\n",
       "        -2.78767671e-01,  1.01729082e+00, -4.02572470e-01,\n",
       "        -2.37854407e-01,  7.48989095e-01,  4.80299818e-01,\n",
       "        -1.94853939e-01],\n",
       "       [ 1.20162844e+00,  1.64171593e+00,  1.96477076e+00,\n",
       "        -5.36931713e-01, -2.29233415e+00,  1.04501966e+00,\n",
       "         2.93606841e-01, -3.50837876e+00, -3.15910649e+00,\n",
       "         5.22060032e-01],\n",
       "       [-1.21689158e+00, -8.27199756e-01, -7.56511563e-01,\n",
       "         5.51871462e-01,  6.45881384e-01, -3.41845980e-01,\n",
       "         6.05583162e-04,  1.61448339e+00,  1.60415544e+00,\n",
       "        -1.75625090e-01],\n",
       "       [-1.70079603e+00,  3.97918204e-01,  1.23684003e+00,\n",
       "         7.86431691e-01, -2.21438606e+00,  8.55042687e-01,\n",
       "         5.55115252e-01, -1.34967238e+00, -7.25307198e-01,\n",
       "         4.11354591e-01]])"
      ]
     },
     "execution_count": 34,
     "metadata": {},
     "output_type": "execute_result"
    }
   ],
   "source": [
    "x = np.random.randn(10, 2)\n",
    "y = np.random.randn(10, 2)\n",
    "dot_product(x, y)"
   ]
  },
  {
   "cell_type": "code",
   "execution_count": null,
   "metadata": {},
   "outputs": [],
   "source": []
  }
 ],
 "metadata": {
  "kernelspec": {
   "display_name": "base",
   "language": "python",
   "name": "python3"
  },
  "language_info": {
   "codemirror_mode": {
    "name": "ipython",
    "version": 3
   },
   "file_extension": ".py",
   "mimetype": "text/x-python",
   "name": "python",
   "nbconvert_exporter": "python",
   "pygments_lexer": "ipython3",
   "version": "3.12.4"
  }
 },
 "nbformat": 4,
 "nbformat_minor": 2
}
