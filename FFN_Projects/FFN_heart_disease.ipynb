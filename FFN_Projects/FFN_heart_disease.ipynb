{
 "cells": [
  {
   "cell_type": "code",
   "execution_count": null,
   "metadata": {},
   "outputs": [],
   "source": [
    "# Imports\n",
    "import torch\n",
    "import torch.nn as nn\n",
    "import torch.nn.functional as F\n",
    "import numpy as np\n",
    "import pandas as pd\n",
    "\n",
    "pd.set_option(\"mode.chained_assignment\", None)\n",
    "from sklearn.model_selection import train_test_split\n",
    "from torch.utils.data import DataLoader, TensorDataset\n",
    "import matplotlib.pyplot as plt\n",
    "import matplotlib_inline.backend_inline as backend_inline\n",
    "\n",
    "backend_inline.set_matplotlib_formats(\"svg\")\n",
    "\n",
    "# Uciml repo\n",
    "from ucimlrepo import fetch_ucirepo\n",
    "\n",
    "# Pytorch device specific configuration\n",
    "# Pytorch Gpu Configuration for cuda\n",
    "device = torch.device(\"cuda\" if torch.cuda.is_available() else \"cpu\")\n",
    "\n",
    "# Pytorch Gpu Configuration for dml devices\n",
    "# import torch_directml\n",
    "\n",
    "# device = torch_directml.device()\n",
    "\n",
    "# Set default devices\n",
    "torch.set_default_device(device)"
   ]
  },
  {
   "cell_type": "code",
   "execution_count": 54,
   "metadata": {},
   "outputs": [],
   "source": [
    "# Import heart desease data\n",
    "heart_disease = fetch_ucirepo(id=45)\n",
    "\n",
    "# Data as pandas dataframe\n",
    "data = heart_disease.data.features\n",
    "labels = heart_disease.data.targets"
   ]
  },
  {
   "cell_type": "code",
   "execution_count": null,
   "metadata": {},
   "outputs": [
    {
     "name": "stdout",
     "output_type": "stream",
     "text": [
      "(303, 13) (303, 1)\n"
     ]
    }
   ],
   "source": [
    "#### Data pre-processing ####\n",
    "# Filling nan values with it's mean\n",
    "keys = data.keys()\n",
    "for key in keys:\n",
    "    # print(f\"{key} before filling na count: {data[key].isna().sum()}\")\n",
    "    data[key] = data[key].fillna(data[key].mean())\n",
    "    # print(f\"{key} after filling na count: {data[key].isna().sum()}\")\n",
    "\n",
    "# Binarized labels\n",
    "labels = labels.values > 0\n",
    "data = data.values\n",
    "print(data.shape, labels.shape)"
   ]
  },
  {
   "cell_type": "code",
   "execution_count": 60,
   "metadata": {},
   "outputs": [],
   "source": [
    "# convert data into tensors\n",
    "dataT = torch.tensor(data).float()\n",
    "labelsT = torch.tensor(labels).long()\n",
    "\n",
    "# Train test split\n",
    "train_data, test_data, train_labels, test_labels = train_test_split(dataT, labelsT, train_size=.9)\n",
    "\n",
    "# Pytorch datasets\n",
    "train_dataT = TensorDataset(train_data, train_labels)\n",
    "test_dataT = TensorDataset(test_data, test_labels)\n",
    "\n",
    "# Lead data into data loaders\n",
    "batchSize = 16\n",
    "train_loader = DataLoader(train_dataT, batch_size=batchSize, shuffle=True, drop_last=True, generator=torch.Generator(device))\n",
    "test_loader = DataLoader(test_dataT, batch_size=test_dataT.tensors[0].shape[0], generator=torch.Generator(device))"
   ]
  },
  {
   "cell_type": "code",
   "execution_count": null,
   "metadata": {},
   "outputs": [],
   "source": []
  }
 ],
 "metadata": {
  "kernelspec": {
   "display_name": "base",
   "language": "python",
   "name": "python3"
  },
  "language_info": {
   "codemirror_mode": {
    "name": "ipython",
    "version": 3
   },
   "file_extension": ".py",
   "mimetype": "text/x-python",
   "name": "python",
   "nbconvert_exporter": "python",
   "pygments_lexer": "ipython3",
   "version": "3.12.7"
  }
 },
 "nbformat": 4,
 "nbformat_minor": 2
}
