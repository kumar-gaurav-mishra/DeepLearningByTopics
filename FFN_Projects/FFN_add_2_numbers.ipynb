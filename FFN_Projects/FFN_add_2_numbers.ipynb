{
 "cells": [
  {
   "cell_type": "code",
   "execution_count": 1,
   "metadata": {},
   "outputs": [],
   "source": [
    "# Imports\n",
    "import torch\n",
    "import torch.nn as nn\n",
    "import torch.nn.functional as F\n",
    "import numpy as np\n",
    "\n",
    "from sklearn.model_selection import train_test_split\n",
    "from torch.utils.data import DataLoader, TensorDataset\n",
    "import matplotlib.pyplot as plt\n",
    "import matplotlib_inline.backend_inline as backend_inline\n",
    "\n",
    "backend_inline.set_matplotlib_formats(\"svg\")\n",
    "\n",
    "\n",
    "# Pytorch device specific configuration\n",
    "# Pytorch Gpu Configuration\n",
    "device = torch.device(\"cuda\" if torch.cuda.is_available() else \"cpu\")\n",
    "torch.set_default_device(device)\n"
   ]
  },
  {
   "cell_type": "code",
   "execution_count": 18,
   "metadata": {},
   "outputs": [
    {
     "name": "stdout",
     "output_type": "stream",
     "text": [
      "Data Shape: (50000, 2), Label Shape: (50000,)\n"
     ]
    }
   ],
   "source": [
    "# Generate data\n",
    "data = (np.random.randn(50000, 2) * 100)\n",
    "labels = np.sum(data, axis=1)\n",
    "print(f'Data Shape: {data.shape}, Label Shape: {labels.shape}')"
   ]
  },
  {
   "cell_type": "code",
   "execution_count": 19,
   "metadata": {},
   "outputs": [],
   "source": [
    "# Convert data into tensors\n",
    "dataT = torch.tensor(data).float()\n",
    "labelsT = torch.tensor(labels).long()\n",
    "\n",
    "# train test splits\n",
    "train_data, test_data_temp, train_labels, test_labels_temp = train_test_split(dataT, labelsT, train_size=.8)\n",
    "test_data, dev_data, test_labels, dev_labels = train_test_split(\n",
    "    test_data_temp, test_labels_temp, train_size=0.5\n",
    ")\n",
    "\n",
    "# Pytorch datasets\n",
    "train_dataT = TensorDataset(train_data, train_labels)\n",
    "dev_dataT = TensorDataset(dev_data, dev_labels)\n",
    "test_dataT = TensorDataset(test_data, test_labels)\n",
    "\n",
    "# Dataloader objects\n",
    "batchSize = 32\n",
    "train_loader = DataLoader(train_dataT, batch_size=batchSize, shuffle=True, drop_last=True, generator=torch.Generator(device))\n",
    "dev_loader = DataLoader(dev_dataT, batch_size=dev_dataT.tensors[0].shape[0], generator=torch.Generator(device))\n",
    "test_loader = DataLoader(test_dataT, batch_size=test_dataT.tensors[0].shape[0], generator=torch.Generator(device))\n"
   ]
  },
  {
   "cell_type": "code",
   "execution_count": null,
   "metadata": {},
   "outputs": [],
   "source": []
  }
 ],
 "metadata": {
  "kernelspec": {
   "display_name": "base",
   "language": "python",
   "name": "python3"
  },
  "language_info": {
   "codemirror_mode": {
    "name": "ipython",
    "version": 3
   },
   "file_extension": ".py",
   "mimetype": "text/x-python",
   "name": "python",
   "nbconvert_exporter": "python",
   "pygments_lexer": "ipython3",
   "version": "3.12.7"
  }
 },
 "nbformat": 4,
 "nbformat_minor": 2
}
