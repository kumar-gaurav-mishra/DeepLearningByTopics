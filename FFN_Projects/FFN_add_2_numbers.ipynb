{
 "cells": [
  {
   "cell_type": "code",
   "execution_count": null,
   "metadata": {},
   "outputs": [],
   "source": [
    "# Imports\n",
    "import torch\n",
    "import torch.nn as nn\n",
    "import torch.nn.functional as F\n",
    "import numpy as np\n",
    "\n",
    "from sklearn.model_selection import train_test_split\n",
    "from torch.utils.data import DataLoader, TensorDataset\n",
    "import matplotlib.pyplot as plt\n",
    "import matplotlib_inline.backend_inline as backend_inline\n",
    "\n",
    "backend_inline.set_matplotlib_formats(\"svg\")\n",
    "\n",
    "\n",
    "# Pytorch device specific configuration\n",
    "# Pytorch Gpu Configuration\n",
    "device = torch.device(\"cuda\" if torch.cuda.is_available() else \"cpu\")\n",
    "torch.set_default_device(device)"
   ]
  },
  {
   "cell_type": "code",
   "execution_count": null,
   "metadata": {},
   "outputs": [
    {
     "name": "stdout",
     "output_type": "stream",
     "text": [
      "Data Shape: (50000, 2), Label Shape: (50000,)\n"
     ]
    }
   ],
   "source": [
    "# Generate data\n",
    "data = np.random.randn(50000, 2) * 100\n",
    "labels = np.sum(data, axis=1)\n",
    "print(f\"Data Shape: {data.shape}, Label Shape: {labels.shape}\")"
   ]
  },
  {
   "cell_type": "code",
   "execution_count": null,
   "metadata": {},
   "outputs": [],
   "source": [
    "# Convert data into tensors\n",
    "dataT = torch.tensor(data).float()\n",
    "labelsT = torch.tensor(labels).long()\n",
    "\n",
    "# train test splits\n",
    "train_data, test_data_temp, train_labels, test_labels_temp = train_test_split(\n",
    "    dataT, labelsT, train_size=0.8\n",
    ")\n",
    "test_data, dev_data, test_labels, dev_labels = train_test_split(\n",
    "    test_data_temp, test_labels_temp, train_size=0.5\n",
    ")\n",
    "\n",
    "# Pytorch datasets\n",
    "train_dataT = TensorDataset(train_data, train_labels)\n",
    "dev_dataT = TensorDataset(dev_data, dev_labels)\n",
    "test_dataT = TensorDataset(test_data, test_labels)\n",
    "\n",
    "# Dataloader objects\n",
    "batchSize = 32\n",
    "train_loader = DataLoader(\n",
    "    train_dataT,\n",
    "    batch_size=batchSize,\n",
    "    shuffle=True,\n",
    "    drop_last=True,\n",
    "    generator=torch.Generator(device),\n",
    ")\n",
    "dev_loader = DataLoader(\n",
    "    dev_dataT,\n",
    "    batch_size=dev_dataT.tensors[0].shape[0],\n",
    "    generator=torch.Generator(device),\n",
    ")\n",
    "test_loader = DataLoader(\n",
    "    test_dataT,\n",
    "    batch_size=test_dataT.tensors[0].shape[0],\n",
    "    generator=torch.Generator(device),\n",
    ")"
   ]
  },
  {
   "cell_type": "code",
   "execution_count": 29,
   "metadata": {},
   "outputs": [],
   "source": [
    "# Function to create the class\n",
    "def createTheModel():\n",
    "    class Sum2NumbersClass(nn.Module):\n",
    "        def __init__(self):\n",
    "            super().__init__()\n",
    "\n",
    "            # Input\n",
    "            self.input = nn.Linear(2, 128)\n",
    "            # Hidden Layers\n",
    "            self.hidden1 = nn.Linear(128, 256)\n",
    "            self.hidden2 = nn.Linear(256, 256)\n",
    "            self.hidden3 = nn.Linear(256, 64)\n",
    "            # Output Layers\n",
    "            self.output = nn.Linear(64, 1)\n",
    "\n",
    "        def forward(self, x):\n",
    "            # Input\n",
    "            x = F.relu(self.input(x))\n",
    "\n",
    "            # Hidden Layers\n",
    "            x = F.relu(self.hidden1(x))\n",
    "            x = F.relu(self.hidden2(x))\n",
    "            x = F.relu(self.hidden3(x))\n",
    "\n",
    "            # Output Layers\n",
    "            return self.output(x)\n",
    "\n",
    "    net = Sum2NumbersClass()\n",
    "\n",
    "    # Loss Function\n",
    "    lossFun = nn.MSELoss()\n",
    "\n",
    "    # Optimizer\n",
    "    optimizer = torch.optim.Adam(net.parameters(), lr=0.01)\n",
    "\n",
    "    return net, lossFun, optimizer"
   ]
  },
  {
   "cell_type": "code",
   "execution_count": 36,
   "metadata": {},
   "outputs": [
    {
     "name": "stdout",
     "output_type": "stream",
     "text": [
      "torch.Size([100, 1])\n"
     ]
    }
   ],
   "source": [
    "# Test the model\n",
    "net, lossFun, optimizer = createTheModel()\n",
    "tempData = torch.tensor(100 * np.random.randn(100, 2)).float()\n",
    "print(net(tempData).shape)"
   ]
  },
  {
   "cell_type": "code",
   "execution_count": 37,
   "metadata": {},
   "outputs": [],
   "source": [
    "# epochs\n",
    "nEpochs = 30\n",
    "def trainTheModel():\n",
    "    # Model Instance\n",
    "    net, lossFun, optimizer = createTheModel()\n",
    "\n",
    "    # Initialize variables\n",
    "    trainAcc = []\n",
    "    devAcc = []\n",
    "    losses = np.zeros(nEpochs)\n",
    "\n",
    "    # The loop\n",
    "    for epoch in range(nEpochs):\n",
    "        # Model training mode\n",
    "        net.train()\n",
    "\n",
    "        # Batch loss and accuracy initialization\n",
    "        batchLoss = []\n",
    "        batchAcc = []\n",
    "\n",
    "        # The batch loop\n",
    "        for X, y in train_loader:\n",
    "\n",
    "            # Forward pass\n",
    "            yHat = net(X)\n",
    "            loss = lossFun(yHat, y)\n",
    "\n",
    "            # Backprop\n",
    "            optimizer.zero_grad()\n",
    "            loss.backward()\n",
    "            optimizer.step()\n",
    "\n",
    "            # Batch Loss and accuracy\n",
    "            batchLoss.append(loss.cpu().item())\n",
    "            batchAcc.append((100 * torch.mean((yHat == y))).cpu())\n",
    "\n",
    "        # Batch loop end\n",
    "\n",
    "        # Train Acc\n",
    "        trainAcc.append(torch.mean(batchAcc))\n",
    "        losses[epoch] = torch.mean(batchLoss)\n",
    "\n",
    "        # Dev accuracy\n",
    "        net.eval()\n",
    "        X, y = next(iter(dev_loader))\n",
    "        with torch.no_grad():\n",
    "            yHat = net(X)\n",
    "        devAcc.append((100 * torch.mean((yHat == y))).cpu())\n",
    "\n",
    "    # The Loop End\n",
    "\n",
    "    return trainAcc, devAcc, losses"
   ]
  },
  {
   "cell_type": "code",
   "execution_count": null,
   "metadata": {},
   "outputs": [],
   "source": []
  }
 ],
 "metadata": {
  "kernelspec": {
   "display_name": "base",
   "language": "python",
   "name": "python3"
  },
  "language_info": {
   "codemirror_mode": {
    "name": "ipython",
    "version": 3
   },
   "file_extension": ".py",
   "mimetype": "text/x-python",
   "name": "python",
   "nbconvert_exporter": "python",
   "pygments_lexer": "ipython3",
   "version": "3.12.7"
  }
 },
 "nbformat": 4,
 "nbformat_minor": 2
}
