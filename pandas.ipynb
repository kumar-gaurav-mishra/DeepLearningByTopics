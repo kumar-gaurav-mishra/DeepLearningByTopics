{
 "cells": [
  {
   "cell_type": "markdown",
   "metadata": {},
   "source": [
    "# Pandas"
   ]
  },
  {
   "cell_type": "code",
   "execution_count": 23,
   "metadata": {},
   "outputs": [],
   "source": [
    "import numpy as np\n",
    "import pandas as pd\n",
    "import math"
   ]
  },
  {
   "cell_type": "code",
   "execution_count": 16,
   "metadata": {},
   "outputs": [],
   "source": [
    "# Create random data\n",
    "var1 = np.random.randn(500) * 5 + 20\n",
    "var2 = np.random.randn(500) > 0\n",
    "var3 = np.random.randn(500)*20 + 40\n",
    "\n",
    "labels = ['Individual Age', 'Temp (C)', 'Ice cream']"
   ]
  },
  {
   "cell_type": "code",
   "execution_count": 17,
   "metadata": {},
   "outputs": [
    {
     "name": "stdout",
     "output_type": "stream",
     "text": [
      "     Individual Age   Temp (C)  Ice cream\n",
      "0         78.199900  13.936766  13.936766\n",
      "1         38.203440  23.545804  23.545804\n",
      "2         63.750305  24.823250  24.823250\n",
      "3         20.235485  23.350141  23.350141\n",
      "4         47.282597  12.351400  12.351400\n",
      "..              ...        ...        ...\n",
      "495       69.031169  14.968360  14.968360\n",
      "496       62.783922  32.313506  32.313506\n",
      "497       39.793966  13.040256  13.040256\n",
      "498       60.938503  21.274057  21.274057\n",
      "499       50.925105  14.621340  14.621340\n",
      "\n",
      "[500 rows x 3 columns]\n"
     ]
    }
   ],
   "source": [
    "D = {labels[0]: var3, labels[1]: var1, labels[2]: var1}\n",
    "df = pd.DataFrame(data=D)\n",
    "print(df)"
   ]
  },
  {
   "cell_type": "code",
   "execution_count": 18,
   "metadata": {},
   "outputs": [
    {
     "data": {
      "text/plain": [
       "Individual Age    40.170615\n",
       "Temp (C)          20.176902\n",
       "Ice cream         20.176902\n",
       "dtype: float64"
      ]
     },
     "execution_count": 18,
     "metadata": {},
     "output_type": "execute_result"
    }
   ],
   "source": [
    "df.mean()"
   ]
  },
  {
   "cell_type": "code",
   "execution_count": 28,
   "metadata": {},
   "outputs": [
    {
     "name": "stdout",
     "output_type": "stream",
     "text": [
      "    nums  square      logs\n",
      "0    0.0     0.0      -inf\n",
      "1    1.0     1.0  0.000000\n",
      "2    2.0     4.0  0.693147\n",
      "3    3.0     9.0  1.098612\n",
      "4    4.0    16.0  1.386294\n",
      "5    5.0    25.0  1.609438\n",
      "6    6.0    36.0  1.791759\n",
      "7    7.0    49.0  1.945910\n",
      "8    8.0    64.0  2.079442\n",
      "9    9.0    81.0  2.197225\n",
      "10  10.0   100.0  2.302585\n"
     ]
    },
    {
     "name": "stderr",
     "output_type": "stream",
     "text": [
      "/tmp/ipykernel_16166/1222611612.py:3: RuntimeWarning: divide by zero encountered in log\n",
      "  logs = np.log(nums)\n"
     ]
    }
   ],
   "source": [
    "nums = np.linspace(0, 10, 11)\n",
    "squares = nums ** 2\n",
    "logs = np.log(nums)\n",
    "\n",
    "df = pd.DataFrame({'nums': nums, 'square': squares, 'logs': logs})\n",
    "print(df)\n"
   ]
  },
  {
   "cell_type": "code",
   "execution_count": null,
   "metadata": {},
   "outputs": [],
   "source": []
  }
 ],
 "metadata": {
  "kernelspec": {
   "display_name": "base",
   "language": "python",
   "name": "python3"
  },
  "language_info": {
   "codemirror_mode": {
    "name": "ipython",
    "version": 3
   },
   "file_extension": ".py",
   "mimetype": "text/x-python",
   "name": "python",
   "nbconvert_exporter": "python",
   "pygments_lexer": "ipython3",
   "version": "3.12.7"
  }
 },
 "nbformat": 4,
 "nbformat_minor": 2
}
