{
 "cells": [
  {
   "cell_type": "code",
   "execution_count": 1,
   "metadata": {},
   "outputs": [],
   "source": [
    "# import libraries\n",
    "import numpy as np\n",
    "import matplotlib.pyplot as plt\n",
    "\n",
    "# update default font size\n",
    "import matplotlib\n",
    "\n",
    "matplotlib.rcParams.update({\"font.size\": 18})"
   ]
  },
  {
   "cell_type": "code",
   "execution_count": 2,
   "metadata": {},
   "outputs": [],
   "source": [
    "#### Experiment ####\n",
    "# Trials\n",
    "N = 50  # Actual Trials are 2N\n",
    "\n",
    "# Experiments repetitions\n",
    "nExp = 10000\n",
    "\n",
    "# Initialization\n",
    "accuracy = np.zeros(nExp)\n",
    "precision = np.zeros(nExp)\n",
    "recall = np.zeros(nExp)\n",
    "F1_score = np.zeros(nExp)\n",
    "\n",
    "# Run the experiment\n",
    "for exp in range(nExp):\n",
    "    # Generate Data\n",
    "    TP = np.random.randint(1, N)\n",
    "    FN = N - TP\n",
    "    TN = np.random.randint(1, N)\n",
    "    FP = N - TN\n",
    "\n",
    "    # The four performance measures\n",
    "    accuracy[exp] = (TP + TN) / (2 * N)\n",
    "    precision[exp] = TP / (TP + FP)\n",
    "    recall[exp] = TP / (TP + FN)\n",
    "    F1_score[exp] = TP / (TP + (FP + FN) / 2)"
   ]
  }
 ],
 "metadata": {
  "kernelspec": {
   "display_name": "base",
   "language": "python",
   "name": "python3"
  },
  "language_info": {
   "codemirror_mode": {
    "name": "ipython",
    "version": 3
   },
   "file_extension": ".py",
   "mimetype": "text/x-python",
   "name": "python",
   "nbconvert_exporter": "python",
   "pygments_lexer": "ipython3",
   "version": "3.12.7"
  }
 },
 "nbformat": 4,
 "nbformat_minor": 2
}
