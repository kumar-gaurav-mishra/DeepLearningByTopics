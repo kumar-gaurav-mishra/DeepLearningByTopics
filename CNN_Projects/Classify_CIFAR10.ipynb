{
 "cells": [
  {
   "cell_type": "code",
   "execution_count": 87,
   "id": "2b79ed7b",
   "metadata": {},
   "outputs": [],
   "source": [
    "# Imports\n",
    "import numpy as np\n",
    "\n",
    "import torch\n",
    "import torch.nn as nn\n",
    "import torch.nn.functional as F\n",
    "\n",
    "\n",
    "from sklearn.model_selection import train_test_split\n",
    "from torch.utils.data import DataLoader, Subset, TensorDataset\n",
    "\n",
    "from torchsummary import summary\n",
    "import torchvision as tv\n",
    "import copy\n",
    "\n",
    "import matplotlib.pyplot as plt\n",
    "import matplotlib_inline.backend_inline as backend_inline\n",
    "\n",
    "backend_inline.set_matplotlib_formats(\"svg\")\n",
    "\n",
    "\n",
    "#### Pytorch device specific configuration ###\n",
    "\n",
    "# # Pytorch Gpu Configuration for Cuda\n",
    "# device = torch.device(\"cuda\" if torch.cuda.is_available() else \"cpu\")\n",
    "\n",
    "# Pytorch Gpu Configuration for directml(AMD GPU)\n",
    "import torch_directml\n",
    "\n",
    "device = torch_directml.device()\n",
    "\n",
    "# Set default device\n",
    "torch.set_default_device(device)"
   ]
  },
  {
   "cell_type": "code",
   "execution_count": 115,
   "id": "965af9fb",
   "metadata": {},
   "outputs": [
    {
     "name": "stdout",
     "output_type": "stream",
     "text": [
      "Files already downloaded and verified\n",
      "Files already downloaded and verified\n"
     ]
    }
   ],
   "source": [
    "# Data import\n",
    "# transform = tv.transforms.Compose([tv.transforms.ToTensor(), tv.transforms.Normalize([.5,.5,.5], [.5,.5,.5])])\n",
    "trainSet = tv.datasets.CIFAR10(root='../Datasets/', train=True, download=True)\n",
    "devSet = tv.datasets.CIFAR10(root='../Datasets/', train=False, download=True)"
   ]
  },
  {
   "cell_type": "code",
   "execution_count": 121,
   "id": "c6f0f00d",
   "metadata": {},
   "outputs": [
    {
     "data": {
      "text/plain": [
       "(torch.Size([5000, 3, 32, 32]), torch.Size([5000, 3, 32, 32]))"
      ]
     },
     "execution_count": 121,
     "metadata": {},
     "output_type": "execute_result"
    }
   ],
   "source": [
    "data = copy.deepcopy(devSet.data)\n",
    "data = data.reshape(10000, 3, 32, 32)\n",
    "data = np.array(data)\n",
    "labels = np.array(devSet.targets).reshape(( len(devSet.targets), 1))\n",
    "\n",
    "data = torch.tensor(data).float()\n",
    "labels = torch.tensor(labels).long()\n",
    "\n",
    "\n",
    "dev_data, test_data, dev_labels, test_labels = train_test_split(\n",
    "    data, labels, test_size=0.5\n",
    ")\n",
    "\n",
    "# Step 3: convert into PyTorch Datasets\n",
    "dev_data = TensorDataset(dev_data, dev_labels)\n",
    "test_data = TensorDataset(test_data, test_labels)\n",
    "\n",
    "dev_data.tensors[0].shape, test_data.tensors[0].shape"
   ]
  },
  {
   "cell_type": "code",
   "execution_count": 117,
   "id": "232898fe",
   "metadata": {},
   "outputs": [],
   "source": [
    "# # Dataset shape\n",
    "# print(\"Dataset shape: \", trainSet.data.shape, devSet.data.shape, len(trainSet.classes), len(devSet.classes))\n",
    "\n",
    "# # # Data Normalization\n",
    "# # trainSet.data = trainSet.data / np.max(trainSet.data)\n",
    "# # devSet.data = devSet.data / np.max(devSet.data)\n",
    "# # Train/Test set split\n",
    "# # split the devtest into two separate sets\n",
    "# randidx = np.random.permutation(10000)  # a random permutation of indices\n",
    "# t_idx = randidx[:5000]\n",
    "# d_idx = list(set(randidx) - set(t_idx))\n",
    "# trainSet.data\n",
    "# devset = Subset(devSet, d_idx)  # Subset for devset\n",
    "# testset = Subset(devSet, t_idx)  # Subset for test\n",
    "\n",
    "# # transform to dataloaders\n",
    "# batchsize = 32\n",
    "# train_loader = DataLoader(\n",
    "#     trainSet,\n",
    "#     batch_size=batchsize,\n",
    "#     shuffle=True,\n",
    "#     drop_last=True,\n",
    "#     generator=torch.Generator(device=device),\n",
    "# )\n",
    "# dev_loader = DataLoader(\n",
    "#     devset, batch_size=batchsize, generator=torch.Generator(device=device)\n",
    "# )  # note: devtest in batches!\n",
    "# test_loader = DataLoader(\n",
    "#     testset, batch_size=len(testset), generator=torch.Generator(device=device)\n",
    "# )"
   ]
  },
  {
   "cell_type": "code",
   "execution_count": 118,
   "id": "eb1ff427",
   "metadata": {},
   "outputs": [],
   "source": [
    "# # check out the shape of the datasets\n",
    "# print(\"Data shapes (train/dev/test):\")\n",
    "# print(len(trainSet))\n",
    "# print(len(devset))\n",
    "# print(len(testset))\n",
    "\n",
    "# # and the range of pixel intensity values\n",
    "# print(\"\\nData value range:\")\n",
    "# print((np.min(trainSet.data), np.max(trainSet.data)))\n",
    "\n",
    "# # the unique categories\n",
    "# print(\"\\nData categories:\")\n",
    "# print(trainSet.classes)"
   ]
  },
  {
   "cell_type": "code",
   "execution_count": 119,
   "id": "f170594d",
   "metadata": {},
   "outputs": [],
   "source": [
    "# # Uh oh! It looks like the images are the wrong dimensions!\n",
    "# # They need to be 3x32x32.\n",
    "# # And they are not normalized!\n",
    "\n",
    "# # but...\n",
    "# X, y = next(iter(train_loader))\n",
    "\n",
    "# # try again\n",
    "# print(\"Data shapes (train/test):\")\n",
    "# print(X.data.shape)\n",
    "\n",
    "# # and the range of pixel intensity values\n",
    "# print(\"\\nData value range:\")\n",
    "# print((torch.min(X.data), torch.max(X.data)))"
   ]
  },
  {
   "cell_type": "code",
   "execution_count": 120,
   "id": "4969380f",
   "metadata": {},
   "outputs": [],
   "source": [
    "# # inspect a few random images\n",
    "\n",
    "# fig, axs = plt.subplots(4, 4, figsize=(10, 10))\n",
    "\n",
    "# for i, ax in enumerate(axs.flatten()):\n",
    "\n",
    "#     # extract that image (need to transpose it back to 32x32x3)\n",
    "#     pic = X.data[i].numpy().transpose((1, 2, 0))\n",
    "#     pic = pic / 2 + 0.5  # undo normalization\n",
    "\n",
    "#     # and its label\n",
    "#     label = trainSet.classes[y[i]]\n",
    "\n",
    "#     # and show!\n",
    "#     ax.imshow(pic)\n",
    "#     ax.text(\n",
    "#         16, 0, label, ha=\"center\", fontweight=\"bold\", color=\"k\", backgroundcolor=\"y\"\n",
    "#     )\n",
    "#     ax.axis(\"off\")\n",
    "\n",
    "# plt.tight_layout()\n",
    "# plt.show()"
   ]
  },
  {
   "cell_type": "code",
   "execution_count": null,
   "id": "c4182e23",
   "metadata": {},
   "outputs": [],
   "source": []
  }
 ],
 "metadata": {
  "kernelspec": {
   "display_name": "dml",
   "language": "python",
   "name": "python3"
  },
  "language_info": {
   "codemirror_mode": {
    "name": "ipython",
    "version": 3
   },
   "file_extension": ".py",
   "mimetype": "text/x-python",
   "name": "python",
   "nbconvert_exporter": "python",
   "pygments_lexer": "ipython3",
   "version": "3.10.14"
  }
 },
 "nbformat": 4,
 "nbformat_minor": 5
}
