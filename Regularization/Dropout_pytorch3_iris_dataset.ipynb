{
 "cells": [
  {
   "cell_type": "code",
   "execution_count": 2,
   "metadata": {},
   "outputs": [],
   "source": [
    "# Imports\n",
    "import torch\n",
    "import torch.nn as nn\n",
    "import torch.nn.functional as F\n",
    "import numpy as np\n",
    "import pandas as pd\n",
    "from sklearn.model_selection import train_test_split\n",
    "from torch.utils.data import DataLoader, TensorDataset\n",
    "import matplotlib.pyplot as plt\n",
    "import matplotlib_inline.backend_inline as backend_inline\n",
    "\n",
    "backend_inline.set_matplotlib_formats(\"svg\")\n",
    "\n",
    "\n",
    "# Pytorch device specific configuration\n",
    "# Pytorch Gpu Configuration\n",
    "device = torch.device(\"cuda\" if torch.cuda.is_available() else \"cpu\")\n",
    "torch.set_default_device(device)"
   ]
  },
  {
   "cell_type": "code",
   "execution_count": 3,
   "metadata": {},
   "outputs": [],
   "source": [
    "# import dataset\n",
    "import pandas as pd\n",
    "\n",
    "iris = pd.read_csv(\n",
    "    \"https://raw.githubusercontent.com/mwaskom/seaborn-data/master/iris.csv\"\n",
    ")\n",
    "\n",
    "# convert from pandas dataframe to tensor\n",
    "data = torch.tensor(iris[iris.columns[0:4]].values).float()\n",
    "\n",
    "# transform species to number\n",
    "labels = torch.zeros(len(data), dtype=torch.long)\n",
    "# labels[iris.species=='setosa'] = 0 # don't need!\n",
    "labels[iris.species == \"versicolor\"] = 1\n",
    "labels[iris.species == \"virginica\"] = 2"
   ]
  },
  {
   "cell_type": "code",
   "execution_count": 5,
   "metadata": {},
   "outputs": [],
   "source": [
    "# Batch Size\n",
    "batch_size = 16\n",
    "# Use scikit learn train_test_split to split the data\n",
    "train_data, test_data, train_labels, test_labels = train_test_split(data, labels, test_size=0.2)\n",
    "\n",
    "# Convert data into pytorch dataset\n",
    "train_data = TensorDataset(train_data, train_labels)\n",
    "test_data = TensorDataset(test_data, test_labels)\n",
    "\n",
    "# Translate train and test data to dataloder objects\n",
    "train_loader = DataLoader(train_data,batch_size=batch_size, shuffle=True, generator=torch.Generator(device=device))\n",
    "test_loader = DataLoader(test_data,batch_size=test_data.tensors[0].shape[0], generator=torch.Generator(device=device))"
   ]
  },
  {
   "cell_type": "code",
   "execution_count": 6,
   "metadata": {},
   "outputs": [],
   "source": [
    "# Create the model class\n",
    "class ANNModelClass(nn.Module):\n",
    "    def __init__(self, dr):\n",
    "        super().__init__()\n",
    "\n",
    "        # Layers\n",
    "        self.input = nn.Linear(4, 128)\n",
    "        self.hidden1 = nn.Linear(128,256)\n",
    "        self.hidden2 = nn.Linear(256,128)\n",
    "        self.output = nn.Linear(128, 3)\n",
    "\n",
    "        # Parameters\n",
    "        self.dr = dr\n",
    "    #forward pass\n",
    "    def forward(self, x):\n",
    "\n",
    "        # input Layer\n",
    "        x = F.relu(self.input(x))\n",
    "        x = F.dropout(x, p=self.dr, training=self.training) # self.training turns off dropout in testing mode\n",
    "\n",
    "        # Hidden Layer 1\n",
    "        x = F.relu(self.hidden1(x))\n",
    "        x = F.dropout(x, p=self.dr, training=self.training)\n",
    "\n",
    "        # Hidden Layer 2\n",
    "        x = F.relu(self.hidden2(x))\n",
    "        x = F.dropout(x, p=self.dr, training=self.training)\n",
    "\n",
    "        # Output Layer\n",
    "        x = self.output(x)\n",
    "\n",
    "        return x"
   ]
  },
  {
   "cell_type": "code",
   "execution_count": null,
   "metadata": {},
   "outputs": [],
   "source": []
  }
 ],
 "metadata": {
  "kernelspec": {
   "display_name": "base",
   "language": "python",
   "name": "python3"
  },
  "language_info": {
   "codemirror_mode": {
    "name": "ipython",
    "version": 3
   },
   "file_extension": ".py",
   "mimetype": "text/x-python",
   "name": "python",
   "nbconvert_exporter": "python",
   "pygments_lexer": "ipython3",
   "version": "3.12.7"
  }
 },
 "nbformat": 4,
 "nbformat_minor": 2
}
