{
 "cells": [
  {
   "cell_type": "code",
   "execution_count": 3,
   "metadata": {},
   "outputs": [],
   "source": [
    "# Imports\n",
    "import torch\n",
    "import torch.nn as nn\n",
    "import torch.nn.functional as F\n",
    "\n",
    "# Pytorch device specific configuration\n",
    "# Pytorch Gpu Configuration\n",
    "device = torch.device(\"cuda\" if torch.cuda.is_available() else \"cpu\")\n",
    "torch.set_default_device(device)"
   ]
  },
  {
   "cell_type": "code",
   "execution_count": null,
   "metadata": {},
   "outputs": [
    {
     "name": "stdout",
     "output_type": "stream",
     "text": [
      "tensor([1., 1., 1., 1., 1., 1., 1., 1., 1., 1., 1., 1., 1., 1., 1.],\n",
      "       device='cuda:0')\n",
      "tensor([0., 1., 1., 1., 0., 1., 0., 0., 1., 0., 1., 0., 0., 1., 1.],\n",
      "       device='cuda:0')\n",
      "tensor(0.8889, device='cuda:0')\n"
     ]
    }
   ],
   "source": [
    "# Dropout using pytorch nn module\n",
    "prob = 0.4\n",
    "\n",
    "dropout = nn.Dropout(p=prob)\n",
    "x = torch.ones(15)\n",
    "\n",
    "# Dropout\n",
    "y = dropout(x)\n",
    "print(x)\n",
    "print(y * (1 - prob))\n",
    "print(torch.mean(y))"
   ]
  },
  {
   "cell_type": "code",
   "execution_count": 7,
   "metadata": {},
   "outputs": [
    {
     "name": "stdout",
     "output_type": "stream",
     "text": [
      "tensor([1., 1., 1., 1., 1., 1., 1., 1., 1., 1., 1., 1., 1., 1., 1.],\n",
      "       device='cuda:0')\n",
      "tensor(1., device='cuda:0')\n"
     ]
    }
   ],
   "source": [
    "# Dropout Evaluation mode\n",
    "dropout.eval()\n",
    "y = dropout(x)\n",
    "print(y)\n",
    "print(torch.mean(y))"
   ]
  },
  {
   "cell_type": "code",
   "execution_count": 17,
   "metadata": {},
   "outputs": [
    {
     "name": "stdout",
     "output_type": "stream",
     "text": [
      "tensor([0.0000, 1.6667, 1.6667, 1.6667, 0.0000, 1.6667, 0.0000, 1.6667, 1.6667,\n",
      "        1.6667, 0.0000, 1.6667, 0.0000, 1.6667, 1.6667], device='cuda:0')\n",
      "tensor([1., 1., 1., 1., 1., 1., 1., 1., 1., 1., 1., 1., 1., 1., 1.],\n",
      "       device='cuda:0')\n"
     ]
    }
   ],
   "source": [
    "# Eval need to be toggeled to go in to training mode\n",
    "dropout.train()\n",
    "y = dropout(x)\n",
    "print(y)\n",
    "\n",
    "dropout.eval()\n",
    "y = dropout(x)\n",
    "print(y)"
   ]
  },
  {
   "cell_type": "code",
   "execution_count": 14,
   "metadata": {},
   "outputs": [
    {
     "name": "stdout",
     "output_type": "stream",
     "text": [
      "tensor([1.6667, 0.0000, 1.6667, 0.0000, 1.6667, 1.6667, 0.0000, 1.6667, 0.0000,\n",
      "        0.0000, 1.6667, 1.6667, 0.0000, 0.0000, 1.6667], device='cuda:0')\n",
      "tensor(0.8889, device='cuda:0')\n"
     ]
    }
   ],
   "source": [
    "# Dropout using pytorch functional module\n",
    "y = F.dropout(x, p=prob)\n",
    "print(y)\n",
    "print(torch.mean(y))"
   ]
  },
  {
   "cell_type": "code",
   "execution_count": 18,
   "metadata": {},
   "outputs": [
    {
     "name": "stdout",
     "output_type": "stream",
     "text": [
      "tensor([1., 1., 1., 1., 1., 1., 1., 1., 1., 1., 1., 1., 1., 1., 1.],\n",
      "       device='cuda:0')\n",
      "tensor(1., device='cuda:0')\n",
      "tensor([0.0000, 0.0000, 1.6667, 0.0000, 0.0000, 0.0000, 0.0000, 1.6667, 1.6667,\n",
      "        1.6667, 0.0000, 0.0000, 1.6667, 1.6667, 1.6667], device='cuda:0')\n",
      "tensor(0.7778, device='cuda:0')\n"
     ]
    }
   ],
   "source": [
    "# Function dropout eval mode\n",
    "y = F.dropout(x, p=prob, training=False)\n",
    "print(y)\n",
    "print(torch.mean(y))\n",
    "\n",
    "# Functional dropout train mode toggle after eval mode\n",
    "y = F.dropout(x, p=prob, training=True)\n",
    "print(y)\n",
    "print(torch.mean(y))"
   ]
  },
  {
   "cell_type": "code",
   "execution_count": null,
   "metadata": {},
   "outputs": [],
   "source": []
  }
 ],
 "metadata": {
  "kernelspec": {
   "display_name": "base",
   "language": "python",
   "name": "python3"
  },
  "language_info": {
   "codemirror_mode": {
    "name": "ipython",
    "version": 3
   },
   "file_extension": ".py",
   "mimetype": "text/x-python",
   "name": "python",
   "nbconvert_exporter": "python",
   "pygments_lexer": "ipython3",
   "version": "3.12.7"
  }
 },
 "nbformat": 4,
 "nbformat_minor": 2
}
