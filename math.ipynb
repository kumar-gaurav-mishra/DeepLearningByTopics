{
 "cells": [
  {
   "cell_type": "markdown",
   "metadata": {},
   "source": [
    "## Math Using python"
   ]
  },
  {
   "cell_type": "code",
   "execution_count": 2,
   "metadata": {},
   "outputs": [],
   "source": [
    "# imports\n",
    "import numpy as np\n",
    "import torch\n",
    "import torch.nn as nn\n",
    "import matplotlib.pyplot as plt\n",
    "\n",
    "device = torch.device('cuda' if torch.cuda.is_available() else 'cpu')\n",
    "torch.set_default_device(device)"
   ]
  },
  {
   "cell_type": "code",
   "execution_count": 3,
   "metadata": {},
   "outputs": [
    {
     "name": "stdout",
     "output_type": "stream",
     "text": [
      "[[1 2 3 4 5 6]]\n",
      "[[1]\n",
      " [2]\n",
      " [3]\n",
      " [4]\n",
      " [5]\n",
      " [6]]\n"
     ]
    }
   ],
   "source": [
    "# Vector and transpose\n",
    "nv = np.array([[1, 2, 3, 4, 5, 6]])\n",
    "print(nv)\n",
    "nv_T = nv.T\n",
    "print(nv_T)"
   ]
  },
  {
   "cell_type": "code",
   "execution_count": 4,
   "metadata": {},
   "outputs": [
    {
     "name": "stdout",
     "output_type": "stream",
     "text": [
      "tensor([[1, 2, 3, 4, 5, 6]], device='cuda:0')\n",
      "tensor([[1],\n",
      "        [2],\n",
      "        [3],\n",
      "        [4],\n",
      "        [5],\n",
      "        [6]], device='cuda:0')\n"
     ]
    }
   ],
   "source": [
    "# Vector using pytorch\n",
    "t_v = torch.tensor([[1, 2, 3, 4, 5, 6]])\n",
    "print(t_v)\n",
    "\n",
    "#Transpose a tensor\n",
    "t_v_T = t_v.T\n",
    "print(t_v_T)"
   ]
  },
  {
   "cell_type": "code",
   "execution_count": 5,
   "metadata": {},
   "outputs": [
    {
     "name": "stdout",
     "output_type": "stream",
     "text": [
      "tensor([[0, 1, 2, 3, 4],\n",
      "        [5, 6, 7, 8, 9]], device='cuda:0')\n",
      "tensor([[0, 5],\n",
      "        [1, 6],\n",
      "        [2, 7],\n",
      "        [3, 8],\n",
      "        [4, 9]], device='cuda:0')\n"
     ]
    }
   ],
   "source": [
    "# matrix using tensor\n",
    "t_m = torch.tensor([[0, 1,2, 3, 4], [5, 6, 7, 8, 9]])\n",
    "print(t_m)\n",
    "\n",
    "# matrix transpose\n",
    "t_m_T = t_m.T\n",
    "print(t_m_T)"
   ]
  },
  {
   "cell_type": "code",
   "execution_count": 6,
   "metadata": {},
   "outputs": [
    {
     "name": "stdout",
     "output_type": "stream",
     "text": [
      "numpy dot product: [[205 280]\n",
      " [530 730]] [[205 280]\n",
      " [530 730]]\n"
     ]
    }
   ],
   "source": [
    "# Dot products numpy\n",
    "n1 = np.array([[1,2,3,4,5], [6,7,8,9,10]])\n",
    "n2 = np.array([[11,12,13,14,15], [16,17,18,19,20]])\n",
    "n_dot = np.dot(n1, n2.T)\n",
    "print(f'numpy dot product: {n_dot}', n_dot)"
   ]
  },
  {
   "cell_type": "code",
   "execution_count": 10,
   "metadata": {},
   "outputs": [
    {
     "name": "stdout",
     "output_type": "stream",
     "text": [
      "torch.Size([2, 5])  :  torch.Size([5, 2])\n",
      "pytorch dot product: tensor([[107., 114., 121., 128., 135.],\n",
      "        [134., 143., 152., 161., 170.],\n",
      "        [161., 172., 183., 194., 205.],\n",
      "        [188., 201., 214., 227., 240.],\n",
      "        [215., 230., 245., 260., 275.]], device='cuda:0')\n",
      "pytorch dot product using: mm tensor([[107., 114., 121., 128., 135.],\n",
      "        [134., 143., 152., 161., 170.],\n",
      "        [161., 172., 183., 194., 205.],\n",
      "        [188., 201., 214., 227., 240.],\n",
      "        [215., 230., 245., 260., 275.]], device='cuda:0')\n",
      "pytorch dot product using: matmul tensor([[107., 114., 121., 128., 135.],\n",
      "        [134., 143., 152., 161., 170.],\n",
      "        [161., 172., 183., 194., 205.],\n",
      "        [188., 201., 214., 227., 240.],\n",
      "        [215., 230., 245., 260., 275.]], device='cuda:0')\n"
     ]
    }
   ],
   "source": [
    "# Dot products pytorch\n",
    "n_t1 = torch.tensor([[1,2,3,4,5], [6,7,8,9,10]], dtype=torch.float)\n",
    "n_t2 = torch.tensor([[11,12,13,14,15], [16,17,18,19,20]], dtype=torch.float)\n",
    "\n",
    "print(n_t1.shape, \" : \", (n_t2.T.shape))\n",
    "n_t_dot = n_t1.T @ n_t2\n",
    "print(f'pytorch dot product: {n_t_dot }')\n",
    "print('pytorch dot product using: mm', torch.mm(n_t1.T, n_t2) )\n",
    "print('pytorch dot product using: matmul', torch.matmul(n_t1.T, n_t2) )"
   ]
  },
  {
   "cell_type": "code",
   "execution_count": 11,
   "metadata": {},
   "outputs": [],
   "source": [
    "# softmax\n",
    "def softmax(input):\n",
    "    exp = np.array([np.exp(i) for i in input])\n",
    "    exp_sum = np.sum(exp)\n",
    "    sigma = np.array([j / exp_sum for j in exp])\n",
    "    return sigma"
   ]
  },
  {
   "cell_type": "code",
   "execution_count": 12,
   "metadata": {},
   "outputs": [
    {
     "name": "stdout",
     "output_type": "stream",
     "text": [
      "[0.09003057 0.24472847 0.66524096]\n",
      "Sum of softmax always sums to 1:  1.0\n"
     ]
    }
   ],
   "source": [
    "arr = np.array([1, 2, 3])\n",
    "print(softmax(arr))\n",
    "print('Sum of softmax always sums to 1: ', np.sum(softmax(arr)))"
   ]
  },
  {
   "cell_type": "code",
   "execution_count": 21,
   "metadata": {},
   "outputs": [
    {
     "name": "stdout",
     "output_type": "stream",
     "text": [
      "[46 46  6 41 17 47 16 17 33 29 20 47 40 39 40 49 43 32 40 18 43  6 14  1\n",
      " 10 -2 41  5  4 21 15  3 37 47  8  4 45 14 10  3 19  0 17 30  7 16 23 22\n",
      " -2 31 25 27 11 -3  5 37 19 42 10 28 21  2  8 46 -2 19 -4 35 42 31 37 24\n",
      " 43 45 31 33 28 -5 19 12  3 -5  8 19 48 18 41 22 39 24 28 44 48 18 24 45\n",
      " 45 -5 41  4]\n"
     ]
    },
    {
     "name": "stderr",
     "output_type": "stream",
     "text": [
      "<>:7: SyntaxWarning: invalid escape sequence '\\s'\n",
      "<>:8: SyntaxWarning: invalid escape sequence '\\s'\n",
      "<>:7: SyntaxWarning: invalid escape sequence '\\s'\n",
      "<>:8: SyntaxWarning: invalid escape sequence '\\s'\n",
      "/tmp/ipykernel_53697/980753063.py:7: SyntaxWarning: invalid escape sequence '\\s'\n",
      "  plt.ylabel('Softmaax $\\sigma$')\n",
      "/tmp/ipykernel_53697/980753063.py:8: SyntaxWarning: invalid escape sequence '\\s'\n",
      "  plt.title('$\\sum\\sigma$ = %g' %np.sum(sigma))\n"
     ]
    },
    {
     "data": {
      "image/png": "[encoded data removed]",
      "text/plain": [
       "<Figure size 640x480 with 1 Axes>"
      ]
     },
     "metadata": {},
     "output_type": "display_data"
    }
   ],
   "source": [
    "z = np.random.randint(-5, high=50, size=100)\n",
    "print(z)\n",
    "sigma = softmax(z)\n",
    "# plots\n",
    "plt.plot(z, sigma, 'ko')\n",
    "plt.xlabel('Original numbers (Z)')\n",
    "plt.ylabel('Softmaax $\\sigma$')\n",
    "plt.title('$\\sum\\sigma$ = %g' %np.sum(sigma))\n",
    "plt.show()"
   ]
  },
  {
   "cell_type": "code",
   "execution_count": 25,
   "metadata": {},
   "outputs": [
    {
     "name": "stderr",
     "output_type": "stream",
     "text": [
      "<>:3: SyntaxWarning: invalid escape sequence '\\s'\n",
      "<>:5: SyntaxWarning: invalid escape sequence '\\s'\n",
      "<>:3: SyntaxWarning: invalid escape sequence '\\s'\n",
      "<>:5: SyntaxWarning: invalid escape sequence '\\s'\n",
      "/tmp/ipykernel_53697/349035371.py:3: SyntaxWarning: invalid escape sequence '\\s'\n",
      "  plt.ylabel('Softmaax $\\sigma$')\n",
      "/tmp/ipykernel_53697/349035371.py:5: SyntaxWarning: invalid escape sequence '\\s'\n",
      "  plt.title('$\\sum\\sigma$ = %g' %np.sum(sigma))\n"
     ]
    },
    {
     "data": {
      "image/png": "[encoded data removed]",
      "text/plain": [
       "<Figure size 640x480 with 1 Axes>"
      ]
     },
     "metadata": {},
     "output_type": "display_data"
    }
   ],
   "source": [
    "plt.plot(z, sigma, 'ko')\n",
    "plt.xlabel('Original numbers (Z)')\n",
    "plt.ylabel('Softmaax $\\sigma$')\n",
    "plt.yscale('log')\n",
    "plt.title('$\\sum\\sigma$ = %g' %np.sum(sigma))\n",
    "plt.show()"
   ]
  },
  {
   "cell_type": "code",
   "execution_count": null,
   "metadata": {},
   "outputs": [],
   "source": []
  }
 ],
 "metadata": {
  "kernelspec": {
   "display_name": "base",
   "language": "python",
   "name": "python3"
  },
  "language_info": {
   "codemirror_mode": {
    "name": "ipython",
    "version": 3
   },
   "file_extension": ".py",
   "mimetype": "text/x-python",
   "name": "python",
   "nbconvert_exporter": "python",
   "pygments_lexer": "ipython3",
   "version": "3.12.7"
  }
 },
 "nbformat": 4,
 "nbformat_minor": 2
}
