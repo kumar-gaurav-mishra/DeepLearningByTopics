{
 "cells": [
  {
   "cell_type": "markdown",
   "metadata": {},
   "source": [
    "## Math Using python"
   ]
  },
  {
   "cell_type": "code",
   "execution_count": 13,
   "metadata": {},
   "outputs": [],
   "source": [
    "# imports\n",
    "import numpy as np\n",
    "import torch\n",
    "device = torch.device('cuda' if torch.cuda.is_available() else 'cpu')\n",
    "# torch.set_default_device(device)"
   ]
  },
  {
   "cell_type": "code",
   "execution_count": 14,
   "metadata": {},
   "outputs": [
    {
     "name": "stdout",
     "output_type": "stream",
     "text": [
      "[[1 2 3 4 5 6]]\n",
      "[[1]\n",
      " [2]\n",
      " [3]\n",
      " [4]\n",
      " [5]\n",
      " [6]]\n"
     ]
    }
   ],
   "source": [
    "# Vector and transpose\n",
    "nv = np.array([[1, 2, 3, 4, 5, 6]])\n",
    "print(nv)\n",
    "nv_T = nv.T\n",
    "print(nv_T)"
   ]
  },
  {
   "cell_type": "code",
   "execution_count": 15,
   "metadata": {},
   "outputs": [
    {
     "name": "stdout",
     "output_type": "stream",
     "text": [
      "tensor([[1, 2, 3, 4, 5, 6]])\n",
      "tensor([[1],\n",
      "        [2],\n",
      "        [3],\n",
      "        [4],\n",
      "        [5],\n",
      "        [6]])\n"
     ]
    }
   ],
   "source": [
    "# Vector using pytorch\n",
    "t_v = torch.tensor([[1, 2, 3, 4, 5, 6]])\n",
    "print(t_v)\n",
    "\n",
    "#Transpose a tensor\n",
    "t_v_T = t_v.T\n",
    "print(t_v_T)"
   ]
  },
  {
   "cell_type": "code",
   "execution_count": 16,
   "metadata": {},
   "outputs": [
    {
     "name": "stdout",
     "output_type": "stream",
     "text": [
      "tensor([[0, 1, 2, 3, 4],\n",
      "        [5, 6, 7, 8, 9]])\n",
      "tensor([[0, 5],\n",
      "        [1, 6],\n",
      "        [2, 7],\n",
      "        [3, 8],\n",
      "        [4, 9]])\n"
     ]
    }
   ],
   "source": [
    "# matrix using tensor\n",
    "t_m = torch.tensor([[0, 1,2, 3, 4], [5, 6, 7, 8, 9]])\n",
    "print(t_m)\n",
    "\n",
    "# matrix transpose\n",
    "t_m_T = t_m.T\n",
    "print(t_m_T)"
   ]
  },
  {
   "cell_type": "code",
   "execution_count": 17,
   "metadata": {},
   "outputs": [
    {
     "name": "stdout",
     "output_type": "stream",
     "text": [
      "numpy dot product: [[205 280]\n",
      " [530 730]] [[205 280]\n",
      " [530 730]]\n"
     ]
    }
   ],
   "source": [
    "# Dot products numpy\n",
    "n1 = np.array([[1,2,3,4,5], [6,7,8,9,10]])\n",
    "n2 = np.array([[11,12,13,14,15], [16,17,18,19,20]])\n",
    "n_dot = np.dot(n1, n2.T)\n",
    "print(f'numpy dot product: {n_dot}', n_dot)"
   ]
  },
  {
   "cell_type": "code",
   "execution_count": 18,
   "metadata": {},
   "outputs": [
    {
     "name": "stdout",
     "output_type": "stream",
     "text": [
      "torch.Size([2, 5])  :  torch.Size([5, 2])\n",
      "pytorch dot product: tensor([[107., 114., 121., 128., 135.],\n",
      "        [134., 143., 152., 161., 170.],\n",
      "        [161., 172., 183., 194., 205.],\n",
      "        [188., 201., 214., 227., 240.],\n",
      "        [215., 230., 245., 260., 275.]], device='cuda:0') tensor([[107., 114., 121., 128., 135.],\n",
      "        [134., 143., 152., 161., 170.],\n",
      "        [161., 172., 183., 194., 205.],\n",
      "        [188., 201., 214., 227., 240.],\n",
      "        [215., 230., 245., 260., 275.]], device='cuda:0')\n"
     ]
    }
   ],
   "source": [
    "# Dot products pytorch\n",
    "n_t1 = torch.tensor([[1.,2.,3.,4.,5.], [6.,7.,8.,9.,10.]]).to(device)\n",
    "n_t2 = torch.tensor([[11.,12.,13.,14.,15.], [16.,17.,18.,19.,20.]]).to(device)\n",
    "\n",
    "print(n_t1.shape, \" : \", (n_t2.T.shape))\n",
    "n_t_dot = n_t1.T @ n_t2\n",
    "print(f'pytorch dot product: {n_t_dot }', n_t_dot )"
   ]
  },
  {
   "cell_type": "code",
   "execution_count": null,
   "metadata": {},
   "outputs": [],
   "source": []
  }
 ],
 "metadata": {
  "kernelspec": {
   "display_name": "base",
   "language": "python",
   "name": "python3"
  },
  "language_info": {
   "codemirror_mode": {
    "name": "ipython",
    "version": 3
   },
   "file_extension": ".py",
   "mimetype": "text/x-python",
   "name": "python",
   "nbconvert_exporter": "python",
   "pygments_lexer": "ipython3",
   "version": "3.12.7"
  }
 },
 "nbformat": 4,
 "nbformat_minor": 2
}
