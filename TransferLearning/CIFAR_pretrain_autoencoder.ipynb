{
 "cells": [
  {
   "cell_type": "code",
   "execution_count": 1,
   "id": "354bbe99",
   "metadata": {},
   "outputs": [],
   "source": [
    "# Imports\n",
    "import numpy as np\n",
    "\n",
    "import torch\n",
    "import torch.nn as nn\n",
    "import torch.nn.functional as F\n",
    "\n",
    "\n",
    "from sklearn.model_selection import train_test_split\n",
    "from torch.utils.data import DataLoader, Subset, TensorDataset\n",
    "\n",
    "from torchsummary import summary\n",
    "import torchvision as tv\n",
    "import torchvision.transforms as T\n",
    "import copy\n",
    "\n",
    "import matplotlib.pyplot as plt\n",
    "import matplotlib_inline.backend_inline as backend_inline\n",
    "\n",
    "backend_inline.set_matplotlib_formats(\"svg\")\n",
    "\n",
    "\n",
    "#### Pytorch device specific configuration ###\n",
    "\n",
    "# Pytorch Gpu Configuration for Cuda\n",
    "device = torch.device(\"cuda\" if torch.cuda.is_available() else \"cpu\")\n",
    "\n",
    "# # Pytorch Gpu Configuration for directml(AMD GPU)\n",
    "# import torch_directml\n",
    "\n",
    "# device = torch_directml.device()\n",
    "\n",
    "# Set default device\n",
    "torch.set_default_device(device)"
   ]
  },
  {
   "cell_type": "code",
   "execution_count": 4,
   "id": "984f249c",
   "metadata": {},
   "outputs": [
    {
     "name": "stdout",
     "output_type": "stream",
     "text": [
      "Files already downloaded and verified\n",
      "Files already downloaded and verified\n"
     ]
    }
   ],
   "source": [
    "# transformations\n",
    "transform = T.Compose([T.ToTensor(), T.Normalize([0.5, 0.5, 0.5], [0.5, 0.5, 0.5])])\n",
    "\n",
    "# import the data and simultaneously apply the transform\n",
    "trainset = tv.datasets.CIFAR10(\n",
    "    root=\"../Datasets/\", train=True, download=True, transform=transform\n",
    ")\n",
    "testset = tv.datasets.CIFAR10(\n",
    "    root=\"../Datasets/\", train=False, download=True, transform=transform\n",
    ")\n",
    "\n",
    "# transform to dataloaders\n",
    "batchsize = 32\n",
    "train_loaderFull = DataLoader(\n",
    "    trainset, batch_size=batchsize, shuffle=True, drop_last=True, generator=torch.Generator(device=device)\n",
    ")\n",
    "test_loaderFull = DataLoader(\n",
    "    testset, batch_size=256, generator=torch.Generator(device=device)\n",
    ")\n",
    "\n",
    "# Create smaller DataLoaders with only 2k images (used later)\n",
    "\n",
    "trainsetSmall = torch.utils.data.Subset(trainset, range(2000))\n",
    "train_loaderSmall = DataLoader(\n",
    "    trainsetSmall,\n",
    "    batch_size=batchsize,\n",
    "    shuffle=True,\n",
    "    generator=torch.Generator(device=device),\n",
    ")\n",
    "\n",
    "testsetSmall = torch.utils.data.Subset(testset, range(2000))\n",
    "test_loaderSmall = DataLoader(\n",
    "    testsetSmall,\n",
    "    batch_size=batchsize,\n",
    "    shuffle=True,\n",
    "    generator=torch.Generator(device=device),\n",
    ")"
   ]
  },
  {
   "cell_type": "code",
   "execution_count": null,
   "id": "d5e5052a",
   "metadata": {},
   "outputs": [],
   "source": []
  }
 ],
 "metadata": {
  "kernelspec": {
   "display_name": "base",
   "language": "python",
   "name": "python3"
  },
  "language_info": {
   "codemirror_mode": {
    "name": "ipython",
    "version": 3
   },
   "file_extension": ".py",
   "mimetype": "text/x-python",
   "name": "python",
   "nbconvert_exporter": "python",
   "pygments_lexer": "ipython3",
   "version": "3.12.7"
  }
 },
 "nbformat": 4,
 "nbformat_minor": 5
}
