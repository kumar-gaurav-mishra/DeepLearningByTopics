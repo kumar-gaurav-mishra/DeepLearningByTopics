{
 "cells": [
  {
   "cell_type": "code",
   "execution_count": 1,
   "id": "9c847924",
   "metadata": {},
   "outputs": [],
   "source": [
    "# Imports\n",
    "import numpy as np\n",
    "\n",
    "import torch\n",
    "import torch.nn as nn\n",
    "import torch.nn.functional as F\n",
    "\n",
    "\n",
    "from sklearn.model_selection import train_test_split\n",
    "from torch.utils.data import DataLoader, Subset, TensorDataset\n",
    "\n",
    "from torchsummary import summary\n",
    "import torchvision as tv\n",
    "import torchvision.transforms as T\n",
    "import copy\n",
    "\n",
    "import matplotlib.pyplot as plt\n",
    "import matplotlib_inline.backend_inline as backend_inline\n",
    "\n",
    "backend_inline.set_matplotlib_formats(\"svg\")\n",
    "\n",
    "\n",
    "#### Pytorch device specific configuration ###\n",
    "\n",
    "# Pytorch Gpu Configuration for Cuda\n",
    "device = torch.device(\"cuda\" if torch.cuda.is_available() else \"cpu\")\n",
    "\n",
    "# # Pytorch Gpu Configuration for directml(AMD GPU)\n",
    "# import torch_directml\n",
    "\n",
    "# device = torch_directml.device()\n",
    "\n",
    "# Set default device\n",
    "torch.set_default_device(device)"
   ]
  },
  {
   "cell_type": "code",
   "execution_count": 2,
   "id": "d3a9e9db",
   "metadata": {},
   "outputs": [],
   "source": [
    "# transformations\n",
    "transform = T.Compose(\n",
    "    [\n",
    "        T.ToTensor(),\n",
    "        T.RandomHorizontalFlip(p=0.5),\n",
    "        T.Normalize(0.5, 0.5),\n",
    "    ]\n",
    ")\n",
    "\n",
    "# import the data and simultaneously apply the transform\n",
    "trainset = tv.datasets.FashionMNIST(\n",
    "    root=\"../Datasets/\", train=True, download=True, transform=transform\n",
    ")\n",
    "devtest = tv.datasets.FashionMNIST(\n",
    "    root=\"../Datasets/\", train=False, download=True, transform=transform\n",
    ")\n",
    "\n",
    "# split the devtest into two separate sets\n",
    "randidx = np.random.permutation(10000)  # a random permutation of indices\n",
    "devset = Subset(devtest, randidx[:6000])  # Subset for devset\n",
    "testset = Subset(devtest, randidx[6000:])  # Subset for test\n",
    "\n",
    "# transform to dataloaders\n",
    "batchsize = 32\n",
    "train_loader = DataLoader(trainset, batch_size=batchsize, shuffle=True, drop_last=True, generator=torch.Generator(device=device))\n",
    "dev_loader = DataLoader(devset, batch_size=len(devset), generator=torch.Generator(device=device))\n",
    "test_loader = DataLoader(testset, batch_size=len(testset), generator=torch.Generator(device=device))"
   ]
  },
  {
   "cell_type": "code",
   "execution_count": null,
   "id": "dcf3e892",
   "metadata": {},
   "outputs": [],
   "source": []
  }
 ],
 "metadata": {
  "kernelspec": {
   "display_name": "base",
   "language": "python",
   "name": "python3"
  },
  "language_info": {
   "codemirror_mode": {
    "name": "ipython",
    "version": 3
   },
   "file_extension": ".py",
   "mimetype": "text/x-python",
   "name": "python",
   "nbconvert_exporter": "python",
   "pygments_lexer": "ipython3",
   "version": "3.12.7"
  }
 },
 "nbformat": 4,
 "nbformat_minor": 5
}
