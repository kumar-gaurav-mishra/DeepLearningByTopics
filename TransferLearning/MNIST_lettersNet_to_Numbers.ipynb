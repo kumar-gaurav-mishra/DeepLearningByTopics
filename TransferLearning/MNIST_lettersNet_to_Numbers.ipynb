{
 "cells": [
  {
   "cell_type": "code",
   "execution_count": 2,
   "id": "5b8b25c3",
   "metadata": {},
   "outputs": [],
   "source": [
    "# Imports\n",
    "import numpy as np\n",
    "\n",
    "import torch\n",
    "import torch.nn as nn\n",
    "import torch.nn.functional as F\n",
    "\n",
    "\n",
    "from sklearn.model_selection import train_test_split\n",
    "from torch.utils.data import DataLoader, Subset, TensorDataset\n",
    "\n",
    "from torchsummary import summary\n",
    "import torchvision as tv\n",
    "import torchvision.transforms as T\n",
    "import copy\n",
    "\n",
    "import matplotlib.pyplot as plt\n",
    "import matplotlib_inline.backend_inline as backend_inline\n",
    "\n",
    "backend_inline.set_matplotlib_formats(\"svg\")\n",
    "\n",
    "\n",
    "#### Pytorch device specific configuration ###\n",
    "\n",
    "# Pytorch Gpu Configuration for Cuda\n",
    "device = torch.device(\"cuda\" if torch.cuda.is_available() else \"cpu\")\n",
    "\n",
    "# # Pytorch Gpu Configuration for directml(AMD GPU)\n",
    "# import torch_directml\n",
    "\n",
    "# device = torch_directml.device()\n",
    "\n",
    "# Set default device\n",
    "torch.set_default_device(device)"
   ]
  },
  {
   "cell_type": "code",
   "execution_count": 4,
   "id": "cfe51b7c",
   "metadata": {},
   "outputs": [],
   "source": [
    "# download the datasets\n",
    "letterdata = tv.datasets.EMNIST(root=\"../Datasets/\", split=\"letters\", download=True)\n",
    "numberdata = tv.datasets.EMNIST(root=\"../Datasets/\", split=\"digits\", download=True)"
   ]
  },
  {
   "cell_type": "code",
   "execution_count": 7,
   "id": "92d0748e",
   "metadata": {},
   "outputs": [],
   "source": [
    "# transformations on the letter data\n",
    "\n",
    "# remove N/A class\n",
    "letterCategories = letterdata.classes[1:]\n",
    "labels = copy.deepcopy(letterdata.targets) - 1\n",
    "\n",
    "# transform to 4D tensor for conv layers (and transform from int8 to float)\n",
    "letterImages = letterdata.data.view([letterdata.data.shape[0], 1, 28, 28]).float()\n",
    "letterImages /= torch.max(letterImages)\n",
    "\n",
    "\n",
    "# split the images and convert to dataloaders\n",
    "train_data, test_data, train_labels, test_labels = train_test_split(\n",
    "    letterImages, labels, test_size=0.1\n",
    ")\n",
    "\n",
    "# convert into PyTorch Datasets\n",
    "train_data = torch.utils.data.TensorDataset(train_data, train_labels)\n",
    "test_data = torch.utils.data.TensorDataset(test_data, test_labels)\n",
    "\n",
    "# translate into dataloader objects\n",
    "batchsize = 32\n",
    "letter_train_loader = DataLoader(\n",
    "    train_data, batch_size=batchsize, shuffle=True, drop_last=True, generator=torch.Generator(device=device)\n",
    ")\n",
    "letter_test_loader = DataLoader(test_data, batch_size=test_data.tensors[0].shape[0], generator=torch.Generator(device=device))"
   ]
  },
  {
   "cell_type": "code",
   "execution_count": 8,
   "id": "ccbd4428",
   "metadata": {},
   "outputs": [],
   "source": [
    "### transformations on numbers data\n",
    "\n",
    "# transform to 4D tensor for conv layers (and transform from int8 to float)\n",
    "numberImages = numberdata.data.view([numberdata.data.shape[0], 1, 28, 28]).float()\n",
    "numberImages /= torch.max(numberImages)\n",
    "\n",
    "\n",
    "# split the images and convert to dataloaders\n",
    "train_data, test_data, train_labels, test_labels = train_test_split(\n",
    "    numberImages, numberdata.targets, test_size=0.1\n",
    ")\n",
    "\n",
    "# convert into PyTorch Datasets\n",
    "train_data = torch.utils.data.TensorDataset(train_data, train_labels)\n",
    "test_data = torch.utils.data.TensorDataset(test_data, test_labels)\n",
    "\n",
    "# translate into dataloader objects\n",
    "batchsize = 32\n",
    "number_train_loader = DataLoader(\n",
    "    train_data, batch_size=batchsize, shuffle=True, drop_last=True, generator=torch.Generator(device=device)\n",
    ")\n",
    "number_test_loader = DataLoader(test_data, batch_size=test_data.tensors[0].shape[0], generator=torch.Generator(device=device)), "
   ]
  },
  {
   "cell_type": "code",
   "execution_count": null,
   "id": "d50acb0e",
   "metadata": {},
   "outputs": [],
   "source": []
  }
 ],
 "metadata": {
  "kernelspec": {
   "display_name": "base",
   "language": "python",
   "name": "python3"
  },
  "language_info": {
   "codemirror_mode": {
    "name": "ipython",
    "version": 3
   },
   "file_extension": ".py",
   "mimetype": "text/x-python",
   "name": "python",
   "nbconvert_exporter": "python",
   "pygments_lexer": "ipython3",
   "version": "3.12.7"
  }
 },
 "nbformat": 4,
 "nbformat_minor": 5
}
