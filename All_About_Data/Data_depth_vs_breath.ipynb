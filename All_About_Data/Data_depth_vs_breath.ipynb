{
 "cells": [
  {
   "cell_type": "code",
   "execution_count": 1,
   "metadata": {},
   "outputs": [],
   "source": [
    "# import libraries\n",
    "import torch\n",
    "import torch.nn as nn\n",
    "import torch.nn.functional as F\n",
    "from torch.utils.data import DataLoader, TensorDataset\n",
    "from sklearn.model_selection import train_test_split\n",
    "\n",
    "import numpy as np\n",
    "\n",
    "import matplotlib.pyplot as plt\n",
    "import matplotlib_inline.backend_inline\n",
    "\n",
    "matplotlib_inline.backend_inline.set_matplotlib_formats(\"svg\")"
   ]
  },
  {
   "cell_type": "code",
   "execution_count": 2,
   "metadata": {},
   "outputs": [],
   "source": [
    "# a function that creates data\n",
    "\n",
    "\n",
    "def createSomeData(nPerClust):\n",
    "\n",
    "    A = [1, 1]\n",
    "    B = [5, 1]\n",
    "    C = [4, 4]\n",
    "\n",
    "    # generate data\n",
    "    a = [A[0] + np.random.randn(nPerClust), A[1] + np.random.randn(nPerClust)]\n",
    "    b = [B[0] + np.random.randn(nPerClust), B[1] + np.random.randn(nPerClust)]\n",
    "    c = [C[0] + np.random.randn(nPerClust), C[1] + np.random.randn(nPerClust)]\n",
    "\n",
    "    # true labels\n",
    "    labels_np = np.hstack(\n",
    "        (np.zeros((nPerClust)), np.ones((nPerClust)), 1 + np.ones((nPerClust)))\n",
    "    )\n",
    "\n",
    "    # concatanate into a matrix, then convert to a pytorch tensor\n",
    "    data_np = np.hstack((a, b, c)).T\n",
    "\n",
    "    # NEW: put all outputs into a dictionary\n",
    "    output = {}\n",
    "    output[\"data\"] = torch.tensor(data_np).float()\n",
    "    output[\"labels\"] = torch.tensor(\n",
    "        labels_np\n",
    "    ).long()  # note: \"long\" format (integers) for labels\n",
    "\n",
    "    # use scikitlearn to split the data\n",
    "    train_data, test_data, train_labels, test_labels = train_test_split(\n",
    "        output[\"data\"], output[\"labels\"], train_size=0.9\n",
    "    )\n",
    "\n",
    "    # then convert them into PyTorch Datasets (note: already converted to tensors)\n",
    "    train_data = TensorDataset(train_data, train_labels)\n",
    "    test_data = TensorDataset(test_data, test_labels)\n",
    "\n",
    "    # finally, translate into dataloader objects\n",
    "    batchsize = 8\n",
    "    output[\"train_data\"] = DataLoader(\n",
    "        train_data, batch_size=batchsize, shuffle=True, drop_last=True\n",
    "    )\n",
    "    output[\"test_data\"] = DataLoader(\n",
    "        test_data, batch_size=test_data.tensors[0].shape[0]\n",
    "    )\n",
    "\n",
    "    return output"
   ]
  }
 ],
 "metadata": {
  "kernelspec": {
   "display_name": "base",
   "language": "python",
   "name": "python3"
  },
  "language_info": {
   "codemirror_mode": {
    "name": "ipython",
    "version": 3
   },
   "file_extension": ".py",
   "mimetype": "text/x-python",
   "name": "python",
   "nbconvert_exporter": "python",
   "pygments_lexer": "ipython3",
   "version": "3.12.7"
  }
 },
 "nbformat": 4,
 "nbformat_minor": 2
}
