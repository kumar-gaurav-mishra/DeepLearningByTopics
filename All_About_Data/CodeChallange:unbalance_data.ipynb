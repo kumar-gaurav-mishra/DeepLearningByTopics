{
 "cells": [
  {
   "cell_type": "code",
   "execution_count": 2,
   "metadata": {},
   "outputs": [],
   "source": [
    "# Imports\n",
    "import torch\n",
    "import torch.nn as nn\n",
    "import torch.nn.functional as F\n",
    "import numpy as np\n",
    "import pandas as pd\n",
    "import seaborn as sns\n",
    "import time\n",
    "import scipy.stats as stats\n",
    "from sklearn.model_selection import train_test_split\n",
    "from torch.utils.data import DataLoader, TensorDataset\n",
    "from IPython import display\n",
    "import matplotlib.pyplot as plt\n",
    "import matplotlib_inline.backend_inline as backend_inline\n",
    "\n",
    "backend_inline.set_matplotlib_formats(\"svg\")\n",
    "\n",
    "\n",
    "#### Pytorch device specific configuration ###\n",
    "# # Pytorch Gpu Configuration for Cuda\n",
    "device = torch.device(\"cuda\" if torch.cuda.is_available() else \"cpu\")\n",
    "\n",
    "# For Directml Gpu Configurations\n",
    "# import torch_directml\n",
    "\n",
    "# device = torch_directml.device()\n",
    "\n",
    "# Set default device\n",
    "torch.set_default_device(device)\n",
    "\n",
    "# # Font update global for all plots\n",
    "# plt.rcParams.update({\"font.size\": 18})"
   ]
  },
  {
   "cell_type": "code",
   "execution_count": 5,
   "metadata": {},
   "outputs": [],
   "source": [
    "# import the data\n",
    "url = \"https://archive.ics.uci.edu/ml/machine-learning-databases/wine-quality/winequality-red.csv\"\n",
    "data = pd.read_csv(url, sep=\";\")\n",
    "data = data[data[\"total sulfur dioxide\"] < 200]  # drop a few outliers"
   ]
  },
  {
   "cell_type": "code",
   "execution_count": null,
   "metadata": {},
   "outputs": [],
   "source": [
    "def createUnbalancedData(threshold=5):\n",
    "    # z-score all columns except for quality\n",
    "    cols2zscore = data.keys()\n",
    "    cols2zscore = cols2zscore.drop(\"quality\")\n",
    "    data[cols2zscore] = data[cols2zscore].apply(stats.zscore)\n",
    "\n",
    "    # Binalizing quality field\n",
    "    data[\"boolQuality\"] = 0\n",
    "    data.loc[data[\"quality\"] >= threshold, \"boolQuality\"] = 1\n",
    "    print(data[[\"quality\", \"boolQuality\"]])\n",
    "\n",
    "    # convert from pandas dataframe to tensor\n",
    "    dataT = torch.tensor(data[cols2zscore].values).float()\n",
    "    labels = torch.tensor(data[\"boolQuality\"].values).float()\n",
    "\n",
    "    # transform to matrix\n",
    "    labels = labels.reshape(labels.shape[0], 1)\n",
    "    # use scikitlearn to split the data\n",
    "    train_data, test_data, train_labels, test_labels = train_test_split(\n",
    "        dataT, labels, test_size=0.1\n",
    "    )\n",
    "\n",
    "    # then convert them into PyTorch Datasets (note: already converted to tensors)\n",
    "    train_data = TensorDataset(train_data, train_labels)\n",
    "    test_data = TensorDataset(test_data, test_labels)\n",
    "\n",
    "    # finally, translate into dataloader objects\n",
    "    batchsize = 32\n",
    "    train_loader = DataLoader(\n",
    "        train_data,\n",
    "        batch_size=batchsize,\n",
    "        shuffle=True,\n",
    "        drop_last=True,\n",
    "        generator=torch.Generator(device),\n",
    "    )\n",
    "    test_loader = DataLoader(\n",
    "        test_data,\n",
    "        batch_size=test_data.tensors[0].shape[0],\n",
    "        generator=torch.Generator(device),\n",
    "    )\n",
    "    return train_loader, test_loader"
   ]
  },
  {
   "cell_type": "code",
   "execution_count": 18,
   "metadata": {},
   "outputs": [
    {
     "name": "stdout",
     "output_type": "stream",
     "text": [
      "      quality  boolQuality\n",
      "0           5            0\n",
      "1           5            0\n",
      "2           5            0\n",
      "3           6            1\n",
      "4           5            0\n",
      "...       ...          ...\n",
      "1594        5            0\n",
      "1595        6            1\n",
      "1596        6            1\n",
      "1597        5            0\n",
      "1598        6            1\n",
      "\n",
      "[1597 rows x 2 columns]\n"
     ]
    }
   ],
   "source": [
    "# Test the create unbalance data function\n",
    "train_loader, test_loader = createUnbalancedData(threshold=6)"
   ]
  },
  {
   "cell_type": "code",
   "execution_count": 24,
   "metadata": {},
   "outputs": [],
   "source": [
    "# Class to create a model\n",
    "def createWineNet():\n",
    "    # Model definition\n",
    "    class ANNwine(nn.Module):\n",
    "        def __init__(self):\n",
    "            super().__init__()\n",
    "            #### Layers\n",
    "            # Input\n",
    "            self.input = nn.Linear(11, 32)\n",
    "\n",
    "            # Hidden\n",
    "            self.fc1 = nn.Linear(32, 64)\n",
    "            self.fc2 = nn.Linear(64, 64)\n",
    "\n",
    "            # Output\n",
    "            self.output = nn.Linear(64, 1)\n",
    "\n",
    "            # Forward Function\n",
    "\n",
    "        def forward(self, x):\n",
    "            x = F.leaky_relu(self.input(x))\n",
    "            x = F.leaky_relu(self.fc1(x))\n",
    "            x = F.leaky_relu(self.fc2(x))\n",
    "\n",
    "            return self.output(x)\n",
    "\n",
    "    net = ANNwine()\n",
    "    # Loss Function\n",
    "    lossFun = nn.BCEWithLogitsLoss()\n",
    "\n",
    "    # Optimizer\n",
    "    optimizer = torch.optim.Adam(net.parameters(), lr=0.001)\n",
    "\n",
    "    return net, lossFun, optimizer"
   ]
  },
  {
   "cell_type": "code",
   "execution_count": 25,
   "metadata": {},
   "outputs": [
    {
     "data": {
      "text/plain": [
       "torch.Size([10, 1])"
      ]
     },
     "execution_count": 25,
     "metadata": {},
     "output_type": "execute_result"
    }
   ],
   "source": [
    "# Let's test the model\n",
    "net, lossFun, optimizer = createWineNet()\n",
    "\n",
    "net(torch.randn(10, 11)).shape"
   ]
  },
  {
   "cell_type": "code",
   "execution_count": 26,
   "metadata": {},
   "outputs": [],
   "source": [
    "# A function to train the model\n",
    "def trainTheModel(nEpochs):\n",
    "\n",
    "    # Model class Instantiation\n",
    "    net, lossFun, optimizer = createWineNet()\n",
    "\n",
    "    # Initiallize losses, train and test accuricies\n",
    "    losses = torch.zeros(nEpochs)\n",
    "    trainAcc = []\n",
    "    testAcc = []\n",
    "\n",
    "    # The loop\n",
    "    for epoch in range(nEpochs):\n",
    "\n",
    "        # Training mode\n",
    "        net.train()\n",
    "\n",
    "        # Initialize batch accuricies and losses\n",
    "        batchAcc = []\n",
    "        batchLoss = []\n",
    "\n",
    "        # The batch loop\n",
    "        for X, y in train_loader:\n",
    "\n",
    "            # Forward pass\n",
    "            yHat = net(X)\n",
    "            loss = lossFun(yHat, y)\n",
    "\n",
    "            # Backprop\n",
    "            optimizer.zero_grad()\n",
    "            loss.backward()\n",
    "            optimizer.step()\n",
    "\n",
    "            # Batch loss\n",
    "            batchLoss.append(loss.cpu().item())\n",
    "\n",
    "            # Batch Accuracy\n",
    "            batchAcc.append(100 * torch.mean(((yHat > 0) == y).float()).cpu().item())\n",
    "\n",
    "        # End of batch loop\n",
    "        # Train Accuracy for the epoch\n",
    "        trainAcc.append(np.mean(batchAcc))\n",
    "        # Losses across the batches\n",
    "        losses[epoch] = np.mean(batchLoss)\n",
    "\n",
    "        # test accuracy\n",
    "        net.eval()\n",
    "        X, y = next(iter(test_loader))  # extract X,y from test dataloader\n",
    "        with torch.no_grad():  # deactivates autograd\n",
    "            yHat = net(X)\n",
    "        testAcc.append(100 * torch.mean(((yHat > 0) == y).float()).cpu().item())\n",
    "\n",
    "        return trainAcc, testAcc, losses"
   ]
  },
  {
   "cell_type": "code",
   "execution_count": null,
   "metadata": {},
   "outputs": [
    {
     "name": "stdout",
     "output_type": "stream",
     "text": [
      "Training started for: 4.5\n",
      "      quality  boolQuality\n",
      "0           5            1\n",
      "1           5            1\n",
      "2           5            1\n",
      "3           6            1\n",
      "4           5            1\n",
      "...       ...          ...\n",
      "1594        5            1\n",
      "1595        6            1\n",
      "1596        6            1\n",
      "1597        5            1\n",
      "1598        6            1\n",
      "\n",
      "[1597 rows x 2 columns]\n"
     ]
    },
    {
     "ename": "RuntimeError",
     "evalue": "mat1 and mat2 shapes cannot be multiplied (32x12 and 11x32)",
     "output_type": "error",
     "traceback": [
      "\u001b[0;31m---------------------------------------------------------------------------\u001b[0m",
      "\u001b[0;31mRuntimeError\u001b[0m                              Traceback (most recent call last)",
      "Cell \u001b[0;32mIn[27], line 10\u001b[0m\n\u001b[1;32m      8\u001b[0m \u001b[38;5;28mprint\u001b[39m(\u001b[38;5;124mf\u001b[39m\u001b[38;5;124m'\u001b[39m\u001b[38;5;124mTraining started for: \u001b[39m\u001b[38;5;132;01m{\u001b[39;00mth\u001b[38;5;132;01m}\u001b[39;00m\u001b[38;5;124m'\u001b[39m)\n\u001b[1;32m      9\u001b[0m train_loader, test_loader \u001b[38;5;241m=\u001b[39m createUnbalancedData(threshold\u001b[38;5;241m=\u001b[39mth)\n\u001b[0;32m---> 10\u001b[0m trainAcc, testAcc, loss \u001b[38;5;241m=\u001b[39m trainTheModel(nEpochs)\n\u001b[1;32m     11\u001b[0m losses\u001b[38;5;241m.\u001b[39mappend(loss)\n\u001b[1;32m     12\u001b[0m trainAccs\u001b[38;5;241m.\u001b[39mappend(trainAcc)\n",
      "Cell \u001b[0;32mIn[26], line 26\u001b[0m, in \u001b[0;36mtrainTheModel\u001b[0;34m(nEpochs)\u001b[0m\n\u001b[1;32m     22\u001b[0m \u001b[38;5;66;03m# The batch loop\u001b[39;00m\n\u001b[1;32m     23\u001b[0m \u001b[38;5;28;01mfor\u001b[39;00m X, y \u001b[38;5;129;01min\u001b[39;00m train_loader:\n\u001b[1;32m     24\u001b[0m \n\u001b[1;32m     25\u001b[0m     \u001b[38;5;66;03m# Forward pass\u001b[39;00m\n\u001b[0;32m---> 26\u001b[0m     yHat \u001b[38;5;241m=\u001b[39m net(X)\n\u001b[1;32m     27\u001b[0m     loss \u001b[38;5;241m=\u001b[39m lossFun(yHat, y)\n\u001b[1;32m     29\u001b[0m     \u001b[38;5;66;03m# Backprop\u001b[39;00m\n",
      "File \u001b[0;32m~/.local/lib/python3.12/site-packages/torch/nn/modules/module.py:1736\u001b[0m, in \u001b[0;36mModule._wrapped_call_impl\u001b[0;34m(self, *args, **kwargs)\u001b[0m\n\u001b[1;32m   1734\u001b[0m     \u001b[38;5;28;01mreturn\u001b[39;00m \u001b[38;5;28mself\u001b[39m\u001b[38;5;241m.\u001b[39m_compiled_call_impl(\u001b[38;5;241m*\u001b[39margs, \u001b[38;5;241m*\u001b[39m\u001b[38;5;241m*\u001b[39mkwargs)  \u001b[38;5;66;03m# type: ignore[misc]\u001b[39;00m\n\u001b[1;32m   1735\u001b[0m \u001b[38;5;28;01melse\u001b[39;00m:\n\u001b[0;32m-> 1736\u001b[0m     \u001b[38;5;28;01mreturn\u001b[39;00m \u001b[38;5;28mself\u001b[39m\u001b[38;5;241m.\u001b[39m_call_impl(\u001b[38;5;241m*\u001b[39margs, \u001b[38;5;241m*\u001b[39m\u001b[38;5;241m*\u001b[39mkwargs)\n",
      "File \u001b[0;32m~/.local/lib/python3.12/site-packages/torch/nn/modules/module.py:1747\u001b[0m, in \u001b[0;36mModule._call_impl\u001b[0;34m(self, *args, **kwargs)\u001b[0m\n\u001b[1;32m   1742\u001b[0m \u001b[38;5;66;03m# If we don't have any hooks, we want to skip the rest of the logic in\u001b[39;00m\n\u001b[1;32m   1743\u001b[0m \u001b[38;5;66;03m# this function, and just call forward.\u001b[39;00m\n\u001b[1;32m   1744\u001b[0m \u001b[38;5;28;01mif\u001b[39;00m \u001b[38;5;129;01mnot\u001b[39;00m (\u001b[38;5;28mself\u001b[39m\u001b[38;5;241m.\u001b[39m_backward_hooks \u001b[38;5;129;01mor\u001b[39;00m \u001b[38;5;28mself\u001b[39m\u001b[38;5;241m.\u001b[39m_backward_pre_hooks \u001b[38;5;129;01mor\u001b[39;00m \u001b[38;5;28mself\u001b[39m\u001b[38;5;241m.\u001b[39m_forward_hooks \u001b[38;5;129;01mor\u001b[39;00m \u001b[38;5;28mself\u001b[39m\u001b[38;5;241m.\u001b[39m_forward_pre_hooks\n\u001b[1;32m   1745\u001b[0m         \u001b[38;5;129;01mor\u001b[39;00m _global_backward_pre_hooks \u001b[38;5;129;01mor\u001b[39;00m _global_backward_hooks\n\u001b[1;32m   1746\u001b[0m         \u001b[38;5;129;01mor\u001b[39;00m _global_forward_hooks \u001b[38;5;129;01mor\u001b[39;00m _global_forward_pre_hooks):\n\u001b[0;32m-> 1747\u001b[0m     \u001b[38;5;28;01mreturn\u001b[39;00m forward_call(\u001b[38;5;241m*\u001b[39margs, \u001b[38;5;241m*\u001b[39m\u001b[38;5;241m*\u001b[39mkwargs)\n\u001b[1;32m   1749\u001b[0m result \u001b[38;5;241m=\u001b[39m \u001b[38;5;28;01mNone\u001b[39;00m\n\u001b[1;32m   1750\u001b[0m called_always_called_hooks \u001b[38;5;241m=\u001b[39m \u001b[38;5;28mset\u001b[39m()\n",
      "Cell \u001b[0;32mIn[24], line 21\u001b[0m, in \u001b[0;36mcreateWineNet.<locals>.ANNwine.forward\u001b[0;34m(self, x)\u001b[0m\n\u001b[1;32m     20\u001b[0m \u001b[38;5;28;01mdef\u001b[39;00m \u001b[38;5;21mforward\u001b[39m(\u001b[38;5;28mself\u001b[39m, x):\n\u001b[0;32m---> 21\u001b[0m     x \u001b[38;5;241m=\u001b[39m F\u001b[38;5;241m.\u001b[39mleaky_relu(\u001b[38;5;28mself\u001b[39m\u001b[38;5;241m.\u001b[39minput(x))\n\u001b[1;32m     22\u001b[0m     x \u001b[38;5;241m=\u001b[39m F\u001b[38;5;241m.\u001b[39mleaky_relu(\u001b[38;5;28mself\u001b[39m\u001b[38;5;241m.\u001b[39mfc1(x))\n\u001b[1;32m     23\u001b[0m     x \u001b[38;5;241m=\u001b[39m F\u001b[38;5;241m.\u001b[39mleaky_relu(\u001b[38;5;28mself\u001b[39m\u001b[38;5;241m.\u001b[39mfc2(x))\n",
      "File \u001b[0;32m~/.local/lib/python3.12/site-packages/torch/nn/modules/module.py:1736\u001b[0m, in \u001b[0;36mModule._wrapped_call_impl\u001b[0;34m(self, *args, **kwargs)\u001b[0m\n\u001b[1;32m   1734\u001b[0m     \u001b[38;5;28;01mreturn\u001b[39;00m \u001b[38;5;28mself\u001b[39m\u001b[38;5;241m.\u001b[39m_compiled_call_impl(\u001b[38;5;241m*\u001b[39margs, \u001b[38;5;241m*\u001b[39m\u001b[38;5;241m*\u001b[39mkwargs)  \u001b[38;5;66;03m# type: ignore[misc]\u001b[39;00m\n\u001b[1;32m   1735\u001b[0m \u001b[38;5;28;01melse\u001b[39;00m:\n\u001b[0;32m-> 1736\u001b[0m     \u001b[38;5;28;01mreturn\u001b[39;00m \u001b[38;5;28mself\u001b[39m\u001b[38;5;241m.\u001b[39m_call_impl(\u001b[38;5;241m*\u001b[39margs, \u001b[38;5;241m*\u001b[39m\u001b[38;5;241m*\u001b[39mkwargs)\n",
      "File \u001b[0;32m~/.local/lib/python3.12/site-packages/torch/nn/modules/module.py:1747\u001b[0m, in \u001b[0;36mModule._call_impl\u001b[0;34m(self, *args, **kwargs)\u001b[0m\n\u001b[1;32m   1742\u001b[0m \u001b[38;5;66;03m# If we don't have any hooks, we want to skip the rest of the logic in\u001b[39;00m\n\u001b[1;32m   1743\u001b[0m \u001b[38;5;66;03m# this function, and just call forward.\u001b[39;00m\n\u001b[1;32m   1744\u001b[0m \u001b[38;5;28;01mif\u001b[39;00m \u001b[38;5;129;01mnot\u001b[39;00m (\u001b[38;5;28mself\u001b[39m\u001b[38;5;241m.\u001b[39m_backward_hooks \u001b[38;5;129;01mor\u001b[39;00m \u001b[38;5;28mself\u001b[39m\u001b[38;5;241m.\u001b[39m_backward_pre_hooks \u001b[38;5;129;01mor\u001b[39;00m \u001b[38;5;28mself\u001b[39m\u001b[38;5;241m.\u001b[39m_forward_hooks \u001b[38;5;129;01mor\u001b[39;00m \u001b[38;5;28mself\u001b[39m\u001b[38;5;241m.\u001b[39m_forward_pre_hooks\n\u001b[1;32m   1745\u001b[0m         \u001b[38;5;129;01mor\u001b[39;00m _global_backward_pre_hooks \u001b[38;5;129;01mor\u001b[39;00m _global_backward_hooks\n\u001b[1;32m   1746\u001b[0m         \u001b[38;5;129;01mor\u001b[39;00m _global_forward_hooks \u001b[38;5;129;01mor\u001b[39;00m _global_forward_pre_hooks):\n\u001b[0;32m-> 1747\u001b[0m     \u001b[38;5;28;01mreturn\u001b[39;00m forward_call(\u001b[38;5;241m*\u001b[39margs, \u001b[38;5;241m*\u001b[39m\u001b[38;5;241m*\u001b[39mkwargs)\n\u001b[1;32m   1749\u001b[0m result \u001b[38;5;241m=\u001b[39m \u001b[38;5;28;01mNone\u001b[39;00m\n\u001b[1;32m   1750\u001b[0m called_always_called_hooks \u001b[38;5;241m=\u001b[39m \u001b[38;5;28mset\u001b[39m()\n",
      "File \u001b[0;32m~/.local/lib/python3.12/site-packages/torch/nn/modules/linear.py:125\u001b[0m, in \u001b[0;36mLinear.forward\u001b[0;34m(self, input)\u001b[0m\n\u001b[1;32m    124\u001b[0m \u001b[38;5;28;01mdef\u001b[39;00m \u001b[38;5;21mforward\u001b[39m(\u001b[38;5;28mself\u001b[39m, \u001b[38;5;28minput\u001b[39m: Tensor) \u001b[38;5;241m-\u001b[39m\u001b[38;5;241m>\u001b[39m Tensor:\n\u001b[0;32m--> 125\u001b[0m     \u001b[38;5;28;01mreturn\u001b[39;00m F\u001b[38;5;241m.\u001b[39mlinear(\u001b[38;5;28minput\u001b[39m, \u001b[38;5;28mself\u001b[39m\u001b[38;5;241m.\u001b[39mweight, \u001b[38;5;28mself\u001b[39m\u001b[38;5;241m.\u001b[39mbias)\n",
      "File \u001b[0;32m~/.local/lib/python3.12/site-packages/torch/utils/_device.py:106\u001b[0m, in \u001b[0;36mDeviceContext.__torch_function__\u001b[0;34m(self, func, types, args, kwargs)\u001b[0m\n\u001b[1;32m    104\u001b[0m \u001b[38;5;28;01mif\u001b[39;00m func \u001b[38;5;129;01min\u001b[39;00m _device_constructors() \u001b[38;5;129;01mand\u001b[39;00m kwargs\u001b[38;5;241m.\u001b[39mget(\u001b[38;5;124m'\u001b[39m\u001b[38;5;124mdevice\u001b[39m\u001b[38;5;124m'\u001b[39m) \u001b[38;5;129;01mis\u001b[39;00m \u001b[38;5;28;01mNone\u001b[39;00m:\n\u001b[1;32m    105\u001b[0m     kwargs[\u001b[38;5;124m'\u001b[39m\u001b[38;5;124mdevice\u001b[39m\u001b[38;5;124m'\u001b[39m] \u001b[38;5;241m=\u001b[39m \u001b[38;5;28mself\u001b[39m\u001b[38;5;241m.\u001b[39mdevice\n\u001b[0;32m--> 106\u001b[0m \u001b[38;5;28;01mreturn\u001b[39;00m func(\u001b[38;5;241m*\u001b[39margs, \u001b[38;5;241m*\u001b[39m\u001b[38;5;241m*\u001b[39mkwargs)\n",
      "\u001b[0;31mRuntimeError\u001b[0m: mat1 and mat2 shapes cannot be multiplied (32x12 and 11x32)"
     ]
    }
   ],
   "source": [
    "# Params for the Experiment\n",
    "nEpochs = 500\n",
    "therosholds = [4.5, 5.5, 6.5]\n",
    "losses = []\n",
    "trainAccs = []\n",
    "testAccs = []\n",
    "for i, th in enumerate(therosholds):\n",
    "    print(f\"Training started for: {th}\")\n",
    "    train_loader, test_loader = createUnbalancedData(threshold=th)\n",
    "    trainAcc, testAcc, loss = trainTheModel(nEpochs)\n",
    "    losses.append(loss)\n",
    "    trainAccs.append(trainAcc)\n",
    "    testAccs.append(testAcc)\n",
    "    print(f\"Training Completed for: {th}\")"
   ]
  }
 ],
 "metadata": {
  "kernelspec": {
   "display_name": "base",
   "language": "python",
   "name": "python3"
  },
  "language_info": {
   "codemirror_mode": {
    "name": "ipython",
    "version": 3
   },
   "file_extension": ".py",
   "mimetype": "text/x-python",
   "name": "python",
   "nbconvert_exporter": "python",
   "pygments_lexer": "ipython3",
   "version": "3.12.7"
  }
 },
 "nbformat": 4,
 "nbformat_minor": 2
}
