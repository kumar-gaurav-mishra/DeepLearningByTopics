{
 "cells": [
  {
   "cell_type": "code",
   "execution_count": 17,
   "metadata": {},
   "outputs": [],
   "source": [
    "# Imports\n",
    "import numpy as np\n",
    "\n",
    "import torch\n",
    "import torch.nn as nn\n",
    "import torch.nn.functional as F\n",
    "\n",
    "# Pytorch Gpu Configuration\n",
    "device = torch.device(\"cuda\" if torch.cuda.is_available() else \"cpu\")\n",
    "torch.set_default_device(device)\n",
    "\n",
    "import matplotlib.pyplot as plt\n",
    "\n",
    "# Matplotlib svg plots for better pictures\n",
    "import matplotlib_inline.backend_inline\n",
    "\n",
    "matplotlib_inline.backend_inline.set_matplotlib_formats(\"svg\")\n",
    "\n",
    "import seaborn as sns\n",
    "import pandas as pd\n",
    "from torchsummary import summary"
   ]
  },
  {
   "cell_type": "code",
   "execution_count": 18,
   "metadata": {},
   "outputs": [
    {
     "name": "stdout",
     "output_type": "stream",
     "text": [
      "       sepal_length  sepal_width  petal_length  petal_width\n",
      "count    150.000000   150.000000    150.000000   150.000000\n",
      "mean       5.843333     3.057333      3.758000     1.199333\n",
      "std        0.828066     0.435866      1.765298     0.762238\n",
      "min        4.300000     2.000000      1.000000     0.100000\n",
      "25%        5.100000     2.800000      1.600000     0.300000\n",
      "50%        5.800000     3.000000      4.350000     1.300000\n",
      "75%        6.400000     3.300000      5.100000     1.800000\n",
      "max        7.900000     4.400000      6.900000     2.500000\n"
     ]
    }
   ],
   "source": [
    "# Import datasets\n",
    "iris_data = pd.read_csv(\n",
    "    \"https://raw.githubusercontent.com/mwaskom/seaborn-data/master/iris.csv\"\n",
    ")\n",
    "print(iris_data.describe())\n",
    "data = torch.tensor(iris_data[iris_data.columns[0:4]].values).float()\n",
    "\n",
    "# Transfer species to number\n",
    "labels = torch.zeros(len(data), dtype=torch.long)\n",
    "labels[iris_data.species == \"versicolor\"] = 1\n",
    "labels[iris_data.species == \"virginica\"] = 2"
   ]
  },
  {
   "cell_type": "code",
   "execution_count": null,
   "metadata": {},
   "outputs": [],
   "source": [
    "# Create class for the model\n",
    "\n",
    "\n",
    "class NNiris(nn.Module):\n",
    "    def __init__(self, nUnits, nLayers):\n",
    "        super().__init__()\n",
    "\n",
    "        # Create dictionary to store the layers\n",
    "        self.layers = nn.ModuleDict()\n",
    "        self.nLayers = nLayers\n",
    "\n",
    "        ### Input Layer\n",
    "        self.layers[\"input\"] = nn.Linear(4, nUnits)\n",
    "\n",
    "        # Hidden Layers\n",
    "        for i in range(nLayers):\n",
    "            self.layers[f\"hidden{i}\"] = nn.Linear(nUnits, nUnits)\n",
    "\n",
    "        ### Output Layers\n",
    "        self.layers[\"output\"] = nn.Linear(nUnits, 3)\n",
    "\n",
    "    # Forward Pass\n",
    "    def forward(self, x):\n",
    "        # Input Layer\n",
    "        x = F.relu(self.layers[\"input\"](x))\n",
    "\n",
    "        # Hidden Layers\n",
    "        print(self.nLayers)\n",
    "        for i in range(self.nLayers):\n",
    "            print(f\"{i} th forward\")\n",
    "            x = F.relu(self.layers[f\"hidden{i}\"](x))\n",
    "\n",
    "        # Output Layers\n",
    "        x = self.layers[\"output\"](x)\n",
    "\n",
    "        return x"
   ]
  },
  {
   "cell_type": "code",
   "execution_count": 26,
   "metadata": {},
   "outputs": [
    {
     "name": "stdout",
     "output_type": "stream",
     "text": [
      "=================================================================\n",
      "Layer (type:depth-idx)                   Param #\n",
      "=================================================================\n",
      "├─ModuleDict: 1-1                        --\n",
      "|    └─Linear: 2-1                       60\n",
      "|    └─Linear: 2-2                       156\n",
      "|    └─Linear: 2-3                       156\n",
      "|    └─Linear: 2-4                       156\n",
      "|    └─Linear: 2-5                       156\n",
      "|    └─Linear: 2-6                       156\n",
      "|    └─Linear: 2-7                       39\n",
      "=================================================================\n",
      "Total params: 879\n",
      "Trainable params: 879\n",
      "Non-trainable params: 0\n",
      "=================================================================\n"
     ]
    },
    {
     "data": {
      "text/plain": [
       "=================================================================\n",
       "Layer (type:depth-idx)                   Param #\n",
       "=================================================================\n",
       "├─ModuleDict: 1-1                        --\n",
       "|    └─Linear: 2-1                       60\n",
       "|    └─Linear: 2-2                       156\n",
       "|    └─Linear: 2-3                       156\n",
       "|    └─Linear: 2-4                       156\n",
       "|    └─Linear: 2-5                       156\n",
       "|    └─Linear: 2-6                       156\n",
       "|    └─Linear: 2-7                       39\n",
       "=================================================================\n",
       "Total params: 879\n",
       "Trainable params: 879\n",
       "Non-trainable params: 0\n",
       "================================================================="
      ]
     },
     "execution_count": 26,
     "metadata": {},
     "output_type": "execute_result"
    }
   ],
   "source": [
    "# Model Instance\n",
    "nUnitsPerLayer = 12\n",
    "nLayers = 5\n",
    "nn_net = NNiris(nUnitsPerLayer, nLayers)\n",
    "summary(nn_net)"
   ]
  },
  {
   "cell_type": "code",
   "execution_count": null,
   "metadata": {},
   "outputs": [
    {
     "name": "stdout",
     "output_type": "stream",
     "text": [
      "torch.Size([20, 4])\n",
      " \n",
      "5\n",
      "0 th forward\n",
      "1 th forward\n",
      "2 th forward\n",
      "3 th forward\n",
      "4 th forward\n",
      " \n",
      "torch.Size([20, 3])\n",
      " \n",
      "tensor([[ 0.1185, -0.0623,  0.2059],\n",
      "        [ 0.1185, -0.0623,  0.2059],\n",
      "        [ 0.1185, -0.0623,  0.2059],\n",
      "        [ 0.1183, -0.0624,  0.2057],\n",
      "        [ 0.1184, -0.0624,  0.2057],\n",
      "        [ 0.1184, -0.0625,  0.2057],\n",
      "        [ 0.1184, -0.0624,  0.2058],\n",
      "        [ 0.1181, -0.0626,  0.2053],\n",
      "        [ 0.1185, -0.0623,  0.2059],\n",
      "        [ 0.1186, -0.0623,  0.2060],\n",
      "        [ 0.1183, -0.0625,  0.2057],\n",
      "        [ 0.1183, -0.0626,  0.2055],\n",
      "        [ 0.1167, -0.0616,  0.2048],\n",
      "        [ 0.1178, -0.0627,  0.2049],\n",
      "        [ 0.1184, -0.0624,  0.2058],\n",
      "        [ 0.1185, -0.0623,  0.2059],\n",
      "        [ 0.1184, -0.0624,  0.2058],\n",
      "        [ 0.1180, -0.0627,  0.2051],\n",
      "        [ 0.1183, -0.0626,  0.2055],\n",
      "        [ 0.1183, -0.0625,  0.2056]], device='cuda:0',\n",
      "       grad_fn=<AddmmBackward0>)\n"
     ]
    }
   ],
   "source": [
    "# Sanity testing the model\n",
    "# 20 Samples 4 dimensions\n",
    "tmp_x = torch.randn(20, 4)\n",
    "print(tmp_x.shape)\n",
    "print(\" \")\n",
    "\n",
    "y = nn_net(tmp_x)\n",
    "\n",
    "print(\" \")\n",
    "print(y.shape)\n",
    "print(\" \")\n",
    "print(y)"
   ]
  },
  {
   "cell_type": "code",
   "execution_count": null,
   "metadata": {},
   "outputs": [],
   "source": []
  }
 ],
 "metadata": {
  "kernelspec": {
   "display_name": "base",
   "language": "python",
   "name": "python3"
  },
  "language_info": {
   "codemirror_mode": {
    "name": "ipython",
    "version": 3
   },
   "file_extension": ".py",
   "mimetype": "text/x-python",
   "name": "python",
   "nbconvert_exporter": "python",
   "pygments_lexer": "ipython3",
   "version": "3.12.7"
  }
 },
 "nbformat": 4,
 "nbformat_minor": 2
}
