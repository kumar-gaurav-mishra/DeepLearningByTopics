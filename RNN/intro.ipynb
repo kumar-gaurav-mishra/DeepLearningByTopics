{
 "cells": [
  {
   "cell_type": "code",
   "execution_count": 1,
   "id": "eee1e800",
   "metadata": {},
   "outputs": [],
   "source": [
    "# Imports\n",
    "import numpy as np\n",
    "\n",
    "import torch\n",
    "import torch.nn as nn\n",
    "import torch.nn.functional as F\n",
    "\n",
    "\n",
    "from sklearn.model_selection import train_test_split\n",
    "from torch.utils.data import DataLoader, Subset, TensorDataset\n",
    "\n",
    "from torchsummary import summary\n",
    "import torchvision as tv\n",
    "import torchvision.transforms as T\n",
    "import copy\n",
    "\n",
    "import matplotlib.pyplot as plt\n",
    "import matplotlib_inline.backend_inline as backend_inline\n",
    "\n",
    "backend_inline.set_matplotlib_formats(\"svg\")\n",
    "\n",
    "\n",
    "#### Pytorch device specific configuration ###\n",
    "\n",
    "# Pytorch Gpu Configuration for Cuda\n",
    "device = torch.device(\"cuda\" if torch.cuda.is_available() else \"cpu\")\n",
    "\n",
    "# # Pytorch Gpu Configuration for directml(AMD GPU)\n",
    "# import torch_directml\n",
    "\n",
    "# device = torch_directml.device()\n",
    "\n",
    "# Set default device\n",
    "torch.set_default_device(device)\n"
   ]
  },
  {
   "cell_type": "code",
   "execution_count": 2,
   "id": "b144466e",
   "metadata": {},
   "outputs": [
    {
     "name": "stdout",
     "output_type": "stream",
     "text": [
      "RNN(9, 16)\n"
     ]
    }
   ],
   "source": [
    "# Set layer parameters\n",
    "input_size = 9  # Number of features to extract\n",
    "hidden_size = 16 # Number of units in the hidden state\n",
    "num_layers = 1 # Number of vertical stack to hidden layers ( Note: Only final layer gives the output)\n",
    "\n",
    "actfun = 'tanh'\n",
    "bias = True\n",
    "\n",
    "# Create RNN instance\n",
    "rnn = nn.RNN(input_size, hidden_size, num_layers, nonlinearity=actfun, bias=bias)\n",
    "print(rnn)\n"
   ]
  },
  {
   "cell_type": "code",
   "execution_count": null,
   "id": "a38481df",
   "metadata": {},
   "outputs": [],
   "source": []
  }
 ],
 "metadata": {
  "kernelspec": {
   "display_name": "base",
   "language": "python",
   "name": "python3"
  },
  "language_info": {
   "codemirror_mode": {
    "name": "ipython",
    "version": 3
   },
   "file_extension": ".py",
   "mimetype": "text/x-python",
   "name": "python",
   "nbconvert_exporter": "python",
   "pygments_lexer": "ipython3",
   "version": "3.12.7"
  }
 },
 "nbformat": 4,
 "nbformat_minor": 5
}
