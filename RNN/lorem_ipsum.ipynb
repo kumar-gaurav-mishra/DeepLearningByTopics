{
 "cells": [
  {
   "cell_type": "code",
   "execution_count": 2,
   "id": "d717dc2d",
   "metadata": {},
   "outputs": [],
   "source": [
    "# Imports\n",
    "import numpy as np\n",
    "import sys\n",
    "\n",
    "import torch\n",
    "import torch.nn as nn\n",
    "import torch.nn.functional as F\n",
    "\n",
    "\n",
    "from sklearn.model_selection import train_test_split\n",
    "from torch.utils.data import DataLoader, Subset, TensorDataset\n",
    "\n",
    "from torchsummary import summary\n",
    "import torchvision as tv\n",
    "import torchvision.transforms as T\n",
    "import copy\n",
    "import math\n",
    "from IPython.display import set_matplotlib_formats\n",
    "import matplotlib.pyplot as plt\n",
    "import matplotlib_inline.backend_inline as backend_inline\n",
    "\n",
    "backend_inline.set_matplotlib_formats(\"svg\")\n",
    "\n",
    "\n",
    "#### Pytorch device specific configuration ###\n",
    "\n",
    "# Pytorch Gpu Configuration for Cuda\n",
    "device = torch.device(\"cuda\" if torch.cuda.is_available() else \"cpu\")\n",
    "\n",
    "# # Pytorch Gpu Configuration for directml(AMD GPU)\n",
    "# import torch_directml\n",
    "\n",
    "# device = torch_directml.device()\n",
    "\n",
    "# Set default device\n",
    "torch.set_default_device(device)\n"
   ]
  },
  {
   "cell_type": "code",
   "execution_count": 3,
   "id": "41b473ec",
   "metadata": {},
   "outputs": [
    {
     "name": "stdout",
     "output_type": "stream",
     "text": [
      "lorem ipsum dolor sit amet, consectetur adipiscing elit. praesent molestie sapien auctor eleifend egestas. fusce at purus sodales, viverra nunc quis, consequat augue. vestibulum eget tempus lorem, et blandit dui. suspendisse ac gravida odio. maecenas consequat tristique mi, vitae rutrum lacus pulvinar vitae. nunc ullamcorper nulla eu velit vehicula, vitae facilisis erat dignissim. proin consectetur nec lacus ac pellentesque. nulla purus ligula, commodo id tellus id, efficitur varius massa. phasellus et volutpat felis, gravida imperdiet justo. cras metus velit, aliquet et tristique sit amet, elementum ultrices dui. nullam condimentum quis orci quis pretium. mauris tincidunt ante nec ex tristique, a commodo quam eleifend. nam convallis ultrices magna fringilla porta. phasellus non lobortis nisi. donec nec lectus ligula. maecenas id purus at lectus auctor finibus sit amet et enim. vivamus nibh urna, dapibus sed porta in, sodales vitae elit. fusce sed facilisis elit, ut porta massa. vivamus blandit congue erat eget rutrum. nullam mollis, eros et laoreet euismod, nunc mi condimentum eros, mollis pretium mi orci in nibh. pellentesque rhoncus justo et pretium tempor. ut gravida egestas quam, sit amet sagittis tortor scelerisque in. vestibulum sed odio urna. donec semper quis erat quis laoreet. ut malesuada volutpat sem ac luctus. vestibulum ante ipsum primis in faucibus orci luctus et ultrices posuere cubilia curae; praesent sed bibendum sapien, id imperdiet elit. vestibulum erat lorem, finibus eu enim non, posuere tempus velit. vestibulum a massa id orci interdum malesuada eu vel tellus. proin tempus viverra scelerisque. nullam suscipit laoreet nisl, id consequat sem porttitor et. integer congue urna lacus, ac feugiat arcu tincidunt eget. aliquam erat volutpat. vivamus accumsan semper gravida. mauris porta magna vitae semper hendrerit. vestibulum urna nunc, faucibus sit amet auctor sed, scelerisque nec est. nulla ut sagittis urna. proin fermentum turpis non iaculis tincidunt. maecenas scelerisque rutrum hendrerit. sed fermentum vehicula molestie. sed nec rutrum nisi. class aptent taciti sociosqu ad litora torquent per conubia nostra, per inceptos himenaeos. cras malesuada, magna in ornare pretium, leo tellus sodales tortor, sit amet fermentum nunc odio eu enim. quisque placerat eros ornare nulla vulputate, at efficitur sem convallis. sed libero risus, viverra a turpis a, sollicitudin feugiat neque. fusce vitae erat commodo, consectetur lacus vel, sollicitudin lorem. nunc sed risus arcu. pellentesque nec eleifend risus, a fringilla odio. sed auctor augue a rutrum maximus. maecenas suscipit tellus sem, vitae suscipit nisl euismod a. phasellus elementum sodales urna, ac fringilla mi malesuada id. suspendisse sollicitudin rhoncus dolor ut consequat. duis tincidunt quis neque nec tincidunt. fusce vitae sagittis nulla. suspendisse ac varius mauris. maecenas dapibus posuere velit, nec pellentesque quam sagittis a. nunc aliquet justo vitae justo pharetra consectetur. nam porttitor at nisl sit amet ullamcorper. sed rutrum, nulla ac porttitor pulvinar, nisi leo hendrerit magna, non luctus nibh risus eget est. quisque pulvinar rutrum vehicula. ut tempor placerat sollicitudin. etiam pharetra sit amet nulla at fringilla. pellentesque feugiat odio ligula, ac ullamcorper leo vulputate a. vestibulum placerat interdum arcu, sit amet ullamcorper ipsum finibus sed. aliquam erat volutpat. nam tincidunt, augue eu eleifend dictum, tellus sem blandit sem, et pulvinar ex purus sed leo. nullam ultricies tincidunt sem, imperdiet condimentum ex porttitor at. nunc id lacus sit amet nibh elementum dignissim. nam facilisis tincidunt tincidunt. suspendisse in mauris vel dui imperdiet facilisis. aenean eu neque tortor. cras sit amet mi nibh. mauris sit amet feugiat nulla. nam ac leo ipsum. vestibulum id enim sit amet est pharetra consectetur. vestibulum et lacus sed ipsum placerat blandit vitae quis nisl. curabitur lacus est, euismod non accumsan sed, accumsan nec lectus. pellentesque habitant morbi tristique senectus et netus et malesuada fames ac turpis egestas. maecenas ultrices eros in erat molestie interdum. nunc et tellus orci. maecenas et magna ornare mauris sodales malesuada. duis iaculis ipsum non laoreet porta. aenean vitae purus tempor, porttitor arcu id, bibendum enim. aliquam faucibus congue eros, eget feugiat risus venenatis a. duis malesuada, sem eu mattis placerat, velit lectus varius tellus, eget placerat nibh quam non turpis. donec auctor pellentesque odio, nec pulvinar nisi fermentum eget. mauris eget eleifend metus. mauris venenatis arcu semper erat facilisis, malesuada viverra tortor imperdiet. nunc ut quam sit amet ex varius euismod. mauris eleifend lectus venenatis risus mattis consequat. nulla a eros non erat egestas consequat nec volutpat neque. in diam nulla, mollis ut semper nec, vulputate luctus odio. morbi ac elementum quam, ut vestibulum sem. ut tincidunt sapien ac fermentum ullamcorper. cras convallis tortor quis malesuada dignissim. suspendisse rutrum cursus diam, in consequat nisi vulputate sit amet. nunc euismod consectetur libero eu pulvinar. ut finibus scelerisque lectus vel auctor. vivamus congue non sem et tincidunt. vestibulum vehicula erat sed nisi mattis aliquet. class aptent taciti sociosqu ad litora torquent per conubia nostra, per inceptos himenaeos. etiam pulvinar tortor enim, vel blandit mauris sodales quis. ut bibendum dui non posuere pellentesque. phasellus metus diam, blandit accumsan porta a, pharetra nec nulla. nam pulvinar, lacus et ornare luctus, magna orci tincidunt lorem, porttitor tincidunt enim mi a ligula. pellentesque habitant morbi tristique senectus et netus et malesuada fames ac turpis egestas. etiam quis mi porta, mattis velit vel, rhoncus nisi. etiam lobortis placerat lacus.\n"
     ]
    }
   ],
   "source": [
    "text = \"Lorem ipsum dolor sit amet, consectetur adipiscing elit. Praesent molestie sapien auctor eleifend egestas. Fusce at purus sodales, viverra nunc quis, consequat augue. Vestibulum eget tempus lorem, et blandit dui. Suspendisse ac gravida odio. Maecenas consequat tristique mi, vitae rutrum lacus pulvinar vitae. Nunc ullamcorper nulla eu velit vehicula, vitae facilisis erat dignissim. Proin consectetur nec lacus ac pellentesque. Nulla purus ligula, commodo id tellus id, efficitur varius massa. Phasellus et volutpat felis, gravida imperdiet justo. Cras metus velit, aliquet et tristique sit amet, elementum ultrices dui. Nullam condimentum quis orci quis pretium. Mauris tincidunt ante nec ex tristique, a commodo quam eleifend. Nam convallis ultrices magna fringilla porta. Phasellus non lobortis nisi. Donec nec lectus ligula. Maecenas id purus at lectus auctor finibus sit amet et enim. Vivamus nibh urna, dapibus sed porta in, sodales vitae elit. Fusce sed facilisis elit, ut porta massa. Vivamus blandit congue erat eget rutrum. Nullam mollis, eros et laoreet euismod, nunc mi condimentum eros, mollis pretium mi orci in nibh. Pellentesque rhoncus justo et pretium tempor. Ut gravida egestas quam, sit amet sagittis tortor scelerisque in. Vestibulum sed odio urna. Donec semper quis erat quis laoreet. Ut malesuada volutpat sem ac luctus. Vestibulum ante ipsum primis in faucibus orci luctus et ultrices posuere cubilia curae; Praesent sed bibendum sapien, id imperdiet elit. Vestibulum erat lorem, finibus eu enim non, posuere tempus velit. Vestibulum a massa id orci interdum malesuada eu vel tellus. Proin tempus viverra scelerisque. Nullam suscipit laoreet nisl, id consequat sem porttitor et. Integer congue urna lacus, ac feugiat arcu tincidunt eget. Aliquam erat volutpat. Vivamus accumsan semper gravida. Mauris porta magna vitae semper hendrerit. Vestibulum urna nunc, faucibus sit amet auctor sed, scelerisque nec est. Nulla ut sagittis urna. Proin fermentum turpis non iaculis tincidunt. Maecenas scelerisque rutrum hendrerit. Sed fermentum vehicula molestie. Sed nec rutrum nisi. Class aptent taciti sociosqu ad litora torquent per conubia nostra, per inceptos himenaeos. Cras malesuada, magna in ornare pretium, leo tellus sodales tortor, sit amet fermentum nunc odio eu enim. Quisque placerat eros ornare nulla vulputate, at efficitur sem convallis. Sed libero risus, viverra a turpis a, sollicitudin feugiat neque. Fusce vitae erat commodo, consectetur lacus vel, sollicitudin lorem. Nunc sed risus arcu. Pellentesque nec eleifend risus, a fringilla odio. Sed auctor augue a rutrum maximus. Maecenas suscipit tellus sem, vitae suscipit nisl euismod a. Phasellus elementum sodales urna, ac fringilla mi malesuada id. Suspendisse sollicitudin rhoncus dolor ut consequat. Duis tincidunt quis neque nec tincidunt. Fusce vitae sagittis nulla. Suspendisse ac varius mauris. Maecenas dapibus posuere velit, nec pellentesque quam sagittis a. Nunc aliquet justo vitae justo pharetra consectetur. Nam porttitor at nisl sit amet ullamcorper. Sed rutrum, nulla ac porttitor pulvinar, nisi leo hendrerit magna, non luctus nibh risus eget est. Quisque pulvinar rutrum vehicula. Ut tempor placerat sollicitudin. Etiam pharetra sit amet nulla at fringilla. Pellentesque feugiat odio ligula, ac ullamcorper leo vulputate a. Vestibulum placerat interdum arcu, sit amet ullamcorper ipsum finibus sed. Aliquam erat volutpat. Nam tincidunt, augue eu eleifend dictum, tellus sem blandit sem, et pulvinar ex purus sed leo. Nullam ultricies tincidunt sem, imperdiet condimentum ex porttitor at. Nunc id lacus sit amet nibh elementum dignissim. Nam facilisis tincidunt tincidunt. Suspendisse in mauris vel dui imperdiet facilisis. Aenean eu neque tortor. Cras sit amet mi nibh. Mauris sit amet feugiat nulla. Nam ac leo ipsum. Vestibulum id enim sit amet est pharetra consectetur. Vestibulum et lacus sed ipsum placerat blandit vitae quis nisl. Curabitur lacus est, euismod non accumsan sed, accumsan nec lectus. Pellentesque habitant morbi tristique senectus et netus et malesuada fames ac turpis egestas. Maecenas ultrices eros in erat molestie interdum. Nunc et tellus orci. Maecenas et magna ornare mauris sodales malesuada. Duis iaculis ipsum non laoreet porta. Aenean vitae purus tempor, porttitor arcu id, bibendum enim. Aliquam faucibus congue eros, eget feugiat risus venenatis a. Duis malesuada, sem eu mattis placerat, velit lectus varius tellus, eget placerat nibh quam non turpis. Donec auctor pellentesque odio, nec pulvinar nisi fermentum eget. Mauris eget eleifend metus. Mauris venenatis arcu semper erat facilisis, malesuada viverra tortor imperdiet. Nunc ut quam sit amet ex varius euismod. Mauris eleifend lectus venenatis risus mattis consequat. Nulla a eros non erat egestas consequat nec volutpat neque. In diam nulla, mollis ut semper nec, vulputate luctus odio. Morbi ac elementum quam, ut vestibulum sem. Ut tincidunt sapien ac fermentum ullamcorper. Cras convallis tortor quis malesuada dignissim. Suspendisse rutrum cursus diam, in consequat nisi vulputate sit amet. Nunc euismod consectetur libero eu pulvinar. Ut finibus scelerisque lectus vel auctor. Vivamus congue non sem et tincidunt. Vestibulum vehicula erat sed nisi mattis aliquet. Class aptent taciti sociosqu ad litora torquent per conubia nostra, per inceptos himenaeos. Etiam pulvinar tortor enim, vel blandit mauris sodales quis. Ut bibendum dui non posuere pellentesque. Phasellus metus diam, blandit accumsan porta a, pharetra nec nulla. Nam pulvinar, lacus et ornare luctus, magna orci tincidunt lorem, porttitor tincidunt enim mi a ligula. Pellentesque habitant morbi tristique senectus et netus et malesuada fames ac turpis egestas. Etiam quis mi porta, mattis velit vel, rhoncus nisi. Etiam lobortis placerat lacus.\".lower()\n",
    "# generated at https://www.lipsum.com/\n",
    "\n",
    "print(text)\n"
   ]
  },
  {
   "cell_type": "code",
   "execution_count": null,
   "id": "92718009",
   "metadata": {},
   "outputs": [],
   "source": []
  }
 ],
 "metadata": {
  "kernelspec": {
   "display_name": "base",
   "language": "python",
   "name": "python3"
  },
  "language_info": {
   "codemirror_mode": {
    "name": "ipython",
    "version": 3
   },
   "file_extension": ".py",
   "mimetype": "text/x-python",
   "name": "python",
   "nbconvert_exporter": "python",
   "pygments_lexer": "ipython3",
   "version": "3.12.7"
  }
 },
 "nbformat": 4,
 "nbformat_minor": 5
}
